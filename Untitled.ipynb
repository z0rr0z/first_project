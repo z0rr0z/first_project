{
 "cells": [
  {
   "cell_type": "markdown",
   "id": "ce462a32",
   "metadata": {},
   "source": [
    "<b>Привет!</b>\n",
    "\n",
    "Меня зовут Харочкина Екатерина , и я буду проверять твой проект. Давай общаться на «ты», но если это неудобно, пожалуйста, сообщи. Моя основная цель — не указать на совершенные тобою ошибки, а поделиться своим опытом и помочь тебе совершенствоваться как профессионалу.\n",
    "\n",
    "Ты подготовил замечательный проект, но есть аспекты, которые еще можно улучшить. Я буду использовать комментарии с цветовой разметкой. Пожалуйста, **не перемещай, не изменяй и не удаляй их**. Это поможет выполнить повторную проверку твоего проекта оперативнее.\n",
    "\n",
    "<div class=\"alert alert-danger\">\n",
    "<b>Комментарий ревьюера №1</b> ❌\n",
    "    \n",
    "Таким комментарием выделены самые важные замечания. Без их отработки проект не будет принят.\n",
    "</div>\n",
    "\n",
    "<div class=\"alert alert-warning\">\n",
    "<b>Комментарий ревьюера №1</b> ⚠️\n",
    "    \n",
    "Таким комментарием выделены небольшие замечания и рекомендации, которые будет хорошо учесть.\n",
    "</div>\n",
    "\n",
    "<div class=\"alert alert-success\">\n",
    "<b>Комментарий ревьюера №1</b> ✅\n",
    "    \n",
    "Таким комментарием выделены удачные решения🙂\n",
    "</div>\n",
    "\n",
    "Свои комментарии ты можешь помечать синим цветом.\n",
    "\n",
    "<div class=\"alert alert-info\">\n",
    "<b>Комментарий студента №1</b>\n",
    "    \n",
    "Так ты можешь оформить свой комментарий\n",
    "</div>\n",
    "\n",
    "Давай работать над проектом в диалоге: если ты **что-то меняешь** в проекте по моим рекомендациям — **пиши об этом**. После того, как ты все доработаешь, я смогу принять твой проект!) "
   ]
  },
  {
   "cell_type": "markdown",
   "id": "4e59f5b5",
   "metadata": {
    "deletable": false,
    "editable": false,
    "id": "c81daeeb"
   },
   "source": [
    "# Исследование надежности заемщиков\n"
   ]
  },
  {
   "cell_type": "markdown",
   "id": "1ff59f02",
   "metadata": {},
   "source": [
    "<div class=\"alert alert-success\">\n",
    "<b>Комментарий ревьюера №1</b> ✅\n",
    "    \n",
    "Хорошая практика начинать проект с контекста, описания задачи, возможного хода исследования, а также описания имеющихся данных. Можно тут также добавить содержание с гиперссылками. Про оформление работы можно почитать в материалах курса:\n",
    "    \n",
    "`Полезные инструкции для учёбы - Оформление проекта - Рекомендации по выполнению проектов`\n",
    "</div>"
   ]
  },
  {
   "cell_type": "markdown",
   "id": "edd48e46",
   "metadata": {},
   "source": [
    "<div class=\"alert alert-info\">\n",
    "<b>Комментарий студента №1</b>\n",
    "    \n",
    "Хоть комментарий и зеленый, попробую сделать вводную часть (оглавление, описание задачи и описание данных):\n",
    "</div>"
   ]
  },
  {
   "cell_type": "markdown",
   "id": "be283c26",
   "metadata": {
    "toc": true
   },
   "source": [
    "<h1>Оглавление<span class=\"tocSkip\"></span></h1>\n",
    "<div class=\"toc\"><ul class=\"toc-item\"><li><span><a href=\"#Откройте-таблицу-и-изучите-общую-информацию-о-данных\" data-toc-modified-id=\"Откройте-таблицу-и-изучите-общую-информацию-о-данных-1\"><span class=\"toc-item-num\">1&nbsp;&nbsp;</span>Откройте таблицу и изучите общую информацию о данных</a></span></li><li><span><a href=\"#Предобработка-данных\" data-toc-modified-id=\"Предобработка-данных-2\"><span class=\"toc-item-num\">2&nbsp;&nbsp;</span>Предобработка данных</a></span><ul class=\"toc-item\"><li><span><a href=\"#Удаление-пропусков\" data-toc-modified-id=\"Удаление-пропусков-2.1\"><span class=\"toc-item-num\">2.1&nbsp;&nbsp;</span>Удаление пропусков</a></span></li><li><span><a href=\"#Обработка-аномальных-значений\" data-toc-modified-id=\"Обработка-аномальных-значений-2.2\"><span class=\"toc-item-num\">2.2&nbsp;&nbsp;</span>Обработка аномальных значений</a></span></li><li><span><a href=\"#Удаление-пропусков-(продолжение)\" data-toc-modified-id=\"Удаление-пропусков-(продолжение)-2.3\"><span class=\"toc-item-num\">2.3&nbsp;&nbsp;</span>Удаление пропусков (продолжение)</a></span></li><li><span><a href=\"#Изменение-типов-данных\" data-toc-modified-id=\"Изменение-типов-данных-2.4\"><span class=\"toc-item-num\">2.4&nbsp;&nbsp;</span>Изменение типов данных</a></span></li><li><span><a href=\"#Обработка-дубликатов\" data-toc-modified-id=\"Обработка-дубликатов-2.5\"><span class=\"toc-item-num\">2.5&nbsp;&nbsp;</span>Обработка дубликатов</a></span></li><li><span><a href=\"#Категоризация-данных\" data-toc-modified-id=\"Категоризация-данных-2.6\"><span class=\"toc-item-num\">2.6&nbsp;&nbsp;</span>Категоризация данных</a></span></li><li><span><a href=\"#Шаг-3.-Исследуйте-данные-и-ответьте-на-вопросы\" data-toc-modified-id=\"Шаг-3.-Исследуйте-данные-и-ответьте-на-вопросы-2.7\"><span class=\"toc-item-num\">2.7&nbsp;&nbsp;</span>Шаг 3. Исследуйте данные и ответьте на вопросы</a></span><ul class=\"toc-item\"><li><span><a href=\"#3.1-Есть-ли-зависимость-между-количеством-детей-и-возвратом-кредита-в-срок?\" data-toc-modified-id=\"3.1-Есть-ли-зависимость-между-количеством-детей-и-возвратом-кредита-в-срок?-2.7.1\"><span class=\"toc-item-num\">2.7.1&nbsp;&nbsp;</span>3.1 Есть ли зависимость между количеством детей и возвратом кредита в срок?</a></span></li><li><span><a href=\"#3.2-Есть-ли-зависимость-между-семейным-положением-и-возвратом-кредита-в-срок?\" data-toc-modified-id=\"3.2-Есть-ли-зависимость-между-семейным-положением-и-возвратом-кредита-в-срок?-2.7.2\"><span class=\"toc-item-num\">2.7.2&nbsp;&nbsp;</span>3.2 Есть ли зависимость между семейным положением и возвратом кредита в срок?</a></span></li><li><span><a href=\"#3.3-Есть-ли-зависимость-между-уровнем-дохода-и-возвратом-кредита-в-срок?\" data-toc-modified-id=\"3.3-Есть-ли-зависимость-между-уровнем-дохода-и-возвратом-кредита-в-срок?-2.7.3\"><span class=\"toc-item-num\">2.7.3&nbsp;&nbsp;</span>3.3 Есть ли зависимость между уровнем дохода и возвратом кредита в срок?</a></span></li><li><span><a href=\"#3.4-Как-разные-цели-кредита-влияют-на-его-возврат-в-срок?\" data-toc-modified-id=\"3.4-Как-разные-цели-кредита-влияют-на-его-возврат-в-срок?-2.7.4\"><span class=\"toc-item-num\">2.7.4&nbsp;&nbsp;</span>3.4 Как разные цели кредита влияют на его возврат в срок?</a></span></li><li><span><a href=\"#3.5-Приведите-возможные-причины-появления-пропусков-в-исходных-данных.\" data-toc-modified-id=\"3.5-Приведите-возможные-причины-появления-пропусков-в-исходных-данных.-2.7.5\"><span class=\"toc-item-num\">2.7.5&nbsp;&nbsp;</span>3.5 Приведите возможные причины появления пропусков в исходных данных.</a></span></li><li><span><a href=\"#3.6-Объясните,-почему-заполнить-пропуски-медианным-значением-—-лучшее-решение-для-количественных-переменных.\" data-toc-modified-id=\"3.6-Объясните,-почему-заполнить-пропуски-медианным-значением-—-лучшее-решение-для-количественных-переменных.-2.7.6\"><span class=\"toc-item-num\">2.7.6&nbsp;&nbsp;</span>3.6 Объясните, почему заполнить пропуски медианным значением — лучшее решение для количественных переменных.</a></span></li></ul></li><li><span><a href=\"#Шаг-4:-общий-вывод.\" data-toc-modified-id=\"Шаг-4:-общий-вывод.-2.8\"><span class=\"toc-item-num\">2.8&nbsp;&nbsp;</span>Шаг 4: общий вывод.</a></span></li></ul></li></ul></div>"
   ]
  },
  {
   "cell_type": "markdown",
   "id": "3932debf",
   "metadata": {},
   "source": [
    "# Описание задачи"
   ]
  },
  {
   "cell_type": "markdown",
   "id": "28c60f21",
   "metadata": {},
   "source": [
    "**Кредитным отделом банка предоставлена статистика о платёжеспособности клиентов и поставлена задача разобраться, влияет ли семейное положение и количество детей клиента на факт погашения кредита в срок.**"
   ]
  },
  {
   "cell_type": "markdown",
   "id": "59733c7e",
   "metadata": {},
   "source": [
    "# Описание данных"
   ]
  },
  {
   "cell_type": "markdown",
   "id": "86d96e5f",
   "metadata": {},
   "source": [
    "- **children — количество детей в семье**\n",
    "- **days_employed — общий трудовой стаж в днях**\n",
    "- **dob_years — возраст клиента в годах**\n",
    "- **education — уровень образования клиента**\n",
    "- **education_id — идентификатор уровня образования**\n",
    "- **family_status — семейное положение**\n",
    "- **family_status_id — идентификатор семейного положения**\n",
    "- **gender — пол клиента**\n",
    "- **income_type — тип занятости**\n",
    "- **debt — имел ли задолженность по возврату кредитов**\n",
    "- **total_income — ежемесячный доход**\n",
    "- **purpose — цель получения кредита**"
   ]
  },
  {
   "cell_type": "markdown",
   "id": "cf0587d8",
   "metadata": {
    "deletable": false,
    "editable": false,
    "id": "827c20bf"
   },
   "source": [
    "Во второй части проекта вы выполните шаги 3 и 4. Их вручную проверит ревьюер.\n",
    "Чтобы вам не пришлось писать код заново для шагов 1 и 2, мы добавили авторские решения в ячейки с кодом. \n",
    "\n"
   ]
  },
  {
   "cell_type": "markdown",
   "id": "35b5d138",
   "metadata": {
    "deletable": false,
    "editable": false,
    "id": "744d7639"
   },
   "source": [
    "## Откройте таблицу и изучите общую информацию о данных"
   ]
  },
  {
   "cell_type": "markdown",
   "id": "321de108",
   "metadata": {
    "deletable": false,
    "editable": false,
    "id": "e7a14c31"
   },
   "source": [
    "**Задание 1. Импортируйте библиотеку pandas. Считайте данные из csv-файла в датафрейм и сохраните в переменную `data`. Путь к файлу:**\n",
    "\n",
    "`/datasets/data.csv`"
   ]
  },
  {
   "cell_type": "code",
   "execution_count": 1,
   "id": "6185bc79",
   "metadata": {
    "deletable": false,
    "id": "7bcf75c9"
   },
   "outputs": [],
   "source": [
    "import pandas as pd\n",
    "\n",
    "try:\n",
    "    data = pd.read_csv('/datasets/data.csv')\n",
    "except:\n",
    "    data = pd.read_csv('https://code.s3.yandex.net/datasets/data.csv')"
   ]
  },
  {
   "cell_type": "markdown",
   "id": "66866e70",
   "metadata": {
    "deletable": false,
    "editable": false,
    "id": "b8038fe3"
   },
   "source": [
    "**Задание 2. Выведите первые 20 строчек датафрейма `data` на экран.**"
   ]
  },
  {
   "cell_type": "code",
   "execution_count": 2,
   "id": "18b060ad",
   "metadata": {
    "deletable": false,
    "id": "2a7cab99",
    "outputId": "1a8f3ef2-d323-4ec2-ddf7-89670b5944c4"
   },
   "outputs": [
    {
     "data": {
      "text/html": [
       "<div>\n",
       "<style scoped>\n",
       "    .dataframe tbody tr th:only-of-type {\n",
       "        vertical-align: middle;\n",
       "    }\n",
       "\n",
       "    .dataframe tbody tr th {\n",
       "        vertical-align: top;\n",
       "    }\n",
       "\n",
       "    .dataframe thead th {\n",
       "        text-align: right;\n",
       "    }\n",
       "</style>\n",
       "<table border=\"1\" class=\"dataframe\">\n",
       "  <thead>\n",
       "    <tr style=\"text-align: right;\">\n",
       "      <th></th>\n",
       "      <th>children</th>\n",
       "      <th>days_employed</th>\n",
       "      <th>dob_years</th>\n",
       "      <th>education</th>\n",
       "      <th>education_id</th>\n",
       "      <th>family_status</th>\n",
       "      <th>family_status_id</th>\n",
       "      <th>gender</th>\n",
       "      <th>income_type</th>\n",
       "      <th>debt</th>\n",
       "      <th>total_income</th>\n",
       "      <th>purpose</th>\n",
       "    </tr>\n",
       "  </thead>\n",
       "  <tbody>\n",
       "    <tr>\n",
       "      <th>0</th>\n",
       "      <td>1</td>\n",
       "      <td>-8437.673028</td>\n",
       "      <td>42</td>\n",
       "      <td>высшее</td>\n",
       "      <td>0</td>\n",
       "      <td>женат / замужем</td>\n",
       "      <td>0</td>\n",
       "      <td>F</td>\n",
       "      <td>сотрудник</td>\n",
       "      <td>0</td>\n",
       "      <td>253875.639453</td>\n",
       "      <td>покупка жилья</td>\n",
       "    </tr>\n",
       "    <tr>\n",
       "      <th>1</th>\n",
       "      <td>1</td>\n",
       "      <td>-4024.803754</td>\n",
       "      <td>36</td>\n",
       "      <td>среднее</td>\n",
       "      <td>1</td>\n",
       "      <td>женат / замужем</td>\n",
       "      <td>0</td>\n",
       "      <td>F</td>\n",
       "      <td>сотрудник</td>\n",
       "      <td>0</td>\n",
       "      <td>112080.014102</td>\n",
       "      <td>приобретение автомобиля</td>\n",
       "    </tr>\n",
       "    <tr>\n",
       "      <th>2</th>\n",
       "      <td>0</td>\n",
       "      <td>-5623.422610</td>\n",
       "      <td>33</td>\n",
       "      <td>Среднее</td>\n",
       "      <td>1</td>\n",
       "      <td>женат / замужем</td>\n",
       "      <td>0</td>\n",
       "      <td>M</td>\n",
       "      <td>сотрудник</td>\n",
       "      <td>0</td>\n",
       "      <td>145885.952297</td>\n",
       "      <td>покупка жилья</td>\n",
       "    </tr>\n",
       "    <tr>\n",
       "      <th>3</th>\n",
       "      <td>3</td>\n",
       "      <td>-4124.747207</td>\n",
       "      <td>32</td>\n",
       "      <td>среднее</td>\n",
       "      <td>1</td>\n",
       "      <td>женат / замужем</td>\n",
       "      <td>0</td>\n",
       "      <td>M</td>\n",
       "      <td>сотрудник</td>\n",
       "      <td>0</td>\n",
       "      <td>267628.550329</td>\n",
       "      <td>дополнительное образование</td>\n",
       "    </tr>\n",
       "    <tr>\n",
       "      <th>4</th>\n",
       "      <td>0</td>\n",
       "      <td>340266.072047</td>\n",
       "      <td>53</td>\n",
       "      <td>среднее</td>\n",
       "      <td>1</td>\n",
       "      <td>гражданский брак</td>\n",
       "      <td>1</td>\n",
       "      <td>F</td>\n",
       "      <td>пенсионер</td>\n",
       "      <td>0</td>\n",
       "      <td>158616.077870</td>\n",
       "      <td>сыграть свадьбу</td>\n",
       "    </tr>\n",
       "    <tr>\n",
       "      <th>5</th>\n",
       "      <td>0</td>\n",
       "      <td>-926.185831</td>\n",
       "      <td>27</td>\n",
       "      <td>высшее</td>\n",
       "      <td>0</td>\n",
       "      <td>гражданский брак</td>\n",
       "      <td>1</td>\n",
       "      <td>M</td>\n",
       "      <td>компаньон</td>\n",
       "      <td>0</td>\n",
       "      <td>255763.565419</td>\n",
       "      <td>покупка жилья</td>\n",
       "    </tr>\n",
       "    <tr>\n",
       "      <th>6</th>\n",
       "      <td>0</td>\n",
       "      <td>-2879.202052</td>\n",
       "      <td>43</td>\n",
       "      <td>высшее</td>\n",
       "      <td>0</td>\n",
       "      <td>женат / замужем</td>\n",
       "      <td>0</td>\n",
       "      <td>F</td>\n",
       "      <td>компаньон</td>\n",
       "      <td>0</td>\n",
       "      <td>240525.971920</td>\n",
       "      <td>операции с жильем</td>\n",
       "    </tr>\n",
       "    <tr>\n",
       "      <th>7</th>\n",
       "      <td>0</td>\n",
       "      <td>-152.779569</td>\n",
       "      <td>50</td>\n",
       "      <td>СРЕДНЕЕ</td>\n",
       "      <td>1</td>\n",
       "      <td>женат / замужем</td>\n",
       "      <td>0</td>\n",
       "      <td>M</td>\n",
       "      <td>сотрудник</td>\n",
       "      <td>0</td>\n",
       "      <td>135823.934197</td>\n",
       "      <td>образование</td>\n",
       "    </tr>\n",
       "    <tr>\n",
       "      <th>8</th>\n",
       "      <td>2</td>\n",
       "      <td>-6929.865299</td>\n",
       "      <td>35</td>\n",
       "      <td>ВЫСШЕЕ</td>\n",
       "      <td>0</td>\n",
       "      <td>гражданский брак</td>\n",
       "      <td>1</td>\n",
       "      <td>F</td>\n",
       "      <td>сотрудник</td>\n",
       "      <td>0</td>\n",
       "      <td>95856.832424</td>\n",
       "      <td>на проведение свадьбы</td>\n",
       "    </tr>\n",
       "    <tr>\n",
       "      <th>9</th>\n",
       "      <td>0</td>\n",
       "      <td>-2188.756445</td>\n",
       "      <td>41</td>\n",
       "      <td>среднее</td>\n",
       "      <td>1</td>\n",
       "      <td>женат / замужем</td>\n",
       "      <td>0</td>\n",
       "      <td>M</td>\n",
       "      <td>сотрудник</td>\n",
       "      <td>0</td>\n",
       "      <td>144425.938277</td>\n",
       "      <td>покупка жилья для семьи</td>\n",
       "    </tr>\n",
       "    <tr>\n",
       "      <th>10</th>\n",
       "      <td>2</td>\n",
       "      <td>-4171.483647</td>\n",
       "      <td>36</td>\n",
       "      <td>высшее</td>\n",
       "      <td>0</td>\n",
       "      <td>женат / замужем</td>\n",
       "      <td>0</td>\n",
       "      <td>M</td>\n",
       "      <td>компаньон</td>\n",
       "      <td>0</td>\n",
       "      <td>113943.491460</td>\n",
       "      <td>покупка недвижимости</td>\n",
       "    </tr>\n",
       "    <tr>\n",
       "      <th>11</th>\n",
       "      <td>0</td>\n",
       "      <td>-792.701887</td>\n",
       "      <td>40</td>\n",
       "      <td>среднее</td>\n",
       "      <td>1</td>\n",
       "      <td>женат / замужем</td>\n",
       "      <td>0</td>\n",
       "      <td>F</td>\n",
       "      <td>сотрудник</td>\n",
       "      <td>0</td>\n",
       "      <td>77069.234271</td>\n",
       "      <td>покупка коммерческой недвижимости</td>\n",
       "    </tr>\n",
       "    <tr>\n",
       "      <th>12</th>\n",
       "      <td>0</td>\n",
       "      <td>NaN</td>\n",
       "      <td>65</td>\n",
       "      <td>среднее</td>\n",
       "      <td>1</td>\n",
       "      <td>гражданский брак</td>\n",
       "      <td>1</td>\n",
       "      <td>M</td>\n",
       "      <td>пенсионер</td>\n",
       "      <td>0</td>\n",
       "      <td>NaN</td>\n",
       "      <td>сыграть свадьбу</td>\n",
       "    </tr>\n",
       "    <tr>\n",
       "      <th>13</th>\n",
       "      <td>0</td>\n",
       "      <td>-1846.641941</td>\n",
       "      <td>54</td>\n",
       "      <td>неоконченное высшее</td>\n",
       "      <td>2</td>\n",
       "      <td>женат / замужем</td>\n",
       "      <td>0</td>\n",
       "      <td>F</td>\n",
       "      <td>сотрудник</td>\n",
       "      <td>0</td>\n",
       "      <td>130458.228857</td>\n",
       "      <td>приобретение автомобиля</td>\n",
       "    </tr>\n",
       "    <tr>\n",
       "      <th>14</th>\n",
       "      <td>0</td>\n",
       "      <td>-1844.956182</td>\n",
       "      <td>56</td>\n",
       "      <td>высшее</td>\n",
       "      <td>0</td>\n",
       "      <td>гражданский брак</td>\n",
       "      <td>1</td>\n",
       "      <td>F</td>\n",
       "      <td>компаньон</td>\n",
       "      <td>1</td>\n",
       "      <td>165127.911772</td>\n",
       "      <td>покупка жилой недвижимости</td>\n",
       "    </tr>\n",
       "    <tr>\n",
       "      <th>15</th>\n",
       "      <td>1</td>\n",
       "      <td>-972.364419</td>\n",
       "      <td>26</td>\n",
       "      <td>среднее</td>\n",
       "      <td>1</td>\n",
       "      <td>женат / замужем</td>\n",
       "      <td>0</td>\n",
       "      <td>F</td>\n",
       "      <td>сотрудник</td>\n",
       "      <td>0</td>\n",
       "      <td>116820.904450</td>\n",
       "      <td>строительство собственной недвижимости</td>\n",
       "    </tr>\n",
       "    <tr>\n",
       "      <th>16</th>\n",
       "      <td>0</td>\n",
       "      <td>-1719.934226</td>\n",
       "      <td>35</td>\n",
       "      <td>среднее</td>\n",
       "      <td>1</td>\n",
       "      <td>женат / замужем</td>\n",
       "      <td>0</td>\n",
       "      <td>F</td>\n",
       "      <td>сотрудник</td>\n",
       "      <td>0</td>\n",
       "      <td>289202.704229</td>\n",
       "      <td>недвижимость</td>\n",
       "    </tr>\n",
       "    <tr>\n",
       "      <th>17</th>\n",
       "      <td>0</td>\n",
       "      <td>-2369.999720</td>\n",
       "      <td>33</td>\n",
       "      <td>высшее</td>\n",
       "      <td>0</td>\n",
       "      <td>гражданский брак</td>\n",
       "      <td>1</td>\n",
       "      <td>M</td>\n",
       "      <td>сотрудник</td>\n",
       "      <td>0</td>\n",
       "      <td>90410.586745</td>\n",
       "      <td>строительство недвижимости</td>\n",
       "    </tr>\n",
       "    <tr>\n",
       "      <th>18</th>\n",
       "      <td>0</td>\n",
       "      <td>400281.136913</td>\n",
       "      <td>53</td>\n",
       "      <td>среднее</td>\n",
       "      <td>1</td>\n",
       "      <td>вдовец / вдова</td>\n",
       "      <td>2</td>\n",
       "      <td>F</td>\n",
       "      <td>пенсионер</td>\n",
       "      <td>0</td>\n",
       "      <td>56823.777243</td>\n",
       "      <td>на покупку подержанного автомобиля</td>\n",
       "    </tr>\n",
       "    <tr>\n",
       "      <th>19</th>\n",
       "      <td>0</td>\n",
       "      <td>-10038.818549</td>\n",
       "      <td>48</td>\n",
       "      <td>СРЕДНЕЕ</td>\n",
       "      <td>1</td>\n",
       "      <td>в разводе</td>\n",
       "      <td>3</td>\n",
       "      <td>F</td>\n",
       "      <td>сотрудник</td>\n",
       "      <td>0</td>\n",
       "      <td>242831.107982</td>\n",
       "      <td>на покупку своего автомобиля</td>\n",
       "    </tr>\n",
       "  </tbody>\n",
       "</table>\n",
       "</div>"
      ],
      "text/plain": [
       "    children  days_employed  dob_years            education  education_id  \\\n",
       "0          1   -8437.673028         42               высшее             0   \n",
       "1          1   -4024.803754         36              среднее             1   \n",
       "2          0   -5623.422610         33              Среднее             1   \n",
       "3          3   -4124.747207         32              среднее             1   \n",
       "4          0  340266.072047         53              среднее             1   \n",
       "5          0    -926.185831         27               высшее             0   \n",
       "6          0   -2879.202052         43               высшее             0   \n",
       "7          0    -152.779569         50              СРЕДНЕЕ             1   \n",
       "8          2   -6929.865299         35               ВЫСШЕЕ             0   \n",
       "9          0   -2188.756445         41              среднее             1   \n",
       "10         2   -4171.483647         36               высшее             0   \n",
       "11         0    -792.701887         40              среднее             1   \n",
       "12         0            NaN         65              среднее             1   \n",
       "13         0   -1846.641941         54  неоконченное высшее             2   \n",
       "14         0   -1844.956182         56               высшее             0   \n",
       "15         1    -972.364419         26              среднее             1   \n",
       "16         0   -1719.934226         35              среднее             1   \n",
       "17         0   -2369.999720         33               высшее             0   \n",
       "18         0  400281.136913         53              среднее             1   \n",
       "19         0  -10038.818549         48              СРЕДНЕЕ             1   \n",
       "\n",
       "       family_status  family_status_id gender income_type  debt  \\\n",
       "0    женат / замужем                 0      F   сотрудник     0   \n",
       "1    женат / замужем                 0      F   сотрудник     0   \n",
       "2    женат / замужем                 0      M   сотрудник     0   \n",
       "3    женат / замужем                 0      M   сотрудник     0   \n",
       "4   гражданский брак                 1      F   пенсионер     0   \n",
       "5   гражданский брак                 1      M   компаньон     0   \n",
       "6    женат / замужем                 0      F   компаньон     0   \n",
       "7    женат / замужем                 0      M   сотрудник     0   \n",
       "8   гражданский брак                 1      F   сотрудник     0   \n",
       "9    женат / замужем                 0      M   сотрудник     0   \n",
       "10   женат / замужем                 0      M   компаньон     0   \n",
       "11   женат / замужем                 0      F   сотрудник     0   \n",
       "12  гражданский брак                 1      M   пенсионер     0   \n",
       "13   женат / замужем                 0      F   сотрудник     0   \n",
       "14  гражданский брак                 1      F   компаньон     1   \n",
       "15   женат / замужем                 0      F   сотрудник     0   \n",
       "16   женат / замужем                 0      F   сотрудник     0   \n",
       "17  гражданский брак                 1      M   сотрудник     0   \n",
       "18    вдовец / вдова                 2      F   пенсионер     0   \n",
       "19         в разводе                 3      F   сотрудник     0   \n",
       "\n",
       "     total_income                                 purpose  \n",
       "0   253875.639453                           покупка жилья  \n",
       "1   112080.014102                 приобретение автомобиля  \n",
       "2   145885.952297                           покупка жилья  \n",
       "3   267628.550329              дополнительное образование  \n",
       "4   158616.077870                         сыграть свадьбу  \n",
       "5   255763.565419                           покупка жилья  \n",
       "6   240525.971920                       операции с жильем  \n",
       "7   135823.934197                             образование  \n",
       "8    95856.832424                   на проведение свадьбы  \n",
       "9   144425.938277                 покупка жилья для семьи  \n",
       "10  113943.491460                    покупка недвижимости  \n",
       "11   77069.234271       покупка коммерческой недвижимости  \n",
       "12            NaN                         сыграть свадьбу  \n",
       "13  130458.228857                 приобретение автомобиля  \n",
       "14  165127.911772              покупка жилой недвижимости  \n",
       "15  116820.904450  строительство собственной недвижимости  \n",
       "16  289202.704229                            недвижимость  \n",
       "17   90410.586745              строительство недвижимости  \n",
       "18   56823.777243      на покупку подержанного автомобиля  \n",
       "19  242831.107982            на покупку своего автомобиля  "
      ]
     },
     "execution_count": 2,
     "metadata": {},
     "output_type": "execute_result"
    }
   ],
   "source": [
    "data.head(20)"
   ]
  },
  {
   "cell_type": "markdown",
   "id": "3e3644b1",
   "metadata": {
    "deletable": false,
    "editable": false,
    "id": "1c12e233"
   },
   "source": [
    "**Задание 3. Выведите основную информацию о датафрейме с помощью метода `info()`.**"
   ]
  },
  {
   "cell_type": "code",
   "execution_count": 3,
   "id": "28785794",
   "metadata": {
    "deletable": false,
    "id": "2b757bca",
    "outputId": "15376089-8dad-46c9-b520-c05248d43158"
   },
   "outputs": [
    {
     "name": "stdout",
     "output_type": "stream",
     "text": [
      "<class 'pandas.core.frame.DataFrame'>\n",
      "RangeIndex: 21525 entries, 0 to 21524\n",
      "Data columns (total 12 columns):\n",
      " #   Column            Non-Null Count  Dtype  \n",
      "---  ------            --------------  -----  \n",
      " 0   children          21525 non-null  int64  \n",
      " 1   days_employed     19351 non-null  float64\n",
      " 2   dob_years         21525 non-null  int64  \n",
      " 3   education         21525 non-null  object \n",
      " 4   education_id      21525 non-null  int64  \n",
      " 5   family_status     21525 non-null  object \n",
      " 6   family_status_id  21525 non-null  int64  \n",
      " 7   gender            21525 non-null  object \n",
      " 8   income_type       21525 non-null  object \n",
      " 9   debt              21525 non-null  int64  \n",
      " 10  total_income      19351 non-null  float64\n",
      " 11  purpose           21525 non-null  object \n",
      "dtypes: float64(2), int64(5), object(5)\n",
      "memory usage: 2.0+ MB\n"
     ]
    }
   ],
   "source": [
    "data.info()"
   ]
  },
  {
   "cell_type": "markdown",
   "id": "b88e47cb",
   "metadata": {},
   "source": [
    "<div class=\"alert alert-success\">\n",
    "<b>Комментарий ревьюера №1</b> ✅\n",
    "    \n",
    "Разделы работы можно заканчивать промежуточными выводами\n",
    "</div>"
   ]
  },
  {
   "cell_type": "markdown",
   "id": "0fca38d3",
   "metadata": {},
   "source": [
    "<div class=\"alert alert-info\">\n",
    "<b>Комментарий студента №1</b>\n",
    "    \n",
    "Добавлены выводы (ниже).\n",
    "</div>"
   ]
  },
  {
   "cell_type": "markdown",
   "id": "8c440253",
   "metadata": {},
   "source": [
    "**Выводы:**\n",
    "\n",
    "**Обзор датафрейма показывает наличие аномальных значений (например, отрицательные значения в столбце days_employed) и пропусков (в столбцах days_employed и total_income). Их необходимо устранить перед проведением анализа.**"
   ]
  },
  {
   "cell_type": "markdown",
   "id": "de7ad647",
   "metadata": {
    "deletable": false,
    "editable": false,
    "id": "333ec665"
   },
   "source": [
    "## Предобработка данных"
   ]
  },
  {
   "cell_type": "markdown",
   "id": "094aee71",
   "metadata": {
    "deletable": false,
    "editable": false,
    "id": "02d92d53"
   },
   "source": [
    "### Удаление пропусков"
   ]
  },
  {
   "cell_type": "markdown",
   "id": "e55b0f6d",
   "metadata": {
    "deletable": false,
    "editable": false,
    "id": "cd84967c"
   },
   "source": [
    "**Задание 4. Выведите количество пропущенных значений для каждого столбца. Используйте комбинацию двух методов.**"
   ]
  },
  {
   "cell_type": "code",
   "execution_count": 4,
   "id": "9ee4603b",
   "metadata": {
    "deletable": false,
    "id": "7f9b2309",
    "outputId": "81f4d817-781c-465c-ed15-91ce4446810d"
   },
   "outputs": [
    {
     "data": {
      "text/plain": [
       "children               0\n",
       "days_employed       2174\n",
       "dob_years              0\n",
       "education              0\n",
       "education_id           0\n",
       "family_status          0\n",
       "family_status_id       0\n",
       "gender                 0\n",
       "income_type            0\n",
       "debt                   0\n",
       "total_income        2174\n",
       "purpose                0\n",
       "dtype: int64"
      ]
     },
     "execution_count": 4,
     "metadata": {},
     "output_type": "execute_result"
    }
   ],
   "source": [
    "data.isna().sum()"
   ]
  },
  {
   "cell_type": "markdown",
   "id": "f17fda13",
   "metadata": {},
   "source": [
    "<div class=\"alert alert-info\">\n",
    "<b>Комментарий студента №1</b>\n",
    "    \n",
    "Ниже добавил проверку совпадения пропусков:\n",
    "</div>"
   ]
  },
  {
   "cell_type": "markdown",
   "id": "ca5f2222",
   "metadata": {},
   "source": [
    "**У столбцов days_employed и total_income одинаковое число пропущенных значений. Проверим, совпадают ли записи с пропусками в этих столбцах.**"
   ]
  },
  {
   "cell_type": "code",
   "execution_count": 5,
   "id": "80638d4c",
   "metadata": {},
   "outputs": [
    {
     "data": {
      "text/plain": [
       "2174"
      ]
     },
     "execution_count": 5,
     "metadata": {},
     "output_type": "execute_result"
    }
   ],
   "source": [
    "len(data.loc[(data['days_employed'].isna()) & (data['total_income'].isna())])"
   ]
  },
  {
   "cell_type": "markdown",
   "id": "7abcc407",
   "metadata": {},
   "source": [
    "**Число соответствует числу пропусков в каждом из столбцов по отдельности, поэтому можно сделать вывод, что пропуски в столбцах days_employed и total_income совпадают.**"
   ]
  },
  {
   "cell_type": "markdown",
   "id": "393be174",
   "metadata": {
    "deletable": false,
    "editable": false,
    "id": "db86e27b"
   },
   "source": [
    "**Задание 5. В двух столбцах есть пропущенные значения. Один из них — `days_employed`. Пропуски в этом столбце вы обработаете на следующем этапе. Другой столбец с пропущенными значениями — `total_income` — хранит данные о доходах. На сумму дохода сильнее всего влияет тип занятости, поэтому заполнить пропуски в этом столбце нужно медианным значением по каждому типу из столбца `income_type`. Например, у человека с типом занятости `сотрудник` пропуск в столбце `total_income` должен быть заполнен медианным доходом среди всех записей с тем же типом.**"
   ]
  },
  {
   "cell_type": "code",
   "execution_count": 6,
   "id": "834c0a43",
   "metadata": {
    "deletable": false,
    "id": "42006a93"
   },
   "outputs": [],
   "source": [
    "for t in data['income_type'].unique():\n",
    "    data.loc[(data['income_type'] == t) & (data['total_income'].isna()), 'total_income'] = \\\n",
    "    data.loc[(data['income_type'] == t), 'total_income'].median()"
   ]
  },
  {
   "cell_type": "markdown",
   "id": "98b55c8f",
   "metadata": {
    "deletable": false,
    "editable": false,
    "id": "89da5ece"
   },
   "source": [
    "### Обработка аномальных значений"
   ]
  },
  {
   "cell_type": "markdown",
   "id": "eb9c9e85",
   "metadata": {
    "deletable": false,
    "editable": false,
    "id": "57964554"
   },
   "source": [
    "**Задание 6. В данных могут встречаться артефакты (аномалии) — значения, которые не отражают действительность и появились по какой-то ошибке. таким артефактом будет отрицательное количество дней трудового стажа в столбце `days_employed`. Для реальных данных это нормально. Обработайте значения в этом столбце: замените все отрицательные значения положительными с помощью метода `abs()`.**"
   ]
  },
  {
   "cell_type": "code",
   "execution_count": 7,
   "id": "545a4d15",
   "metadata": {
    "deletable": false,
    "id": "f6f055bf"
   },
   "outputs": [],
   "source": [
    "data['days_employed'] = data['days_employed'].abs()"
   ]
  },
  {
   "cell_type": "markdown",
   "id": "428d5f8b",
   "metadata": {
    "deletable": false,
    "editable": false,
    "id": "6107dd2f"
   },
   "source": [
    "**Задание 7. Для каждого типа занятости выведите медианное значение трудового стажа `days_employed` в днях.**"
   ]
  },
  {
   "cell_type": "code",
   "execution_count": 8,
   "id": "ded02f24",
   "metadata": {
    "deletable": false,
    "id": "85a5faf6",
    "outputId": "801ef80e-522b-4668-f34e-565af7432bcf"
   },
   "outputs": [
    {
     "data": {
      "text/plain": [
       "income_type\n",
       "безработный        366413.652744\n",
       "в декрете            3296.759962\n",
       "госслужащий          2689.368353\n",
       "компаньон            1547.382223\n",
       "пенсионер          365213.306266\n",
       "предприниматель       520.848083\n",
       "сотрудник            1574.202821\n",
       "студент               578.751554\n",
       "Name: days_employed, dtype: float64"
      ]
     },
     "execution_count": 8,
     "metadata": {},
     "output_type": "execute_result"
    }
   ],
   "source": [
    "data.groupby('income_type')['days_employed'].agg('median')"
   ]
  },
  {
   "cell_type": "markdown",
   "id": "fe493072",
   "metadata": {
    "deletable": false,
    "editable": false,
    "id": "38d1a030"
   },
   "source": [
    "У двух типов (безработные и пенсионеры) получатся аномально большие значения. Исправить такие значения сложно, поэтому оставьте их как есть. Тем более этот столбец не понадобится вам для исследования."
   ]
  },
  {
   "cell_type": "markdown",
   "id": "2503f3a4",
   "metadata": {
    "deletable": false,
    "editable": false,
    "id": "d8a9f147"
   },
   "source": [
    "**Задание 8. Выведите перечень уникальных значений столбца `children`.**"
   ]
  },
  {
   "cell_type": "code",
   "execution_count": 9,
   "id": "df1e16f1",
   "metadata": {
    "deletable": false,
    "id": "ef5056eb",
    "outputId": "6975b15c-7f95-4697-d16d-a0c79b657b03"
   },
   "outputs": [
    {
     "data": {
      "text/plain": [
       "array([ 1,  0,  3,  2, -1,  4, 20,  5])"
      ]
     },
     "execution_count": 9,
     "metadata": {},
     "output_type": "execute_result"
    }
   ],
   "source": [
    "data['children'].unique()"
   ]
  },
  {
   "cell_type": "markdown",
   "id": "321b7327",
   "metadata": {
    "deletable": false,
    "editable": false,
    "id": "40b9ebf2"
   },
   "source": [
    "**Задание 9. В столбце `children` есть два аномальных значения. Удалите строки, в которых встречаются такие аномальные значения из датафрейма `data`.**"
   ]
  },
  {
   "cell_type": "code",
   "execution_count": 10,
   "id": "fc173898",
   "metadata": {
    "deletable": false,
    "id": "3ff9801d"
   },
   "outputs": [],
   "source": [
    "data = data[(data['children'] != -1) & (data['children'] != 20)]"
   ]
  },
  {
   "cell_type": "markdown",
   "id": "816d5d0e",
   "metadata": {
    "deletable": false,
    "editable": false,
    "id": "bbc4d0ce"
   },
   "source": [
    "**Задание 10. Ещё раз выведите перечень уникальных значений столбца `children`, чтобы убедиться, что артефакты удалены.**"
   ]
  },
  {
   "cell_type": "code",
   "execution_count": 11,
   "id": "1ac8cbe1",
   "metadata": {
    "deletable": false,
    "id": "ad4fa8b7",
    "outputId": "b2097101-d49d-44d9-901b-32a65c9463d1"
   },
   "outputs": [
    {
     "data": {
      "text/plain": [
       "array([1, 0, 3, 2, 4, 5])"
      ]
     },
     "execution_count": 11,
     "metadata": {},
     "output_type": "execute_result"
    }
   ],
   "source": [
    "data['children'].unique()"
   ]
  },
  {
   "cell_type": "markdown",
   "id": "42326172",
   "metadata": {
    "deletable": false,
    "editable": false,
    "id": "75440b63"
   },
   "source": [
    "### Удаление пропусков (продолжение)"
   ]
  },
  {
   "cell_type": "markdown",
   "id": "d2e8287d",
   "metadata": {
    "deletable": false,
    "editable": false,
    "id": "f4ea573f"
   },
   "source": [
    "**Задание 11. Заполните пропуски в столбце `days_employed` медианными значениями по каждого типа занятости `income_type`.**"
   ]
  },
  {
   "cell_type": "code",
   "execution_count": 12,
   "id": "a527cee9",
   "metadata": {
    "deletable": false,
    "id": "af6b1a7e"
   },
   "outputs": [],
   "source": [
    "for t in data['income_type'].unique():\n",
    "    data.loc[(data['income_type'] == t) & (data['days_employed'].isna()), 'days_employed'] = \\\n",
    "    data.loc[(data['income_type'] == t), 'days_employed'].median()"
   ]
  },
  {
   "cell_type": "markdown",
   "id": "fc345cde",
   "metadata": {
    "deletable": false,
    "editable": false,
    "id": "2753f40d"
   },
   "source": [
    "**Задание 12. Убедитесь, что все пропуски заполнены. Проверьте себя и ещё раз выведите количество пропущенных значений для каждого столбца с помощью двух методов.**"
   ]
  },
  {
   "cell_type": "code",
   "execution_count": 13,
   "id": "edf21bad",
   "metadata": {
    "deletable": false,
    "id": "55f78bc2",
    "outputId": "8da1e4e1-358e-4e87-98c9-f261bce0a7b2"
   },
   "outputs": [
    {
     "data": {
      "text/plain": [
       "children            0\n",
       "days_employed       0\n",
       "dob_years           0\n",
       "education           0\n",
       "education_id        0\n",
       "family_status       0\n",
       "family_status_id    0\n",
       "gender              0\n",
       "income_type         0\n",
       "debt                0\n",
       "total_income        0\n",
       "purpose             0\n",
       "dtype: int64"
      ]
     },
     "execution_count": 13,
     "metadata": {},
     "output_type": "execute_result"
    }
   ],
   "source": [
    "data.isna().sum()"
   ]
  },
  {
   "cell_type": "markdown",
   "id": "2b9ef202",
   "metadata": {
    "deletable": false,
    "editable": false,
    "id": "ddc81e43"
   },
   "source": [
    "### Изменение типов данных"
   ]
  },
  {
   "cell_type": "markdown",
   "id": "708cb19e",
   "metadata": {
    "deletable": false,
    "editable": false,
    "id": "42d19d24"
   },
   "source": [
    "**Задание 13. Замените вещественный тип данных в столбце `total_income` на целочисленный с помощью метода `astype()`.**"
   ]
  },
  {
   "cell_type": "code",
   "execution_count": 14,
   "id": "d2db2e85",
   "metadata": {
    "deletable": false,
    "id": "920b65ad"
   },
   "outputs": [],
   "source": [
    "data['total_income'] = data['total_income'].astype(int)"
   ]
  },
  {
   "cell_type": "markdown",
   "id": "dd977f34",
   "metadata": {
    "deletable": false,
    "editable": false,
    "id": "80c420ba"
   },
   "source": [
    "### Обработка дубликатов"
   ]
  },
  {
   "cell_type": "markdown",
   "id": "76019cf6",
   "metadata": {
    "deletable": false,
    "editable": false
   },
   "source": [
    "**Задание 14. Обработайте неявные дубликаты в столбце `education`. В этом столбце есть одни и те же значения, но записанные по-разному: с использованием заглавных и строчных букв. Приведите их к нижнему регистру. Проверьте остальные столбцы.**"
   ]
  },
  {
   "cell_type": "code",
   "execution_count": 15,
   "id": "a9105bed",
   "metadata": {
    "deletable": false
   },
   "outputs": [],
   "source": [
    "data['education'] = data['education'].str.lower()"
   ]
  },
  {
   "cell_type": "markdown",
   "id": "5df94dae",
   "metadata": {
    "deletable": false,
    "editable": false,
    "id": "dc587695"
   },
   "source": [
    "**Задание 15. Выведите на экран количество строк-дубликатов в данных. Если такие строки присутствуют, удалите их.**"
   ]
  },
  {
   "cell_type": "code",
   "execution_count": 16,
   "id": "9a21d71a",
   "metadata": {
    "deletable": false,
    "id": "3ee445e4",
    "outputId": "9684deba-1934-42d1-99e1-cda61740f822"
   },
   "outputs": [
    {
     "data": {
      "text/plain": [
       "71"
      ]
     },
     "execution_count": 16,
     "metadata": {},
     "output_type": "execute_result"
    }
   ],
   "source": [
    "data.duplicated().sum()"
   ]
  },
  {
   "cell_type": "code",
   "execution_count": 17,
   "id": "469c5a07",
   "metadata": {
    "deletable": false,
    "id": "8575fe05"
   },
   "outputs": [],
   "source": [
    "data = data.drop_duplicates()"
   ]
  },
  {
   "cell_type": "markdown",
   "id": "088d718c",
   "metadata": {
    "deletable": false,
    "editable": false,
    "id": "9904cf55"
   },
   "source": [
    "### Категоризация данных"
   ]
  },
  {
   "cell_type": "markdown",
   "id": "52999c8a",
   "metadata": {
    "deletable": false,
    "editable": false,
    "id": "72fcc8a2"
   },
   "source": [
    "**Задание 16. На основании диапазонов, указанных ниже, создайте в датафрейме `data` столбец `total_income_category` с категориями:**\n",
    "\n",
    "- 0–30000 — `'E'`;\n",
    "- 30001–50000 — `'D'`;\n",
    "- 50001–200000 — `'C'`;\n",
    "- 200001–1000000 — `'B'`;\n",
    "- 1000001 и выше — `'A'`.\n",
    "\n",
    "\n",
    "**Например, кредитополучателю с доходом 25000 нужно назначить категорию `'E'`, а клиенту, получающему 235000, — `'B'`. Используйте собственную функцию с именем `categorize_income()` и метод `apply()`.**"
   ]
  },
  {
   "cell_type": "code",
   "execution_count": 18,
   "id": "455c8de5",
   "metadata": {
    "deletable": false,
    "id": "e1771346"
   },
   "outputs": [],
   "source": [
    "def categorize_income(income):\n",
    "    try:\n",
    "        if 0 <= income <= 30000:\n",
    "            return 'E'\n",
    "        elif 30001 <= income <= 50000:\n",
    "            return 'D'\n",
    "        elif 50001 <= income <= 200000:\n",
    "            return 'C'\n",
    "        elif 200001 <= income <= 1000000:\n",
    "            return 'B'\n",
    "        elif income >= 1000001:\n",
    "            return 'A'\n",
    "    except:\n",
    "        pass"
   ]
  },
  {
   "cell_type": "code",
   "execution_count": 19,
   "id": "bc9c2277",
   "metadata": {
    "deletable": false,
    "id": "d5f3586d"
   },
   "outputs": [],
   "source": [
    "data['total_income_category'] = data['total_income'].apply(categorize_income)"
   ]
  },
  {
   "cell_type": "markdown",
   "id": "5c4ef666",
   "metadata": {
    "deletable": false,
    "editable": false,
    "id": "dde49b5c"
   },
   "source": [
    "**Задание 17. Выведите на экран перечень уникальных целей взятия кредита из столбца `purpose`.**"
   ]
  },
  {
   "cell_type": "code",
   "execution_count": 20,
   "id": "667011d4",
   "metadata": {
    "deletable": false,
    "id": "f67ce9b3",
    "outputId": "673c12d9-7d7e-4ae0-9812-c622c89dd244"
   },
   "outputs": [
    {
     "data": {
      "text/plain": [
       "array(['покупка жилья', 'приобретение автомобиля',\n",
       "       'дополнительное образование', 'сыграть свадьбу',\n",
       "       'операции с жильем', 'образование', 'на проведение свадьбы',\n",
       "       'покупка жилья для семьи', 'покупка недвижимости',\n",
       "       'покупка коммерческой недвижимости', 'покупка жилой недвижимости',\n",
       "       'строительство собственной недвижимости', 'недвижимость',\n",
       "       'строительство недвижимости', 'на покупку подержанного автомобиля',\n",
       "       'на покупку своего автомобиля',\n",
       "       'операции с коммерческой недвижимостью',\n",
       "       'строительство жилой недвижимости', 'жилье',\n",
       "       'операции со своей недвижимостью', 'автомобили',\n",
       "       'заняться образованием', 'сделка с подержанным автомобилем',\n",
       "       'получение образования', 'автомобиль', 'свадьба',\n",
       "       'получение дополнительного образования', 'покупка своего жилья',\n",
       "       'операции с недвижимостью', 'получение высшего образования',\n",
       "       'свой автомобиль', 'сделка с автомобилем',\n",
       "       'профильное образование', 'высшее образование',\n",
       "       'покупка жилья для сдачи', 'на покупку автомобиля', 'ремонт жилью',\n",
       "       'заняться высшим образованием'], dtype=object)"
      ]
     },
     "execution_count": 20,
     "metadata": {},
     "output_type": "execute_result"
    }
   ],
   "source": [
    "data['purpose'].unique()"
   ]
  },
  {
   "cell_type": "markdown",
   "id": "3a65db4e",
   "metadata": {
    "deletable": false,
    "editable": false,
    "id": "85d0aef0"
   },
   "source": [
    "**Задание 18. Создайте функцию, которая на основании данных из столбца `purpose` сформирует новый столбец `purpose_category`, в который войдут следующие категории:**\n",
    "\n",
    "- `'операции с автомобилем'`,\n",
    "- `'операции с недвижимостью'`,\n",
    "- `'проведение свадьбы'`,\n",
    "- `'получение образования'`.\n",
    "\n",
    "**Например, если в столбце `purpose` находится подстрока `'на покупку автомобиля'`, то в столбце `purpose_category` должна появиться строка `'операции с автомобилем'`.**\n",
    "\n",
    "**Используйте собственную функцию с именем `categorize_purpose()` и метод `apply()`. Изучите данные в столбце `purpose` и определите, какие подстроки помогут вам правильно определить категорию.**"
   ]
  },
  {
   "cell_type": "code",
   "execution_count": 21,
   "id": "df1ab14c",
   "metadata": {
    "deletable": false,
    "id": "e149fab4"
   },
   "outputs": [],
   "source": [
    "def categorize_purpose(row):\n",
    "    try:\n",
    "        if 'автом' in row:\n",
    "            return 'операции с автомобилем'\n",
    "        elif 'жил' in row or 'недвиж' in row:\n",
    "            return 'операции с недвижимостью'\n",
    "        elif 'свад' in row:\n",
    "            return 'проведение свадьбы'\n",
    "        elif 'образов' in row:\n",
    "            return 'получение образования'\n",
    "    except:\n",
    "        return 'нет категории'"
   ]
  },
  {
   "cell_type": "code",
   "execution_count": 22,
   "id": "a53487f6",
   "metadata": {
    "deletable": false,
    "id": "bf36e69b"
   },
   "outputs": [],
   "source": [
    "data['purpose_category'] = data['purpose'].apply(categorize_purpose)"
   ]
  },
  {
   "cell_type": "markdown",
   "id": "90fc95fe",
   "metadata": {},
   "source": [
    "<div class=\"alert alert-info\">\n",
    "<b>Комментарий студента №1</b>\n",
    "    \n",
    "Добавлены выводы (ниже).\n",
    "</div>"
   ]
  },
  {
   "cell_type": "markdown",
   "id": "661d135e",
   "metadata": {},
   "source": [
    "**Промежуточные выводы:**\n",
    "\n",
    "**Мы заменили пропуски на медианные значения по категориям, устранили аномальные значения, исключили дубликаты (как явные, так и неявные), а также провели категоризацию доходов. Теперь можно приступить к анализу закономерностей.**"
   ]
  },
  {
   "cell_type": "markdown",
   "id": "a86206fa",
   "metadata": {
    "deletable": false,
    "editable": false,
    "id": "09b242bf"
   },
   "source": [
    "### Шаг 3. Исследуйте данные и ответьте на вопросы"
   ]
  },
  {
   "cell_type": "markdown",
   "id": "2721f45c",
   "metadata": {
    "deletable": false,
    "editable": false,
    "id": "c5d66278"
   },
   "source": [
    "#### 3.1 Есть ли зависимость между количеством детей и возвратом кредита в срок?"
   ]
  },
  {
   "cell_type": "markdown",
   "id": "2e186512",
   "metadata": {},
   "source": [
    "**Анализ взаимосвязи:**\n",
    "\n",
    "Сначала проверим, какие значения содержатся в столбце debt"
   ]
  },
  {
   "cell_type": "code",
   "execution_count": 23,
   "id": "fb2b2c77",
   "metadata": {},
   "outputs": [
    {
     "data": {
      "text/plain": [
       "array([0, 1])"
      ]
     },
     "execution_count": 23,
     "metadata": {},
     "output_type": "execute_result"
    }
   ],
   "source": [
    "data['debt'].unique()"
   ]
  },
  {
   "cell_type": "markdown",
   "id": "d14c4766",
   "metadata": {},
   "source": [
    "Поскольку аномальных значений нет, можно применить к столбцу debt функцию расчета среднего (mean), которая покажет долю клиентов, имеющих задолженность. **Поскольку аналогичные действия нам нужно будет выполнить и для других столбцов, целесообразно создать функцию для группирования.**"
   ]
  },
  {
   "cell_type": "code",
   "execution_count": 24,
   "id": "a851fae3",
   "metadata": {},
   "outputs": [],
   "source": [
    "def grouper(column, sort=False):\n",
    "    if sort:\n",
    "        return data.groupby(column)['debt'].agg(['mean', 'count']).\\\n",
    "        sort_values('mean', ascending=False).rename(columns={'mean': 'Доля просрочки', 'count': 'Число заемщиков'})\n",
    "    else:\n",
    "        return data.groupby(column)['debt'].agg(['mean', 'count']).\\\n",
    "        rename(columns={'mean': 'Доля просрочки', 'count': 'Число заемщиков'})"
   ]
  },
  {
   "cell_type": "code",
   "execution_count": 25,
   "id": "27754dac",
   "metadata": {
    "deletable": false,
    "id": "2cacfc4a",
    "scrolled": true
   },
   "outputs": [
    {
     "data": {
      "text/html": [
       "<div>\n",
       "<style scoped>\n",
       "    .dataframe tbody tr th:only-of-type {\n",
       "        vertical-align: middle;\n",
       "    }\n",
       "\n",
       "    .dataframe tbody tr th {\n",
       "        vertical-align: top;\n",
       "    }\n",
       "\n",
       "    .dataframe thead th {\n",
       "        text-align: right;\n",
       "    }\n",
       "</style>\n",
       "<table border=\"1\" class=\"dataframe\">\n",
       "  <thead>\n",
       "    <tr style=\"text-align: right;\">\n",
       "      <th></th>\n",
       "      <th>Доля просрочки</th>\n",
       "      <th>Число заемщиков</th>\n",
       "    </tr>\n",
       "    <tr>\n",
       "      <th>children</th>\n",
       "      <th></th>\n",
       "      <th></th>\n",
       "    </tr>\n",
       "  </thead>\n",
       "  <tbody>\n",
       "    <tr>\n",
       "      <th>0</th>\n",
       "      <td>0.075438</td>\n",
       "      <td>14091</td>\n",
       "    </tr>\n",
       "    <tr>\n",
       "      <th>1</th>\n",
       "      <td>0.092346</td>\n",
       "      <td>4808</td>\n",
       "    </tr>\n",
       "    <tr>\n",
       "      <th>2</th>\n",
       "      <td>0.094542</td>\n",
       "      <td>2052</td>\n",
       "    </tr>\n",
       "    <tr>\n",
       "      <th>3</th>\n",
       "      <td>0.081818</td>\n",
       "      <td>330</td>\n",
       "    </tr>\n",
       "    <tr>\n",
       "      <th>4</th>\n",
       "      <td>0.097561</td>\n",
       "      <td>41</td>\n",
       "    </tr>\n",
       "    <tr>\n",
       "      <th>5</th>\n",
       "      <td>0.000000</td>\n",
       "      <td>9</td>\n",
       "    </tr>\n",
       "  </tbody>\n",
       "</table>\n",
       "</div>"
      ],
      "text/plain": [
       "          Доля просрочки  Число заемщиков\n",
       "children                                 \n",
       "0               0.075438            14091\n",
       "1               0.092346             4808\n",
       "2               0.094542             2052\n",
       "3               0.081818              330\n",
       "4               0.097561               41\n",
       "5               0.000000                9"
      ]
     },
     "execution_count": 25,
     "metadata": {},
     "output_type": "execute_result"
    }
   ],
   "source": [
    "grouper('children')"
   ]
  },
  {
   "cell_type": "markdown",
   "id": "0ab7f2a4",
   "metadata": {},
   "source": [
    "<div class=\"alert alert-success\">\n",
    "<b>Комментарий ревьюера №1</b> ✅\n",
    "    \n",
    "Могу посоветовать переименовать столбцы и написать функцию для построения сводных во всех вопросах.\n",
    "</div>"
   ]
  },
  {
   "cell_type": "markdown",
   "id": "33e5d72f",
   "metadata": {},
   "source": [
    "<div class=\"alert alert-info\">\n",
    "<b>Комментарий студента №1</b>\n",
    "    \n",
    "Идея с функцией - отличная. Скорректировал текст и код выше. Соответственно, переписал и код в следующих разделах.\n",
    "</div>"
   ]
  },
  {
   "cell_type": "code",
   "execution_count": 26,
   "id": "08290cb2",
   "metadata": {},
   "outputs": [
    {
     "data": {
      "text/plain": [
       "<AxesSubplot:xlabel='Число детей', ylabel='Доля просрочки'>"
      ]
     },
     "execution_count": 26,
     "metadata": {},
     "output_type": "execute_result"
    },
    {
     "data": {
      "image/png": "[encoded data removed]",
      "text/plain": [
       "<Figure size 432x288 with 1 Axes>"
      ]
     },
     "metadata": {
      "needs_background": "light"
     },
     "output_type": "display_data"
    }
   ],
   "source": [
    "grouper('children')['Доля просрочки'].plot(kind='bar', xlabel='Число детей', ylabel='Доля просрочки')"
   ]
  },
  {
   "cell_type": "markdown",
   "id": "6e1f9343",
   "metadata": {},
   "source": [
    "<div class=\"alert alert-success\">\n",
    "<b>Комментарий ревьюера №2</b> ✅\n",
    "    \n",
    "Построение графика можно поместить в ту же функцию\n",
    "</div>"
   ]
  },
  {
   "cell_type": "markdown",
   "id": "f7f0344f",
   "metadata": {},
   "source": [
    "**Видно, что доля невозвратов у клиентов без детей минимальная. По мере увеличения числа детей она растет. При этом группы с 3-5 детьми крайне малочисленны, в связи с чем целесообразно их присоединить к группе клиентов с 2 детьми.**"
   ]
  },
  {
   "cell_type": "markdown",
   "id": "e9461d01",
   "metadata": {},
   "source": [
    "**Создадим новый столбец children_category и снова рассчитаем долю невозвратов.**"
   ]
  },
  {
   "cell_type": "code",
   "execution_count": 27,
   "id": "88fde026",
   "metadata": {},
   "outputs": [
    {
     "data": {
      "text/html": [
       "<div>\n",
       "<style scoped>\n",
       "    .dataframe tbody tr th:only-of-type {\n",
       "        vertical-align: middle;\n",
       "    }\n",
       "\n",
       "    .dataframe tbody tr th {\n",
       "        vertical-align: top;\n",
       "    }\n",
       "\n",
       "    .dataframe thead th {\n",
       "        text-align: right;\n",
       "    }\n",
       "</style>\n",
       "<table border=\"1\" class=\"dataframe\">\n",
       "  <thead>\n",
       "    <tr style=\"text-align: right;\">\n",
       "      <th></th>\n",
       "      <th>Доля просрочки</th>\n",
       "      <th>Число заемщиков</th>\n",
       "    </tr>\n",
       "    <tr>\n",
       "      <th>children_category</th>\n",
       "      <th></th>\n",
       "      <th></th>\n",
       "    </tr>\n",
       "  </thead>\n",
       "  <tbody>\n",
       "    <tr>\n",
       "      <th>2+</th>\n",
       "      <td>0.092516</td>\n",
       "      <td>2432</td>\n",
       "    </tr>\n",
       "    <tr>\n",
       "      <th>1</th>\n",
       "      <td>0.092346</td>\n",
       "      <td>4808</td>\n",
       "    </tr>\n",
       "    <tr>\n",
       "      <th>0</th>\n",
       "      <td>0.075438</td>\n",
       "      <td>14091</td>\n",
       "    </tr>\n",
       "  </tbody>\n",
       "</table>\n",
       "</div>"
      ],
      "text/plain": [
       "                   Доля просрочки  Число заемщиков\n",
       "children_category                                 \n",
       "2+                       0.092516             2432\n",
       "1                        0.092346             4808\n",
       "0                        0.075438            14091"
      ]
     },
     "execution_count": 27,
     "metadata": {},
     "output_type": "execute_result"
    }
   ],
   "source": [
    "def categorize_children(children):\n",
    "    try:\n",
    "        if children >= 2:\n",
    "            return '2+'\n",
    "        elif children == 1:\n",
    "            return '1'\n",
    "        elif children == 0:\n",
    "            return '0'\n",
    "    except:\n",
    "        pass\n",
    "\n",
    "data['children_category'] = data['children'].apply(categorize_children)\n",
    "grouper('children_category', sort=True)"
   ]
  },
  {
   "cell_type": "markdown",
   "id": "bb9c9617",
   "metadata": {},
   "source": [
    "<div class=\"alert alert-success\">\n",
    "<b>Комментарий ревьюера №1</b> ✅\n",
    "    \n",
    "Вот как можно распределить клиентов\n",
    "    \n",
    "    data['has_children'] = [1 if x >=1 else 0 for x in data['children']]\n",
    "</div>"
   ]
  },
  {
   "cell_type": "code",
   "execution_count": 28,
   "id": "ffc59202",
   "metadata": {},
   "outputs": [
    {
     "data": {
      "text/plain": [
       "<AxesSubplot:xlabel='Число детей', ylabel='Доля просрочки'>"
      ]
     },
     "execution_count": 28,
     "metadata": {},
     "output_type": "execute_result"
    },
    {
     "data": {
      "image/png": "[encoded data removed]",
      "text/plain": [
       "<Figure size 432x288 with 1 Axes>"
      ]
     },
     "metadata": {
      "needs_background": "light"
     },
     "output_type": "display_data"
    }
   ],
   "source": [
    "grouper('children_category')['Доля просрочки'].plot(kind='bar', xlabel='Число детей', ylabel='Доля просрочки')"
   ]
  },
  {
   "cell_type": "markdown",
   "id": "66289aab",
   "metadata": {
    "deletable": false,
    "id": "3a6b99ec"
   },
   "source": [
    "**Вывод:** \n",
    "\n",
    "**С увеличением числа детей растет доля невозвратов.** Это можно объяснить: с появлением детей растет как объем, так и доля непредвиденных расходов, что может отрицательно влиять на платежную дисциплину.\n",
    "\n",
    "**Различие в уровне просрочки между клиентами с 1 ребенком и клиентами с 2+ детьми невелико, но, возможно, здесь оказывают влияние другие факторы (например, семейное положение). Проверим это далее.**"
   ]
  },
  {
   "cell_type": "markdown",
   "id": "502c5484",
   "metadata": {},
   "source": [
    "<div class=\"alert alert-danger\">\n",
    "<b>Комментарий ревьюера №1</b> ❌\n",
    " \n",
    "Выявлять зависимость стоит, сравнивая самые большие, сопоставимые по размеру категории заемщиков. Какую зависимость можно выявить, сравнив категории с 0, 1 и 2 детьми?\n",
    "</div>"
   ]
  },
  {
   "cell_type": "markdown",
   "id": "4b67984b",
   "metadata": {},
   "source": [
    "<div class=\"alert alert-info\">\n",
    "<b>Комментарий студента №1</b>\n",
    "    \n",
    "Скорректировал выводы и разделение выше. Мне кажется, целесообразно клиентов с 3-5 детей присоединить к группе \"2+\".\n",
    "</div>"
   ]
  },
  {
   "cell_type": "markdown",
   "id": "ab4296e9",
   "metadata": {},
   "source": [
    "<div class=\"alert alert-success\">\n",
    "<b>Комментарий ревьюера №2</b> ✅\n",
    "    \n",
    "👍\n",
    "</div>"
   ]
  },
  {
   "cell_type": "markdown",
   "id": "add633fc",
   "metadata": {
    "deletable": false,
    "editable": false,
    "id": "97be82ca"
   },
   "source": [
    "#### 3.2 Есть ли зависимость между семейным положением и возвратом кредита в срок?"
   ]
  },
  {
   "cell_type": "markdown",
   "id": "9cb0c635",
   "metadata": {},
   "source": [
    "**Анализ взаимосвязи:**\n",
    "\n",
    "Рассчитаем среднюю долю невозвратов по группам клиентов с различным семейным положением."
   ]
  },
  {
   "cell_type": "code",
   "execution_count": 29,
   "id": "76b7ae94",
   "metadata": {
    "deletable": false,
    "id": "dc3f7ee8"
   },
   "outputs": [
    {
     "data": {
      "text/html": [
       "<div>\n",
       "<style scoped>\n",
       "    .dataframe tbody tr th:only-of-type {\n",
       "        vertical-align: middle;\n",
       "    }\n",
       "\n",
       "    .dataframe tbody tr th {\n",
       "        vertical-align: top;\n",
       "    }\n",
       "\n",
       "    .dataframe thead th {\n",
       "        text-align: right;\n",
       "    }\n",
       "</style>\n",
       "<table border=\"1\" class=\"dataframe\">\n",
       "  <thead>\n",
       "    <tr style=\"text-align: right;\">\n",
       "      <th></th>\n",
       "      <th>Доля просрочки</th>\n",
       "      <th>Число заемщиков</th>\n",
       "    </tr>\n",
       "    <tr>\n",
       "      <th>family_status</th>\n",
       "      <th></th>\n",
       "      <th></th>\n",
       "    </tr>\n",
       "  </thead>\n",
       "  <tbody>\n",
       "    <tr>\n",
       "      <th>Не женат / не замужем</th>\n",
       "      <td>0.097639</td>\n",
       "      <td>2796</td>\n",
       "    </tr>\n",
       "    <tr>\n",
       "      <th>гражданский брак</th>\n",
       "      <td>0.093130</td>\n",
       "      <td>4134</td>\n",
       "    </tr>\n",
       "    <tr>\n",
       "      <th>женат / замужем</th>\n",
       "      <td>0.075606</td>\n",
       "      <td>12261</td>\n",
       "    </tr>\n",
       "    <tr>\n",
       "      <th>в разводе</th>\n",
       "      <td>0.070648</td>\n",
       "      <td>1189</td>\n",
       "    </tr>\n",
       "    <tr>\n",
       "      <th>вдовец / вдова</th>\n",
       "      <td>0.066246</td>\n",
       "      <td>951</td>\n",
       "    </tr>\n",
       "  </tbody>\n",
       "</table>\n",
       "</div>"
      ],
      "text/plain": [
       "                       Доля просрочки  Число заемщиков\n",
       "family_status                                         \n",
       "Не женат / не замужем        0.097639             2796\n",
       "гражданский брак             0.093130             4134\n",
       "женат / замужем              0.075606            12261\n",
       "в разводе                    0.070648             1189\n",
       "вдовец / вдова               0.066246              951"
      ]
     },
     "execution_count": 29,
     "metadata": {},
     "output_type": "execute_result"
    }
   ],
   "source": [
    "grouper('family_status', sort=True)"
   ]
  },
  {
   "cell_type": "code",
   "execution_count": 30,
   "id": "7b6057db",
   "metadata": {},
   "outputs": [
    {
     "data": {
      "text/plain": [
       "<AxesSubplot:xlabel='Семейное положение', ylabel='Доля просрочки'>"
      ]
     },
     "execution_count": 30,
     "metadata": {},
     "output_type": "execute_result"
    },
    {
     "data": {
      "image/png": "[encoded data removed]",
      "text/plain": [
       "<Figure size 432x288 with 1 Axes>"
      ]
     },
     "metadata": {
      "needs_background": "light"
     },
     "output_type": "display_data"
    }
   ],
   "source": [
    "grouper('family_status', sort=True)['Доля просрочки'].plot(kind='bar', xlabel='Семейное положение', ylabel='Доля просрочки')"
   ]
  },
  {
   "cell_type": "markdown",
   "id": "74d80c8f",
   "metadata": {},
   "source": [
    "Доля невозвратов в зависимости от семейного положения отличается, но число наблюдений в категориях \"в разводе\" и \"вдовец / вдова\" достаточно мало."
   ]
  },
  {
   "cell_type": "markdown",
   "id": "3eb6c325",
   "metadata": {},
   "source": [
    "**Гипотеза:**\n",
    "\n",
    "Есть некоторая тенденция: доля невозвратов у тех, кто состоит в гражданском браке или не женат/не замужем, выше, чем у остальных (т.е. тех, кто состоит или состоял в официальном браке).\n",
    "\n",
    "Проверим это. Создадим новый столбец is_was_married и снова рассчитаем долю невозвратов."
   ]
  },
  {
   "cell_type": "code",
   "execution_count": 31,
   "id": "133f908d",
   "metadata": {},
   "outputs": [
    {
     "data": {
      "text/html": [
       "<div>\n",
       "<style scoped>\n",
       "    .dataframe tbody tr th:only-of-type {\n",
       "        vertical-align: middle;\n",
       "    }\n",
       "\n",
       "    .dataframe tbody tr th {\n",
       "        vertical-align: top;\n",
       "    }\n",
       "\n",
       "    .dataframe thead th {\n",
       "        text-align: right;\n",
       "    }\n",
       "</style>\n",
       "<table border=\"1\" class=\"dataframe\">\n",
       "  <thead>\n",
       "    <tr style=\"text-align: right;\">\n",
       "      <th></th>\n",
       "      <th>Доля просрочки</th>\n",
       "      <th>Число заемщиков</th>\n",
       "    </tr>\n",
       "    <tr>\n",
       "      <th>is_was_married</th>\n",
       "      <th></th>\n",
       "      <th></th>\n",
       "    </tr>\n",
       "  </thead>\n",
       "  <tbody>\n",
       "    <tr>\n",
       "      <th>0</th>\n",
       "      <td>0.094949</td>\n",
       "      <td>6930</td>\n",
       "    </tr>\n",
       "    <tr>\n",
       "      <th>1</th>\n",
       "      <td>0.074578</td>\n",
       "      <td>14401</td>\n",
       "    </tr>\n",
       "  </tbody>\n",
       "</table>\n",
       "</div>"
      ],
      "text/plain": [
       "                Доля просрочки  Число заемщиков\n",
       "is_was_married                                 \n",
       "0                     0.094949             6930\n",
       "1                     0.074578            14401"
      ]
     },
     "execution_count": 31,
     "metadata": {},
     "output_type": "execute_result"
    }
   ],
   "source": [
    "def married(family_status):\n",
    "    try:\n",
    "        if family_status == 'гражданский брак' or family_status == 'Не женат / не замужем':\n",
    "            return 0\n",
    "        elif family_status == 'женат / замужем' or family_status == 'в разводе' or family_status == 'вдовец / вдова':\n",
    "            return 1\n",
    "    except:\n",
    "        pass\n",
    "\n",
    "data['is_was_married'] = data['family_status'].apply(married)\n",
    "grouper('is_was_married', sort=True)"
   ]
  },
  {
   "cell_type": "code",
   "execution_count": 32,
   "id": "9ef32533",
   "metadata": {},
   "outputs": [
    {
     "data": {
      "text/plain": [
       "<AxesSubplot:xlabel='Состоит или состоял в оф. браке', ylabel='Доля просрочки'>"
      ]
     },
     "execution_count": 32,
     "metadata": {},
     "output_type": "execute_result"
    },
    {
     "data": {
      "image/png": "[encoded data removed]",
      "text/plain": [
       "<Figure size 432x288 with 1 Axes>"
      ]
     },
     "metadata": {
      "needs_background": "light"
     },
     "output_type": "display_data"
    }
   ],
   "source": [
    "grouper('is_was_married', sort=True)['Доля просрочки'].\\\n",
    "plot(kind='bar', xlabel='Состоит или состоял в оф. браке', ylabel='Доля просрочки')"
   ]
  },
  {
   "cell_type": "markdown",
   "id": "05ad6065",
   "metadata": {},
   "source": [
    "**Возможно, на показатели влияет и возраст (предположительно, не состоявшие в официальном браке моложе, чем состоявшие). Проверим это.**"
   ]
  },
  {
   "cell_type": "code",
   "execution_count": 33,
   "id": "21dd0443",
   "metadata": {},
   "outputs": [
    {
     "data": {
      "text/html": [
       "<div>\n",
       "<style scoped>\n",
       "    .dataframe tbody tr th:only-of-type {\n",
       "        vertical-align: middle;\n",
       "    }\n",
       "\n",
       "    .dataframe tbody tr th {\n",
       "        vertical-align: top;\n",
       "    }\n",
       "\n",
       "    .dataframe thead th {\n",
       "        text-align: right;\n",
       "    }\n",
       "</style>\n",
       "<table border=\"1\" class=\"dataframe\">\n",
       "  <thead>\n",
       "    <tr style=\"text-align: right;\">\n",
       "      <th></th>\n",
       "      <th>Средний возраст</th>\n",
       "      <th>Число заемщиков</th>\n",
       "    </tr>\n",
       "    <tr>\n",
       "      <th>is_was_married</th>\n",
       "      <th></th>\n",
       "      <th></th>\n",
       "    </tr>\n",
       "  </thead>\n",
       "  <tbody>\n",
       "    <tr>\n",
       "      <th>0</th>\n",
       "      <td>40.575036</td>\n",
       "      <td>6930</td>\n",
       "    </tr>\n",
       "    <tr>\n",
       "      <th>1</th>\n",
       "      <td>44.578640</td>\n",
       "      <td>14401</td>\n",
       "    </tr>\n",
       "  </tbody>\n",
       "</table>\n",
       "</div>"
      ],
      "text/plain": [
       "                Средний возраст  Число заемщиков\n",
       "is_was_married                                  \n",
       "0                     40.575036             6930\n",
       "1                     44.578640            14401"
      ]
     },
     "execution_count": 33,
     "metadata": {},
     "output_type": "execute_result"
    }
   ],
   "source": [
    "data.groupby('is_was_married')['dob_years'].agg(['mean', 'count']).\\\n",
    "rename(columns={'mean': 'Средний возраст', 'count': 'Число заемщиков'})"
   ]
  },
  {
   "cell_type": "markdown",
   "id": "7ff09c19",
   "metadata": {},
   "source": [
    "**Действительно, средний возраст состоящих / состоявших в браке выше, чем у несостоявших.**"
   ]
  },
  {
   "cell_type": "markdown",
   "id": "caeb0cfd",
   "metadata": {
    "deletable": false,
    "id": "1cef7837"
   },
   "source": [
    "**Вывод:** \n",
    "\n",
    "Доля невозвратов у тех, кто состоит или состоял в официальном браке, ниже, чем у тех, кто не состоял, **что, скорее всего, связано с возрастом**"
   ]
  },
  {
   "cell_type": "markdown",
   "id": "47446e7c",
   "metadata": {},
   "source": [
    "<div class=\"alert alert-success\">\n",
    "<b>Комментарий ревьюера №1</b> ✅\n",
    "    \n",
    "Люди, побывавшие в официальном браке, наиболее надежны. Возможно, есть связь с возрастом\n",
    "</div>"
   ]
  },
  {
   "cell_type": "markdown",
   "id": "c62f4d7d",
   "metadata": {},
   "source": [
    "<div class=\"alert alert-info\">\n",
    "<b>Комментарий студента №1</b>\n",
    "    \n",
    "Спасибо за подсказку. Действительно, есть связь с возрастом. Добавил выше.\n",
    "</div>"
   ]
  },
  {
   "cell_type": "markdown",
   "id": "0f7ca9af",
   "metadata": {},
   "source": [
    "**Анализ совместного влияния наличия детей и официального брака:**\n",
    "\n",
    "Построим сводную таблицу по указанным двум параметрам."
   ]
  },
  {
   "cell_type": "code",
   "execution_count": 34,
   "id": "b3fe23ea",
   "metadata": {
    "scrolled": true
   },
   "outputs": [
    {
     "data": {
      "text/html": [
       "<div>\n",
       "<style scoped>\n",
       "    .dataframe tbody tr th:only-of-type {\n",
       "        vertical-align: middle;\n",
       "    }\n",
       "\n",
       "    .dataframe tbody tr th {\n",
       "        vertical-align: top;\n",
       "    }\n",
       "\n",
       "    .dataframe thead th {\n",
       "        text-align: right;\n",
       "    }\n",
       "</style>\n",
       "<table border=\"1\" class=\"dataframe\">\n",
       "  <thead>\n",
       "    <tr style=\"text-align: right;\">\n",
       "      <th>children_category</th>\n",
       "      <th>0</th>\n",
       "      <th>1</th>\n",
       "      <th>2+</th>\n",
       "    </tr>\n",
       "    <tr>\n",
       "      <th>is_was_married</th>\n",
       "      <th></th>\n",
       "      <th></th>\n",
       "      <th></th>\n",
       "    </tr>\n",
       "  </thead>\n",
       "  <tbody>\n",
       "    <tr>\n",
       "      <th>0</th>\n",
       "      <td>0.087941</td>\n",
       "      <td>0.117729</td>\n",
       "      <td>0.099190</td>\n",
       "    </tr>\n",
       "    <tr>\n",
       "      <th>1</th>\n",
       "      <td>0.068579</td>\n",
       "      <td>0.081451</td>\n",
       "      <td>0.090815</td>\n",
       "    </tr>\n",
       "  </tbody>\n",
       "</table>\n",
       "</div>"
      ],
      "text/plain": [
       "children_category         0         1        2+\n",
       "is_was_married                                 \n",
       "0                  0.087941  0.117729  0.099190\n",
       "1                  0.068579  0.081451  0.090815"
      ]
     },
     "execution_count": 34,
     "metadata": {},
     "output_type": "execute_result"
    }
   ],
   "source": [
    "data_pivoted = data.pivot_table(index='is_was_married', columns='children_category', values='debt', aggfunc='mean')\n",
    "data_pivoted"
   ]
  },
  {
   "cell_type": "code",
   "execution_count": 35,
   "id": "c609ace8",
   "metadata": {},
   "outputs": [
    {
     "data": {
      "text/plain": [
       "<AxesSubplot:xlabel='Состоит или состоял в оф. браке', ylabel='Доля невозвратов'>"
      ]
     },
     "execution_count": 35,
     "metadata": {},
     "output_type": "execute_result"
    },
    {
     "data": {
      "image/png": "[encoded data removed]",
      "text/plain": [
       "<Figure size 432x288 with 1 Axes>"
      ]
     },
     "metadata": {
      "needs_background": "light"
     },
     "output_type": "display_data"
    }
   ],
   "source": [
    "data_pivoted.plot(kind='bar', xlabel='Состоит или состоял в оф. браке', ylabel='Доля невозвратов')"
   ]
  },
  {
   "cell_type": "markdown",
   "id": "a36cfaef",
   "metadata": {},
   "source": [
    "**Мы видим что независимо от того, состоял или не состоял клиент в официальном браке, увеличение числа детей ведет к снижению платежной дисциплины. Однако исключением является категория \"не состоял в оф. браке\" и \"2+ детей\". Но, возможно, в данной категории слишком мало число наблюдений. Проверим это.**"
   ]
  },
  {
   "cell_type": "code",
   "execution_count": 36,
   "id": "0dd3bbc9",
   "metadata": {},
   "outputs": [
    {
     "data": {
      "text/html": [
       "<div>\n",
       "<style scoped>\n",
       "    .dataframe tbody tr th:only-of-type {\n",
       "        vertical-align: middle;\n",
       "    }\n",
       "\n",
       "    .dataframe tbody tr th {\n",
       "        vertical-align: top;\n",
       "    }\n",
       "\n",
       "    .dataframe thead th {\n",
       "        text-align: right;\n",
       "    }\n",
       "</style>\n",
       "<table border=\"1\" class=\"dataframe\">\n",
       "  <thead>\n",
       "    <tr style=\"text-align: right;\">\n",
       "      <th>children_category</th>\n",
       "      <th>0</th>\n",
       "      <th>1</th>\n",
       "      <th>2+</th>\n",
       "    </tr>\n",
       "    <tr>\n",
       "      <th>is_was_married</th>\n",
       "      <th></th>\n",
       "      <th></th>\n",
       "      <th></th>\n",
       "    </tr>\n",
       "  </thead>\n",
       "  <tbody>\n",
       "    <tr>\n",
       "      <th>0</th>\n",
       "      <td>4992</td>\n",
       "      <td>1444</td>\n",
       "      <td>494</td>\n",
       "    </tr>\n",
       "    <tr>\n",
       "      <th>1</th>\n",
       "      <td>9099</td>\n",
       "      <td>3364</td>\n",
       "      <td>1938</td>\n",
       "    </tr>\n",
       "  </tbody>\n",
       "</table>\n",
       "</div>"
      ],
      "text/plain": [
       "children_category     0     1    2+\n",
       "is_was_married                     \n",
       "0                  4992  1444   494\n",
       "1                  9099  3364  1938"
      ]
     },
     "execution_count": 36,
     "metadata": {},
     "output_type": "execute_result"
    }
   ],
   "source": [
    "data.pivot_table(index='is_was_married', columns='children_category', values='debt', aggfunc='count')"
   ]
  },
  {
   "cell_type": "markdown",
   "id": "4bc1a1f2",
   "metadata": {},
   "source": [
    "**Вывод:**\n",
    "\n",
    "Появление **ребенка** для не состоявших в официальном браке приводит к увеличению средней доли просроченной задолженности сразу **на 3 п.п. Для состоящих / состоявших в официальном браке - дополнительный ребенок увеличивает среднюю долю просроченной задолженности примерно на 1 п.п.**"
   ]
  },
  {
   "cell_type": "markdown",
   "id": "0f1517f2",
   "metadata": {
    "deletable": false,
    "editable": false,
    "id": "1e8b2fca"
   },
   "source": [
    "#### 3.3 Есть ли зависимость между уровнем дохода и возвратом кредита в срок?"
   ]
  },
  {
   "cell_type": "markdown",
   "id": "9d41a222",
   "metadata": {},
   "source": [
    "**Анализ взаимосвязи:**\n",
    "\n",
    "Рассчитаем среднюю долю невозвратов по группам клиентов с различными категориями дохода."
   ]
  },
  {
   "cell_type": "code",
   "execution_count": 37,
   "id": "73811268",
   "metadata": {
    "deletable": false,
    "id": "cd7e3720"
   },
   "outputs": [
    {
     "data": {
      "text/html": [
       "<div>\n",
       "<style scoped>\n",
       "    .dataframe tbody tr th:only-of-type {\n",
       "        vertical-align: middle;\n",
       "    }\n",
       "\n",
       "    .dataframe tbody tr th {\n",
       "        vertical-align: top;\n",
       "    }\n",
       "\n",
       "    .dataframe thead th {\n",
       "        text-align: right;\n",
       "    }\n",
       "</style>\n",
       "<table border=\"1\" class=\"dataframe\">\n",
       "  <thead>\n",
       "    <tr style=\"text-align: right;\">\n",
       "      <th></th>\n",
       "      <th>Доля просрочки</th>\n",
       "      <th>Число заемщиков</th>\n",
       "    </tr>\n",
       "    <tr>\n",
       "      <th>total_income_category</th>\n",
       "      <th></th>\n",
       "      <th></th>\n",
       "    </tr>\n",
       "  </thead>\n",
       "  <tbody>\n",
       "    <tr>\n",
       "      <th>A</th>\n",
       "      <td>0.080000</td>\n",
       "      <td>25</td>\n",
       "    </tr>\n",
       "    <tr>\n",
       "      <th>B</th>\n",
       "      <td>0.070602</td>\n",
       "      <td>5014</td>\n",
       "    </tr>\n",
       "    <tr>\n",
       "      <th>C</th>\n",
       "      <td>0.084982</td>\n",
       "      <td>15921</td>\n",
       "    </tr>\n",
       "    <tr>\n",
       "      <th>D</th>\n",
       "      <td>0.060172</td>\n",
       "      <td>349</td>\n",
       "    </tr>\n",
       "    <tr>\n",
       "      <th>E</th>\n",
       "      <td>0.090909</td>\n",
       "      <td>22</td>\n",
       "    </tr>\n",
       "  </tbody>\n",
       "</table>\n",
       "</div>"
      ],
      "text/plain": [
       "                       Доля просрочки  Число заемщиков\n",
       "total_income_category                                 \n",
       "A                            0.080000               25\n",
       "B                            0.070602             5014\n",
       "C                            0.084982            15921\n",
       "D                            0.060172              349\n",
       "E                            0.090909               22"
      ]
     },
     "execution_count": 37,
     "metadata": {},
     "output_type": "execute_result"
    }
   ],
   "source": [
    "grouper('total_income_category')"
   ]
  },
  {
   "cell_type": "code",
   "execution_count": 38,
   "id": "765e87d0",
   "metadata": {},
   "outputs": [
    {
     "data": {
      "text/plain": [
       "<AxesSubplot:xlabel='Категория дохода', ylabel='Доля просрочки'>"
      ]
     },
     "execution_count": 38,
     "metadata": {},
     "output_type": "execute_result"
    },
    {
     "data": {
      "image/png": "[encoded data removed]",
      "text/plain": [
       "<Figure size 432x288 with 1 Axes>"
      ]
     },
     "metadata": {
      "needs_background": "light"
     },
     "output_type": "display_data"
    }
   ],
   "source": [
    "grouper('total_income_category')['Доля просрочки'].plot(kind='bar', xlabel='Категория дохода', ylabel='Доля просрочки')"
   ]
  },
  {
   "cell_type": "markdown",
   "id": "8db26b49",
   "metadata": {},
   "source": [
    "Очевидной связи между уровнем дохода и платежной дисциплиной не видно. Однако число клиентов в категориях A, D, E весьма мало, чтобы делать однозначные выводы."
   ]
  },
  {
   "cell_type": "markdown",
   "id": "ae332de0",
   "metadata": {},
   "source": [
    "**Гипотеза:**\n",
    "\n",
    "Попробуем объединить клиентов по уровню дохода в две группы: до 200000 включительно (т.е. категории C, D, E) и более 200000 (т.е. категории A и B)."
   ]
  },
  {
   "cell_type": "code",
   "execution_count": 39,
   "id": "6779c3e1",
   "metadata": {},
   "outputs": [
    {
     "data": {
      "text/html": [
       "<div>\n",
       "<style scoped>\n",
       "    .dataframe tbody tr th:only-of-type {\n",
       "        vertical-align: middle;\n",
       "    }\n",
       "\n",
       "    .dataframe tbody tr th {\n",
       "        vertical-align: top;\n",
       "    }\n",
       "\n",
       "    .dataframe thead th {\n",
       "        text-align: right;\n",
       "    }\n",
       "</style>\n",
       "<table border=\"1\" class=\"dataframe\">\n",
       "  <thead>\n",
       "    <tr style=\"text-align: right;\">\n",
       "      <th></th>\n",
       "      <th>Доля просрочки</th>\n",
       "      <th>Число заемщиков</th>\n",
       "    </tr>\n",
       "    <tr>\n",
       "      <th>total_income_group</th>\n",
       "      <th></th>\n",
       "      <th></th>\n",
       "    </tr>\n",
       "  </thead>\n",
       "  <tbody>\n",
       "    <tr>\n",
       "      <th>До 200000 вкл.</th>\n",
       "      <td>0.084459</td>\n",
       "      <td>16292</td>\n",
       "    </tr>\n",
       "    <tr>\n",
       "      <th>Более 200000</th>\n",
       "      <td>0.070649</td>\n",
       "      <td>5039</td>\n",
       "    </tr>\n",
       "  </tbody>\n",
       "</table>\n",
       "</div>"
      ],
      "text/plain": [
       "                    Доля просрочки  Число заемщиков\n",
       "total_income_group                                 \n",
       "До 200000 вкл.            0.084459            16292\n",
       "Более 200000              0.070649             5039"
      ]
     },
     "execution_count": 39,
     "metadata": {},
     "output_type": "execute_result"
    }
   ],
   "source": [
    "def group_income(income):\n",
    "    try:\n",
    "        if 0 <= income <= 200000:\n",
    "            return 'До 200000 вкл.'\n",
    "        elif income >= 200001:\n",
    "            return 'Более 200000'\n",
    "    except:\n",
    "        pass\n",
    "\n",
    "data['total_income_group'] = data['total_income'].apply(group_income)\n",
    "grouper('total_income_group', sort=True)"
   ]
  },
  {
   "cell_type": "code",
   "execution_count": 40,
   "id": "bf0adba5",
   "metadata": {},
   "outputs": [
    {
     "data": {
      "text/plain": [
       "<AxesSubplot:xlabel='Категория дохода', ylabel='Доля просрочки'>"
      ]
     },
     "execution_count": 40,
     "metadata": {},
     "output_type": "execute_result"
    },
    {
     "data": {
      "image/png": "[encoded data removed]",
      "text/plain": [
       "<Figure size 432x288 with 1 Axes>"
      ]
     },
     "metadata": {
      "needs_background": "light"
     },
     "output_type": "display_data"
    }
   ],
   "source": [
    "grouper('total_income_group', sort=True)['Доля просрочки'].plot(kind='bar', xlabel='Категория дохода', ylabel='Доля просрочки')"
   ]
  },
  {
   "cell_type": "markdown",
   "id": "180194b6",
   "metadata": {
    "deletable": false,
    "id": "e8593def"
   },
   "source": [
    "**Вывод:** \n",
    "\n",
    "Клиенты с уровнем дохода более 200000 в среднем имеют лучшую платежную дисциплину, чем те, у кого доход меньше."
   ]
  },
  {
   "cell_type": "markdown",
   "id": "bf648a3c",
   "metadata": {},
   "source": [
    "<div class=\"alert alert-success\">\n",
    "<b>Комментарий ревьюера №1</b> ✅\n",
    "    \n",
    "Хорошо\n",
    "</div>"
   ]
  },
  {
   "cell_type": "markdown",
   "id": "0b299a0e",
   "metadata": {
    "deletable": false,
    "editable": false,
    "id": "99ecbd1f"
   },
   "source": [
    "#### 3.4 Как разные цели кредита влияют на его возврат в срок?"
   ]
  },
  {
   "cell_type": "markdown",
   "id": "5b00bbe4",
   "metadata": {},
   "source": [
    "**Анализ взаимосвязи:**\n",
    "\n",
    "Рассчитаем среднюю долю невозвратов по группам клиентов с различными целями кредитов."
   ]
  },
  {
   "cell_type": "code",
   "execution_count": 41,
   "id": "3a3d83f3",
   "metadata": {
    "deletable": false,
    "id": "2b687290"
   },
   "outputs": [
    {
     "data": {
      "text/html": [
       "<div>\n",
       "<style scoped>\n",
       "    .dataframe tbody tr th:only-of-type {\n",
       "        vertical-align: middle;\n",
       "    }\n",
       "\n",
       "    .dataframe tbody tr th {\n",
       "        vertical-align: top;\n",
       "    }\n",
       "\n",
       "    .dataframe thead th {\n",
       "        text-align: right;\n",
       "    }\n",
       "</style>\n",
       "<table border=\"1\" class=\"dataframe\">\n",
       "  <thead>\n",
       "    <tr style=\"text-align: right;\">\n",
       "      <th></th>\n",
       "      <th>Доля просрочки</th>\n",
       "      <th>Число заемщиков</th>\n",
       "    </tr>\n",
       "    <tr>\n",
       "      <th>purpose_category</th>\n",
       "      <th></th>\n",
       "      <th></th>\n",
       "    </tr>\n",
       "  </thead>\n",
       "  <tbody>\n",
       "    <tr>\n",
       "      <th>операции с автомобилем</th>\n",
       "      <td>0.093480</td>\n",
       "      <td>4279</td>\n",
       "    </tr>\n",
       "    <tr>\n",
       "      <th>получение образования</th>\n",
       "      <td>0.092528</td>\n",
       "      <td>3988</td>\n",
       "    </tr>\n",
       "    <tr>\n",
       "      <th>проведение свадьбы</th>\n",
       "      <td>0.079118</td>\n",
       "      <td>2313</td>\n",
       "    </tr>\n",
       "    <tr>\n",
       "      <th>операции с недвижимостью</th>\n",
       "      <td>0.072551</td>\n",
       "      <td>10751</td>\n",
       "    </tr>\n",
       "  </tbody>\n",
       "</table>\n",
       "</div>"
      ],
      "text/plain": [
       "                          Доля просрочки  Число заемщиков\n",
       "purpose_category                                         \n",
       "операции с автомобилем          0.093480             4279\n",
       "получение образования           0.092528             3988\n",
       "проведение свадьбы              0.079118             2313\n",
       "операции с недвижимостью        0.072551            10751"
      ]
     },
     "execution_count": 41,
     "metadata": {},
     "output_type": "execute_result"
    }
   ],
   "source": [
    "grouper('purpose_category', sort=True)"
   ]
  },
  {
   "cell_type": "code",
   "execution_count": 42,
   "id": "38260672",
   "metadata": {},
   "outputs": [
    {
     "data": {
      "text/plain": [
       "<AxesSubplot:xlabel='Цель кредита', ylabel='Доля просрочки'>"
      ]
     },
     "execution_count": 42,
     "metadata": {},
     "output_type": "execute_result"
    },
    {
     "data": {
      "image/png": "[encoded data removed]",
      "text/plain": [
       "<Figure size 432x288 with 1 Axes>"
      ]
     },
     "metadata": {
      "needs_background": "light"
     },
     "output_type": "display_data"
    }
   ],
   "source": [
    "grouper('purpose_category', sort=True)['Доля просрочки'].plot(kind='bar', xlabel='Цель кредита', ylabel='Доля просрочки')"
   ]
  },
  {
   "cell_type": "markdown",
   "id": "2528b075",
   "metadata": {
    "deletable": false,
    "id": "b4bb2ce6"
   },
   "source": [
    "**Вывод:** \n",
    "\n",
    "Наихудшая платежная дисциплина наблюдается по кредитам на операции с автомобилем и кредитам на получение образования. Лучше дисциплина по кредитам на проведение свадьбы (возможно, это связано и с тем, что клиенты в браке имеют меньше просрочек - см. выше), а наилучшее качество обслуживания долга - по кредитам на операции с недвижимостью. Это логично: по кредитам на недвижимость, как правило, эта самая недвижимость выступает в роли залога (в т.ч. в ипотеке) и просрочка платежей грозит серьезными последствиями."
   ]
  },
  {
   "cell_type": "markdown",
   "id": "b9968c63",
   "metadata": {},
   "source": [
    "<div class=\"alert alert-success\">\n",
    "<b>Комментарий ревьюера №1</b> ✅\n",
    "    \n",
    "Верно\n",
    "</div>"
   ]
  },
  {
   "cell_type": "markdown",
   "id": "160b9782",
   "metadata": {
    "deletable": false,
    "editable": false,
    "id": "09c3ac4c"
   },
   "source": [
    "#### 3.5 Приведите возможные причины появления пропусков в исходных данных."
   ]
  },
  {
   "cell_type": "markdown",
   "id": "5bf03e36",
   "metadata": {
    "deletable": false,
    "id": "9da2ceda"
   },
   "source": [
    "*Ответ:* \n",
    "\n",
    "Пропуски могут появляться как по техническим причинам (ошибки при сохранении, ошибки при выгрузке), так и в результате т.н. \"человеческого фактора\" (от забывчивости до намеренного пропуска).\n",
    "В данном датасете пропуски в столбцах days_employed и total_income встречаются в одних и тех же строках. Можно предположить, что эти записи соответствуют заемщикам, не имеющим официального трудоустройства. Следовательно, они не могут подтвердить свой трудовой стаж и доход, поэтому при заполнении соответствующих граф оставлены пропуски."
   ]
  },
  {
   "cell_type": "markdown",
   "id": "04ffe2e9",
   "metadata": {},
   "source": [
    "<div class=\"alert alert-success\">\n",
    "<b>Комментарий ревьюера №1</b> ✅\n",
    "    \n",
    "Клиенты могли не предоставить данные. Возможно, эту информацию не требуют в некоторых случаях. Проблемы могли возникнуть на этапе загрузки и на этапе выгрузки данных. Неправильный запрос, объединение таблиц также может быть причиной.\n",
    "</div>"
   ]
  },
  {
   "cell_type": "markdown",
   "id": "ab8f8465",
   "metadata": {},
   "source": [
    "<div class=\"alert alert-warning\">\n",
    "<b>Комментарий ревьюера №1</b> ⚠️\n",
    "    \n",
    "Чтобы утверждать, что пропуски в 'total_income' и 'days_employed' находятся на одних строках, можно это проверить, например, так: \n",
    "    \n",
    "    len(data.loc[(data['days_employed'].isna()) & (data['total_income'].isna())])\n",
    "    \n",
    "Значений 2174, что совпадает со значениями пропусков в обоих столбцах по отдельности.\n",
    "</div>"
   ]
  },
  {
   "cell_type": "markdown",
   "id": "9d3b6f18",
   "metadata": {},
   "source": [
    "<div class=\"alert alert-info\">\n",
    "<b>Комментарий студента №1</b>\n",
    "    \n",
    "Согласен. Но это надо было сделать до заполнения пропусков медианными значениям. Добавил выше (в пункт 2.1).\n",
    "</div>"
   ]
  },
  {
   "cell_type": "markdown",
   "id": "5dd92f67",
   "metadata": {
    "deletable": false,
    "editable": false,
    "id": "7b0487d6"
   },
   "source": [
    "#### 3.6 Объясните, почему заполнить пропуски медианным значением — лучшее решение для количественных переменных."
   ]
  },
  {
   "cell_type": "markdown",
   "id": "fb8fca36",
   "metadata": {
    "deletable": false,
    "id": "7ecf2b8e"
   },
   "source": [
    "*Ответ:* \n",
    "\n",
    "Для пропусков в количественных переменных можно применить два подхода: удалить их либо заменить на некую характеристику совокупности. Удаление лишает нас информации, содержащейся в других столбцах (при их наличии), и снижает размер выборки.\n",
    "При замене на характеристику совокупности можно использовать различные показатели - среднее, медиану, минимум, максимум и т.д. Но именно медиана делит совокупность на две равные части и характеризует репрезентативное значение параметра. При этом, если возможно подчитать медиану по отдельным категориям, то такой вариант предпочтительнее, поскольку в этом случае заполненные пропуски будут более точно соответствовать структуре совокупности."
   ]
  },
  {
   "cell_type": "markdown",
   "id": "dcb86e97",
   "metadata": {},
   "source": [
    "<div class=\"alert alert-warning\">\n",
    "<b>Комментарий ревьюера №1</b> ⚠️\n",
    "    \n",
    "Среднее и медиана различаются, если в выборке присутствуют выбросы (значения, выделяющиеся из общей выборки). Медиана позволяет нивелировать их влияние. Медиана - центральное значение отсортированной выборки. Для большего понимания разницы предлагаю рассчитать и сравнить обе метрики (медиану и среднее) для столбца с выбросами, например `days_employed`.\n",
    "</div>"
   ]
  },
  {
   "cell_type": "markdown",
   "id": "aec737e5",
   "metadata": {},
   "source": [
    "<div class=\"alert alert-info\">\n",
    "<b>Комментарий студента №1</b>\n",
    "    \n",
    "Спасибо за уточнение. Медиана делит выборку строго пополам. Если распределение симметрично (например, равномерное или нормальное), то медиана совпадает со средним. Но если распределение несимметрично, то среднее смещается относительно середины выборки: при больших положительных выбросах - вправо, при больших отрицательных (или близких к нулю, если значения только положительны) - влево. В столбце days_employed как раз присутствуют большие положительные выбросы, поэтому и среднее здесь сильно смещено вправо. Расчеты ниже это демонстрируют. После демонстрации их можно удалить ).\n",
    "</div>"
   ]
  },
  {
   "cell_type": "code",
   "execution_count": 43,
   "id": "0c6eb7da",
   "metadata": {},
   "outputs": [
    {
     "data": {
      "text/plain": [
       "1996.732855437927"
      ]
     },
     "execution_count": 43,
     "metadata": {},
     "output_type": "execute_result"
    }
   ],
   "source": [
    "data['days_employed'].median()"
   ]
  },
  {
   "cell_type": "code",
   "execution_count": 44,
   "id": "3db55c3c",
   "metadata": {},
   "outputs": [
    {
     "data": {
      "text/plain": [
       "67148.97213258488"
      ]
     },
     "execution_count": 44,
     "metadata": {},
     "output_type": "execute_result"
    }
   ],
   "source": [
    "data['days_employed'].mean()"
   ]
  },
  {
   "cell_type": "markdown",
   "id": "236b964d",
   "metadata": {
    "deletable": false,
    "editable": false,
    "id": "6db5255a"
   },
   "source": [
    "### Шаг 4: общий вывод."
   ]
  },
  {
   "cell_type": "markdown",
   "id": "542a8b66",
   "metadata": {
    "deletable": false,
    "id": "bad65432"
   },
   "source": [
    "**Мы провели предобработку данных о платежной дисциплине клиентов:**\n",
    "- **выявили пропуски в столбцах с общим трудовым стажем (days_employed) и и доходом (total_income) и заполнили их медианными значениями по соответствующим типам доходов;**\n",
    "- **выявили и устранили аномальные значения в столбцах общим трудовым стажем (days_employed) (отрицательные значения) и числом детей (children) (отрицательные и неправдоподобно большие значения);**\n",
    "- **удалили явные дубликаты, а также исключили неявные дубликаты в столбце с уровнем образования (education);**\n",
    "- **для анализа взаимосвязей создали категории для столбцов с доходом (total_income) и целью кредита (purpose).**\n",
    "\n",
    "**Анализ обработанных данных показал, что на платежную дисциплину влияют следующие факторы:**\n",
    "- **число детей - отрицательно (чем больше детей, тем ниже дисциплина);**\n",
    "- **наличие (сейчас или в прошлом) официального брака - положительно;**\n",
    "- **уровень дохода - положительно;**\n",
    "- **цель кредита (наибольшая просрочка наблюдается по кредитам на операции с автомобилем, наименьшая - по кредитам на операции с недвижимостью).**\n",
    "\n",
    "**Таким образом, портрет наиболее надежного заемщика выглядит следующим образом:**\n",
    "- **у него нет детей;**\n",
    "- **он состоит или состоял в официальном браке;**\n",
    "- **его доход составляет более 200 тыс.;**\n",
    "- **он берет кредит на операции с недвижимостью.**\n",
    "\n",
    "**Наименее надежный заемщик:**\n",
    "- **имеет детей;**\n",
    "- **не состоит и не состоял в официальном браке;**\n",
    "- **имеет доход не выше 200 тыс.;**\n",
    "- **берет кредит на операции с автомобилем.**\n",
    "\n",
    "**Рекомендации заказчику:**\n",
    "- **Учесть при построении модели кредитного скоринга выявленные закономерности.**\n",
    "- **Изучить взаимное влияние параметров друг на друга (например, семейного положения и возраста) с тем, чтобы исключить в численной модели мультиколлинеарность.**\n",
    "- **Рассмотреть возможность корректировки регламентов внесения информации из анкет заемщиков в базу данных, которые снизили бы вероятность появления пропусков, аномальных значений и неявных дубликатов (например, ввести закрытый перечень вариантов для целей кредита и т.д.). Это потребуется и для правильной работы модели скоринга.**"
   ]
  },
  {
   "cell_type": "markdown",
   "id": "f3432faf",
   "metadata": {},
   "source": [
    "<div class=\"alert alert-danger\">\n",
    "<b>Комментарий ревьюера №1</b> ❌\n",
    " \n",
    "Код из выводов лучше убрать. Выводы нужно будет дополнить. В первую очередь обращают внимание на выводы - это отчет перед заказчиком. Здесь нужно описать какая работа над данными была проведена и каких результатов удалось добиться. Опиши все зависимости. Рекомендованная структура выводов следующая:\n",
    "    \n",
    "- абзац по предобработке данных, что было сделано\n",
    "    \n",
    "- выявленные зависимости просрочки от разных факторов в общем виде\n",
    "    \n",
    "- портреты надежного и рискованного заемщика\n",
    "    \n",
    "- рекомендации заказчику\n",
    "</div>"
   ]
  },
  {
   "cell_type": "markdown",
   "id": "8b3cb58e",
   "metadata": {},
   "source": [
    "<div class=\"alert alert-info\">\n",
    "<b>Комментарий студента №1</b>\n",
    "    \n",
    "Перенес построение сводной таблицы в пункт 3.2 и скорректировал выводы.\n",
    "</div>"
   ]
  },
  {
   "cell_type": "markdown",
   "id": "6e9c9cf5",
   "metadata": {},
   "source": [
    "<div class=\"alert alert-success\">\n",
    "<b>Комментарий ревьюера №2</b> ✅\n",
    "    \n",
    "В качестве рекомендаций можно предложить другую категоризацию по доходам. Или исследовать другие признаки, рассчитать другие метрики (отношение дохода к сумме выплат и др.). В анкете сделать поля о доходе и стаже обязательными к заполнению, добавить автопроверку на формат вводимых пользователем данных\n",
    "</div>"
   ]
  },
  {
   "cell_type": "markdown",
   "id": "0fbaf2e7",
   "metadata": {},
   "source": [
    "<div style=\"border:solid purple 2px; padding: 20px\"> \n",
    "<b> <font color='purple' >   \n",
    "    \n",
    "В целом, работа хорошая. У тебя отличные аналитические навыки, но остались небольшие доработки. Нужно проверить выводы. Доделывай и присылай на повторную проверку.\n",
    "        \n",
    "Жду твоих исправлений 😊\n",
    "</font></b>\n",
    "</div>"
   ]
  },
  {
   "cell_type": "markdown",
   "id": "8746b8cc",
   "metadata": {},
   "source": [
    "<div style=\"border:solid purple 2px; padding: 20px\"> \n",
    "<b> <font color='purple' >   \n",
    "Отлично! Критических замечаний больше нет. Проект принят! 👏 Поздравляю и желаю удачи!\n",
    "</font></b>\n",
    "</div>"
   ]
  }
 ],
 "metadata": {
  "ExecuteTimeLog": [
   {
    "duration": 492,
    "start_time": "2024-03-03T10:42:00.551Z"
   },
   {
    "duration": 21,
    "start_time": "2024-03-03T10:42:01.045Z"
   },
   {
    "duration": 75,
    "start_time": "2024-03-03T10:42:01.068Z"
   },
   {
    "duration": 72,
    "start_time": "2024-03-03T10:42:01.145Z"
   },
   {
    "duration": 70,
    "start_time": "2024-03-03T10:42:01.219Z"
   },
   {
    "duration": 9,
    "start_time": "2024-03-03T10:42:01.291Z"
   },
   {
    "duration": 44,
    "start_time": "2024-03-03T10:42:01.301Z"
   },
   {
    "duration": 54,
    "start_time": "2024-03-03T10:42:01.347Z"
   },
   {
    "duration": 43,
    "start_time": "2024-03-03T10:42:01.403Z"
   },
   {
    "duration": 26,
    "start_time": "2024-03-03T10:42:01.447Z"
   },
   {
    "duration": 78,
    "start_time": "2024-03-03T10:42:01.475Z"
   },
   {
    "duration": 11,
    "start_time": "2024-03-03T10:42:01.554Z"
   },
   {
    "duration": 65,
    "start_time": "2024-03-03T10:42:01.567Z"
   },
   {
    "duration": 117,
    "start_time": "2024-03-03T10:42:01.635Z"
   },
   {
    "duration": 42,
    "start_time": "2024-03-03T10:42:01.754Z"
   },
   {
    "duration": 26,
    "start_time": "2024-03-03T10:42:01.797Z"
   },
   {
    "duration": 3,
    "start_time": "2024-03-03T10:42:01.825Z"
   },
   {
    "duration": 36,
    "start_time": "2024-03-03T10:42:01.829Z"
   },
   {
    "duration": 38,
    "start_time": "2024-03-03T10:42:01.867Z"
   },
   {
    "duration": 33,
    "start_time": "2024-03-03T10:42:01.907Z"
   },
   {
    "duration": 30,
    "start_time": "2024-03-03T10:42:01.942Z"
   },
   {
    "duration": 16,
    "start_time": "2024-03-03T10:42:01.974Z"
   },
   {
    "duration": 22,
    "start_time": "2024-03-03T10:42:01.991Z"
   },
   {
    "duration": 24,
    "start_time": "2024-03-03T10:42:02.015Z"
   },
   {
    "duration": 38,
    "start_time": "2024-03-03T10:42:02.040Z"
   },
   {
    "duration": 618,
    "start_time": "2024-03-03T10:56:57.167Z"
   },
   {
    "duration": 151,
    "start_time": "2024-03-03T10:57:06.176Z"
   },
   {
    "duration": 17,
    "start_time": "2024-03-03T10:57:40.764Z"
   },
   {
    "duration": 143,
    "start_time": "2024-03-03T10:58:18.803Z"
   },
   {
    "duration": 82,
    "start_time": "2024-03-03T11:02:04.056Z"
   },
   {
    "duration": 9,
    "start_time": "2024-03-03T11:03:31.219Z"
   },
   {
    "duration": 7,
    "start_time": "2024-03-03T11:03:36.282Z"
   },
   {
    "duration": 166,
    "start_time": "2024-03-03T11:04:30.621Z"
   },
   {
    "duration": 111,
    "start_time": "2024-03-03T11:06:09.194Z"
   },
   {
    "duration": 115,
    "start_time": "2024-03-03T11:07:06.440Z"
   },
   {
    "duration": 4,
    "start_time": "2024-03-03T11:08:01.156Z"
   },
   {
    "duration": 7,
    "start_time": "2024-03-03T11:08:14.650Z"
   },
   {
    "duration": 130,
    "start_time": "2024-03-03T11:08:18.909Z"
   },
   {
    "duration": 11,
    "start_time": "2024-03-03T11:10:16.161Z"
   },
   {
    "duration": 9,
    "start_time": "2024-03-03T11:10:34.067Z"
   },
   {
    "duration": 9,
    "start_time": "2024-03-03T11:10:58.736Z"
   },
   {
    "duration": 9,
    "start_time": "2024-03-03T11:11:36.911Z"
   },
   {
    "duration": 11,
    "start_time": "2024-03-03T11:11:45.958Z"
   },
   {
    "duration": 10,
    "start_time": "2024-03-03T11:12:06.514Z"
   },
   {
    "duration": 20,
    "start_time": "2024-03-03T11:12:25.748Z"
   },
   {
    "duration": 34,
    "start_time": "2024-03-03T11:12:33.687Z"
   },
   {
    "duration": 7,
    "start_time": "2024-03-03T11:12:45.994Z"
   },
   {
    "duration": 4,
    "start_time": "2024-03-03T11:21:10.137Z"
   },
   {
    "duration": 14,
    "start_time": "2024-03-03T11:21:18.818Z"
   },
   {
    "duration": 160,
    "start_time": "2024-03-03T11:21:31.920Z"
   },
   {
    "duration": 178,
    "start_time": "2024-03-03T11:21:47.847Z"
   },
   {
    "duration": 171,
    "start_time": "2024-03-03T11:21:59.315Z"
   },
   {
    "duration": 8,
    "start_time": "2024-03-03T11:26:20.801Z"
   },
   {
    "duration": 8,
    "start_time": "2024-03-03T11:26:34.991Z"
   },
   {
    "duration": 14,
    "start_time": "2024-03-03T11:26:57.414Z"
   },
   {
    "duration": 16,
    "start_time": "2024-03-03T11:28:50.947Z"
   },
   {
    "duration": 24,
    "start_time": "2024-03-03T11:28:59.359Z"
   },
   {
    "duration": 123,
    "start_time": "2024-03-03T11:29:18.804Z"
   },
   {
    "duration": 18,
    "start_time": "2024-03-03T11:33:04.463Z"
   },
   {
    "duration": 126,
    "start_time": "2024-03-03T11:33:49.156Z"
   },
   {
    "duration": 115,
    "start_time": "2024-03-03T11:34:07.576Z"
   },
   {
    "duration": 11,
    "start_time": "2024-03-03T11:34:15.707Z"
   },
   {
    "duration": 129,
    "start_time": "2024-03-03T11:34:23.388Z"
   },
   {
    "duration": 205,
    "start_time": "2024-03-03T11:34:37.930Z"
   },
   {
    "duration": 16,
    "start_time": "2024-03-03T11:35:17.006Z"
   },
   {
    "duration": 16,
    "start_time": "2024-03-03T11:35:30.510Z"
   },
   {
    "duration": 496,
    "start_time": "2024-03-03T11:35:35.736Z"
   },
   {
    "duration": 22,
    "start_time": "2024-03-03T11:35:36.234Z"
   },
   {
    "duration": 78,
    "start_time": "2024-03-03T11:35:36.258Z"
   },
   {
    "duration": 25,
    "start_time": "2024-03-03T11:35:36.338Z"
   },
   {
    "duration": 46,
    "start_time": "2024-03-03T11:35:36.365Z"
   },
   {
    "duration": 3,
    "start_time": "2024-03-03T11:35:36.413Z"
   },
   {
    "duration": 10,
    "start_time": "2024-03-03T11:35:36.419Z"
   },
   {
    "duration": 4,
    "start_time": "2024-03-03T11:35:36.431Z"
   },
   {
    "duration": 38,
    "start_time": "2024-03-03T11:35:36.437Z"
   },
   {
    "duration": 8,
    "start_time": "2024-03-03T11:35:36.477Z"
   },
   {
    "duration": 39,
    "start_time": "2024-03-03T11:35:36.486Z"
   },
   {
    "duration": 10,
    "start_time": "2024-03-03T11:35:36.527Z"
   },
   {
    "duration": 5,
    "start_time": "2024-03-03T11:35:36.539Z"
   },
   {
    "duration": 30,
    "start_time": "2024-03-03T11:35:36.547Z"
   },
   {
    "duration": 27,
    "start_time": "2024-03-03T11:35:36.579Z"
   },
   {
    "duration": 17,
    "start_time": "2024-03-03T11:35:36.608Z"
   },
   {
    "duration": 10,
    "start_time": "2024-03-03T11:35:36.627Z"
   },
   {
    "duration": 14,
    "start_time": "2024-03-03T11:35:36.638Z"
   },
   {
    "duration": 28,
    "start_time": "2024-03-03T11:35:36.653Z"
   },
   {
    "duration": 7,
    "start_time": "2024-03-03T11:35:36.683Z"
   },
   {
    "duration": 11,
    "start_time": "2024-03-03T11:35:36.692Z"
   },
   {
    "duration": 13,
    "start_time": "2024-03-03T11:35:36.705Z"
   },
   {
    "duration": 418,
    "start_time": "2024-03-03T11:35:36.720Z"
   },
   {
    "duration": 15,
    "start_time": "2024-03-03T11:35:37.140Z"
   },
   {
    "duration": 125,
    "start_time": "2024-03-03T11:35:37.173Z"
   },
   {
    "duration": 11,
    "start_time": "2024-03-03T11:35:37.299Z"
   },
   {
    "duration": 16,
    "start_time": "2024-03-03T11:35:37.312Z"
   },
   {
    "duration": 31,
    "start_time": "2024-03-03T11:35:37.330Z"
   },
   {
    "duration": 15,
    "start_time": "2024-03-03T11:36:12.277Z"
   },
   {
    "duration": 117,
    "start_time": "2024-03-03T11:36:15.627Z"
   },
   {
    "duration": 138,
    "start_time": "2024-03-03T11:36:35.359Z"
   },
   {
    "duration": 153,
    "start_time": "2024-03-03T11:37:20.263Z"
   },
   {
    "duration": 90,
    "start_time": "2024-03-03T14:13:46.320Z"
   },
   {
    "duration": 435,
    "start_time": "2024-03-03T14:18:28.107Z"
   },
   {
    "duration": 22,
    "start_time": "2024-03-03T14:18:28.543Z"
   },
   {
    "duration": 14,
    "start_time": "2024-03-03T14:18:28.566Z"
   },
   {
    "duration": 15,
    "start_time": "2024-03-03T14:18:28.582Z"
   },
   {
    "duration": 34,
    "start_time": "2024-03-03T14:18:28.599Z"
   },
   {
    "duration": 4,
    "start_time": "2024-03-03T14:18:28.635Z"
   },
   {
    "duration": 27,
    "start_time": "2024-03-03T14:18:28.640Z"
   },
   {
    "duration": 7,
    "start_time": "2024-03-03T14:18:28.670Z"
   },
   {
    "duration": 17,
    "start_time": "2024-03-03T14:18:28.679Z"
   },
   {
    "duration": 4,
    "start_time": "2024-03-03T14:18:28.698Z"
   },
   {
    "duration": 38,
    "start_time": "2024-03-03T14:18:28.704Z"
   },
   {
    "duration": 23,
    "start_time": "2024-03-03T14:18:28.744Z"
   },
   {
    "duration": 5,
    "start_time": "2024-03-03T14:18:28.769Z"
   },
   {
    "duration": 18,
    "start_time": "2024-03-03T14:18:28.775Z"
   },
   {
    "duration": 29,
    "start_time": "2024-03-03T14:18:28.795Z"
   },
   {
    "duration": 17,
    "start_time": "2024-03-03T14:18:28.825Z"
   },
   {
    "duration": 4,
    "start_time": "2024-03-03T14:18:28.844Z"
   },
   {
    "duration": 27,
    "start_time": "2024-03-03T14:18:28.849Z"
   },
   {
    "duration": 28,
    "start_time": "2024-03-03T14:18:28.877Z"
   },
   {
    "duration": 33,
    "start_time": "2024-03-03T14:18:28.907Z"
   },
   {
    "duration": 13,
    "start_time": "2024-03-03T14:18:28.942Z"
   },
   {
    "duration": 23,
    "start_time": "2024-03-03T14:18:28.957Z"
   },
   {
    "duration": 364,
    "start_time": "2024-03-03T14:18:28.981Z"
   },
   {
    "duration": 22,
    "start_time": "2024-03-03T14:18:29.347Z"
   },
   {
    "duration": 69,
    "start_time": "2024-03-03T14:18:29.370Z"
   },
   {
    "duration": 0,
    "start_time": "2024-03-03T14:18:29.441Z"
   },
   {
    "duration": 0,
    "start_time": "2024-03-03T14:18:29.442Z"
   },
   {
    "duration": 0,
    "start_time": "2024-03-03T14:18:29.443Z"
   },
   {
    "duration": 0,
    "start_time": "2024-03-03T14:18:29.444Z"
   },
   {
    "duration": 0,
    "start_time": "2024-03-03T14:18:29.445Z"
   },
   {
    "duration": 0,
    "start_time": "2024-03-03T14:18:29.446Z"
   },
   {
    "duration": 7,
    "start_time": "2024-03-03T14:18:40.591Z"
   },
   {
    "duration": 11,
    "start_time": "2024-03-03T14:18:52.489Z"
   },
   {
    "duration": 139,
    "start_time": "2024-03-03T14:18:55.371Z"
   },
   {
    "duration": 116,
    "start_time": "2024-03-03T14:19:10.179Z"
   },
   {
    "duration": 15,
    "start_time": "2024-03-03T14:19:17.739Z"
   },
   {
    "duration": 116,
    "start_time": "2024-03-03T14:19:27.560Z"
   },
   {
    "duration": 16,
    "start_time": "2024-03-03T14:19:48.018Z"
   },
   {
    "duration": 122,
    "start_time": "2024-03-03T14:19:56.487Z"
   },
   {
    "duration": 7,
    "start_time": "2024-03-03T14:23:29.096Z"
   },
   {
    "duration": 7,
    "start_time": "2024-03-03T14:23:51.617Z"
   },
   {
    "duration": 20,
    "start_time": "2024-03-03T14:24:14.531Z"
   },
   {
    "duration": 26,
    "start_time": "2024-03-03T14:24:26.071Z"
   },
   {
    "duration": 13,
    "start_time": "2024-03-03T14:29:35.618Z"
   },
   {
    "duration": 18,
    "start_time": "2024-03-03T14:29:52.086Z"
   },
   {
    "duration": 157,
    "start_time": "2024-03-03T14:29:57.671Z"
   },
   {
    "duration": 14,
    "start_time": "2024-03-03T14:30:14.508Z"
   },
   {
    "duration": 110,
    "start_time": "2024-03-03T14:30:16.896Z"
   },
   {
    "duration": 16,
    "start_time": "2024-03-03T14:30:51.366Z"
   },
   {
    "duration": 104,
    "start_time": "2024-03-03T14:30:53.347Z"
   },
   {
    "duration": 106,
    "start_time": "2024-03-03T14:31:05.209Z"
   },
   {
    "duration": 16,
    "start_time": "2024-03-03T14:31:40.101Z"
   },
   {
    "duration": 17,
    "start_time": "2024-03-03T14:31:44.945Z"
   },
   {
    "duration": 10,
    "start_time": "2024-03-03T14:31:48.054Z"
   },
   {
    "duration": 15,
    "start_time": "2024-03-03T14:33:00.812Z"
   },
   {
    "duration": 13,
    "start_time": "2024-03-03T14:33:03.603Z"
   },
   {
    "duration": 13,
    "start_time": "2024-03-03T14:33:10.227Z"
   },
   {
    "duration": 18,
    "start_time": "2024-03-03T14:33:26.885Z"
   },
   {
    "duration": 19,
    "start_time": "2024-03-03T14:33:37.139Z"
   },
   {
    "duration": 25,
    "start_time": "2024-03-03T14:33:54.355Z"
   },
   {
    "duration": 11,
    "start_time": "2024-03-03T14:34:00.158Z"
   },
   {
    "duration": 11,
    "start_time": "2024-03-03T14:37:00.060Z"
   },
   {
    "duration": 120,
    "start_time": "2024-03-03T14:37:43.410Z"
   },
   {
    "duration": 11,
    "start_time": "2024-03-03T14:40:25.227Z"
   },
   {
    "duration": 9,
    "start_time": "2024-03-03T14:40:29.519Z"
   },
   {
    "duration": 72,
    "start_time": "2024-03-03T14:40:35.121Z"
   },
   {
    "duration": 10,
    "start_time": "2024-03-03T14:40:37.639Z"
   },
   {
    "duration": 4,
    "start_time": "2024-03-03T14:43:52.457Z"
   },
   {
    "duration": 80,
    "start_time": "2024-03-03T14:55:26.467Z"
   },
   {
    "duration": 8,
    "start_time": "2024-03-03T14:55:39.647Z"
   },
   {
    "duration": 8,
    "start_time": "2024-03-03T14:55:55.115Z"
   },
   {
    "duration": 17,
    "start_time": "2024-03-03T14:56:45.245Z"
   },
   {
    "duration": 135,
    "start_time": "2024-03-03T14:57:13.603Z"
   },
   {
    "duration": 109,
    "start_time": "2024-03-03T15:00:17.828Z"
   },
   {
    "duration": 25,
    "start_time": "2024-03-03T15:02:12.928Z"
   },
   {
    "duration": 16,
    "start_time": "2024-03-03T15:03:21.452Z"
   },
   {
    "duration": 112,
    "start_time": "2024-03-03T20:47:13.046Z"
   },
   {
    "duration": 54,
    "start_time": "2024-03-03T20:47:20.595Z"
   },
   {
    "duration": 539,
    "start_time": "2024-03-03T20:47:39.797Z"
   },
   {
    "duration": 35,
    "start_time": "2024-03-03T20:47:40.338Z"
   },
   {
    "duration": 21,
    "start_time": "2024-03-03T20:47:40.375Z"
   },
   {
    "duration": 15,
    "start_time": "2024-03-03T20:47:40.398Z"
   },
   {
    "duration": 42,
    "start_time": "2024-03-03T20:47:40.414Z"
   },
   {
    "duration": 4,
    "start_time": "2024-03-03T20:47:40.458Z"
   },
   {
    "duration": 24,
    "start_time": "2024-03-03T20:47:40.464Z"
   },
   {
    "duration": 6,
    "start_time": "2024-03-03T20:47:40.490Z"
   },
   {
    "duration": 23,
    "start_time": "2024-03-03T20:47:40.497Z"
   },
   {
    "duration": 7,
    "start_time": "2024-03-03T20:47:40.523Z"
   },
   {
    "duration": 55,
    "start_time": "2024-03-03T20:47:40.532Z"
   },
   {
    "duration": 10,
    "start_time": "2024-03-03T20:47:40.589Z"
   },
   {
    "duration": 5,
    "start_time": "2024-03-03T20:47:40.601Z"
   },
   {
    "duration": 19,
    "start_time": "2024-03-03T20:47:40.607Z"
   },
   {
    "duration": 23,
    "start_time": "2024-03-03T20:47:40.627Z"
   },
   {
    "duration": 37,
    "start_time": "2024-03-03T20:47:40.652Z"
   },
   {
    "duration": 3,
    "start_time": "2024-03-03T20:47:40.691Z"
   },
   {
    "duration": 44,
    "start_time": "2024-03-03T20:47:40.695Z"
   },
   {
    "duration": 22,
    "start_time": "2024-03-03T20:47:40.741Z"
   },
   {
    "duration": 3,
    "start_time": "2024-03-03T20:47:40.765Z"
   },
   {
    "duration": 9,
    "start_time": "2024-03-03T20:47:40.770Z"
   },
   {
    "duration": 9,
    "start_time": "2024-03-03T20:47:40.781Z"
   },
   {
    "duration": 25,
    "start_time": "2024-03-03T20:47:40.792Z"
   },
   {
    "duration": 587,
    "start_time": "2024-03-03T20:47:40.819Z"
   },
   {
    "duration": 20,
    "start_time": "2024-03-03T20:47:41.408Z"
   },
   {
    "duration": 151,
    "start_time": "2024-03-03T20:47:41.429Z"
   },
   {
    "duration": 13,
    "start_time": "2024-03-03T20:47:41.582Z"
   },
   {
    "duration": 203,
    "start_time": "2024-03-03T20:47:41.599Z"
   },
   {
    "duration": 20,
    "start_time": "2024-03-03T20:47:41.804Z"
   },
   {
    "duration": 174,
    "start_time": "2024-03-03T20:47:41.827Z"
   },
   {
    "duration": 25,
    "start_time": "2024-03-03T20:47:42.002Z"
   },
   {
    "duration": 13,
    "start_time": "2024-03-03T20:47:42.029Z"
   },
   {
    "duration": 236,
    "start_time": "2024-03-03T20:47:42.044Z"
   },
   {
    "duration": 18,
    "start_time": "2024-03-03T20:47:42.282Z"
   },
   {
    "duration": 159,
    "start_time": "2024-03-03T20:47:42.301Z"
   },
   {
    "duration": 2,
    "start_time": "2024-03-03T20:47:42.462Z"
   },
   {
    "duration": 18,
    "start_time": "2024-03-03T20:47:56.856Z"
   },
   {
    "duration": 179,
    "start_time": "2024-03-03T20:48:00.576Z"
   },
   {
    "duration": 20,
    "start_time": "2024-03-03T20:50:48.456Z"
   },
   {
    "duration": 151,
    "start_time": "2024-03-03T20:50:50.571Z"
   },
   {
    "duration": 100,
    "start_time": "2024-03-03T20:51:19.445Z"
   },
   {
    "duration": 21,
    "start_time": "2024-03-03T20:53:42.421Z"
   },
   {
    "duration": 140,
    "start_time": "2024-03-03T20:53:49.772Z"
   },
   {
    "duration": 18,
    "start_time": "2024-03-03T20:56:45.124Z"
   },
   {
    "duration": 18,
    "start_time": "2024-03-03T20:57:05.901Z"
   },
   {
    "duration": 19,
    "start_time": "2024-03-03T20:57:21.355Z"
   },
   {
    "duration": 540,
    "start_time": "2024-03-03T20:57:56.952Z"
   },
   {
    "duration": 23,
    "start_time": "2024-03-03T20:57:57.494Z"
   },
   {
    "duration": 18,
    "start_time": "2024-03-03T20:57:57.519Z"
   },
   {
    "duration": 13,
    "start_time": "2024-03-03T20:57:57.539Z"
   },
   {
    "duration": 65,
    "start_time": "2024-03-03T20:57:57.553Z"
   },
   {
    "duration": 4,
    "start_time": "2024-03-03T20:57:57.619Z"
   },
   {
    "duration": 10,
    "start_time": "2024-03-03T20:57:57.625Z"
   },
   {
    "duration": 5,
    "start_time": "2024-03-03T20:57:57.637Z"
   },
   {
    "duration": 36,
    "start_time": "2024-03-03T20:57:57.644Z"
   },
   {
    "duration": 5,
    "start_time": "2024-03-03T20:57:57.685Z"
   },
   {
    "duration": 47,
    "start_time": "2024-03-03T20:57:57.691Z"
   },
   {
    "duration": 11,
    "start_time": "2024-03-03T20:57:57.739Z"
   },
   {
    "duration": 8,
    "start_time": "2024-03-03T20:57:57.751Z"
   },
   {
    "duration": 29,
    "start_time": "2024-03-03T20:57:57.760Z"
   },
   {
    "duration": 22,
    "start_time": "2024-03-03T20:57:57.791Z"
   },
   {
    "duration": 17,
    "start_time": "2024-03-03T20:57:57.815Z"
   },
   {
    "duration": 4,
    "start_time": "2024-03-03T20:57:57.834Z"
   },
   {
    "duration": 15,
    "start_time": "2024-03-03T20:57:57.839Z"
   },
   {
    "duration": 28,
    "start_time": "2024-03-03T20:57:57.855Z"
   },
   {
    "duration": 3,
    "start_time": "2024-03-03T20:57:57.885Z"
   },
   {
    "duration": 10,
    "start_time": "2024-03-03T20:57:57.890Z"
   },
   {
    "duration": 4,
    "start_time": "2024-03-03T20:57:57.902Z"
   },
   {
    "duration": 22,
    "start_time": "2024-03-03T20:57:57.908Z"
   },
   {
    "duration": 436,
    "start_time": "2024-03-03T20:57:57.931Z"
   },
   {
    "duration": 21,
    "start_time": "2024-03-03T20:57:58.369Z"
   },
   {
    "duration": 152,
    "start_time": "2024-03-03T20:57:58.392Z"
   },
   {
    "duration": 12,
    "start_time": "2024-03-03T20:57:58.546Z"
   },
   {
    "duration": 187,
    "start_time": "2024-03-03T20:57:58.561Z"
   },
   {
    "duration": 31,
    "start_time": "2024-03-03T20:57:58.750Z"
   },
   {
    "duration": 129,
    "start_time": "2024-03-03T20:57:58.782Z"
   },
   {
    "duration": 23,
    "start_time": "2024-03-03T20:57:58.912Z"
   },
   {
    "duration": 10,
    "start_time": "2024-03-03T20:57:58.937Z"
   },
   {
    "duration": 149,
    "start_time": "2024-03-03T20:57:58.948Z"
   },
   {
    "duration": 18,
    "start_time": "2024-03-03T20:57:59.099Z"
   },
   {
    "duration": 206,
    "start_time": "2024-03-03T20:57:59.118Z"
   },
   {
    "duration": 28851,
    "start_time": "2024-03-03T20:57:59.325Z"
   },
   {
    "duration": 3,
    "start_time": "2024-03-03T20:58:28.180Z"
   },
   {
    "duration": 502,
    "start_time": "2024-03-03T21:00:03.956Z"
   },
   {
    "duration": 396,
    "start_time": "2024-03-03T21:06:41.298Z"
   },
   {
    "duration": 395,
    "start_time": "2024-03-03T21:08:27.662Z"
   },
   {
    "duration": 42,
    "start_time": "2024-03-03T21:08:37.209Z"
   },
   {
    "duration": 39,
    "start_time": "2024-03-03T21:08:49.072Z"
   },
   {
    "duration": 41,
    "start_time": "2024-03-03T21:08:56.593Z"
   },
   {
    "duration": 43,
    "start_time": "2024-03-03T21:09:19.898Z"
   },
   {
    "duration": 42,
    "start_time": "2024-03-03T21:09:27.334Z"
   },
   {
    "duration": 98,
    "start_time": "2024-03-03T21:10:16.939Z"
   },
   {
    "duration": 45,
    "start_time": "2024-03-03T21:10:22.589Z"
   },
   {
    "duration": 44,
    "start_time": "2024-03-03T21:10:30.782Z"
   },
   {
    "duration": 54,
    "start_time": "2024-03-03T21:10:39.597Z"
   },
   {
    "duration": 96,
    "start_time": "2024-03-03T21:10:59.121Z"
   },
   {
    "duration": 47,
    "start_time": "2024-03-03T21:11:31.429Z"
   },
   {
    "duration": 48,
    "start_time": "2024-03-03T21:11:36.108Z"
   },
   {
    "duration": 45,
    "start_time": "2024-03-03T21:11:48.910Z"
   },
   {
    "duration": 48,
    "start_time": "2024-03-03T21:11:54.522Z"
   },
   {
    "duration": 164,
    "start_time": "2024-03-03T21:12:21.073Z"
   },
   {
    "duration": 17,
    "start_time": "2024-03-03T21:12:55.861Z"
   },
   {
    "duration": 145,
    "start_time": "2024-03-03T21:12:58.085Z"
   },
   {
    "duration": 15,
    "start_time": "2024-03-03T21:13:47.007Z"
   },
   {
    "duration": 13,
    "start_time": "2024-03-03T21:14:07.187Z"
   },
   {
    "duration": 29,
    "start_time": "2024-03-03T21:14:31.127Z"
   },
   {
    "duration": 19,
    "start_time": "2024-03-03T21:16:34.730Z"
   },
   {
    "duration": 11,
    "start_time": "2024-03-03T21:16:39.693Z"
   },
   {
    "duration": 16,
    "start_time": "2024-03-03T21:16:56.055Z"
   },
   {
    "duration": 158,
    "start_time": "2024-03-03T21:20:08.708Z"
   },
   {
    "duration": 507,
    "start_time": "2024-03-03T21:20:12.295Z"
   },
   {
    "duration": 25,
    "start_time": "2024-03-03T21:20:12.804Z"
   },
   {
    "duration": 17,
    "start_time": "2024-03-03T21:20:12.831Z"
   },
   {
    "duration": 30,
    "start_time": "2024-03-03T21:20:12.850Z"
   },
   {
    "duration": 39,
    "start_time": "2024-03-03T21:20:12.882Z"
   },
   {
    "duration": 4,
    "start_time": "2024-03-03T21:20:12.922Z"
   },
   {
    "duration": 10,
    "start_time": "2024-03-03T21:20:12.928Z"
   },
   {
    "duration": 5,
    "start_time": "2024-03-03T21:20:12.939Z"
   },
   {
    "duration": 9,
    "start_time": "2024-03-03T21:20:12.945Z"
   },
   {
    "duration": 4,
    "start_time": "2024-03-03T21:20:12.982Z"
   },
   {
    "duration": 38,
    "start_time": "2024-03-03T21:20:12.988Z"
   },
   {
    "duration": 11,
    "start_time": "2024-03-03T21:20:13.028Z"
   },
   {
    "duration": 4,
    "start_time": "2024-03-03T21:20:13.040Z"
   },
   {
    "duration": 38,
    "start_time": "2024-03-03T21:20:13.045Z"
   },
   {
    "duration": 21,
    "start_time": "2024-03-03T21:20:13.085Z"
   },
   {
    "duration": 18,
    "start_time": "2024-03-03T21:20:13.107Z"
   },
   {
    "duration": 3,
    "start_time": "2024-03-03T21:20:13.127Z"
   },
   {
    "duration": 13,
    "start_time": "2024-03-03T21:20:13.131Z"
   },
   {
    "duration": 37,
    "start_time": "2024-03-03T21:20:13.146Z"
   },
   {
    "duration": 4,
    "start_time": "2024-03-03T21:20:13.185Z"
   },
   {
    "duration": 11,
    "start_time": "2024-03-03T21:20:13.191Z"
   },
   {
    "duration": 4,
    "start_time": "2024-03-03T21:20:13.204Z"
   },
   {
    "duration": 18,
    "start_time": "2024-03-03T21:20:13.209Z"
   },
   {
    "duration": 487,
    "start_time": "2024-03-03T21:20:13.230Z"
   },
   {
    "duration": 19,
    "start_time": "2024-03-03T21:20:13.719Z"
   },
   {
    "duration": 141,
    "start_time": "2024-03-03T21:20:13.739Z"
   },
   {
    "duration": 12,
    "start_time": "2024-03-03T21:20:13.882Z"
   },
   {
    "duration": 175,
    "start_time": "2024-03-03T21:20:13.897Z"
   },
   {
    "duration": 24,
    "start_time": "2024-03-03T21:20:14.074Z"
   },
   {
    "duration": 139,
    "start_time": "2024-03-03T21:20:14.100Z"
   },
   {
    "duration": 11,
    "start_time": "2024-03-03T21:20:14.241Z"
   },
   {
    "duration": 39,
    "start_time": "2024-03-03T21:20:14.254Z"
   },
   {
    "duration": 12,
    "start_time": "2024-03-03T21:20:14.295Z"
   },
   {
    "duration": 154,
    "start_time": "2024-03-03T21:20:14.309Z"
   },
   {
    "duration": 26,
    "start_time": "2024-03-03T21:20:14.465Z"
   },
   {
    "duration": 229,
    "start_time": "2024-03-03T21:20:14.493Z"
   },
   {
    "duration": 13,
    "start_time": "2024-03-03T21:20:14.723Z"
   },
   {
    "duration": 177,
    "start_time": "2024-03-03T21:20:14.737Z"
   },
   {
    "duration": 20,
    "start_time": "2024-03-03T21:23:30.467Z"
   },
   {
    "duration": 124,
    "start_time": "2024-03-03T21:23:48.906Z"
   },
   {
    "duration": 120,
    "start_time": "2024-03-03T21:24:52.387Z"
   },
   {
    "duration": 20,
    "start_time": "2024-03-03T21:25:23.488Z"
   },
   {
    "duration": 19,
    "start_time": "2024-03-03T21:25:57.455Z"
   },
   {
    "duration": 125,
    "start_time": "2024-03-03T21:26:01.631Z"
   },
   {
    "duration": 10,
    "start_time": "2024-03-03T21:27:03.072Z"
   },
   {
    "duration": 30,
    "start_time": "2024-03-03T21:27:10.586Z"
   },
   {
    "duration": 495,
    "start_time": "2024-03-03T21:28:16.688Z"
   },
   {
    "duration": 24,
    "start_time": "2024-03-03T21:28:17.185Z"
   },
   {
    "duration": 16,
    "start_time": "2024-03-03T21:28:17.211Z"
   },
   {
    "duration": 11,
    "start_time": "2024-03-03T21:28:17.229Z"
   },
   {
    "duration": 68,
    "start_time": "2024-03-03T21:28:17.242Z"
   },
   {
    "duration": 3,
    "start_time": "2024-03-03T21:28:17.312Z"
   },
   {
    "duration": 12,
    "start_time": "2024-03-03T21:28:17.316Z"
   },
   {
    "duration": 4,
    "start_time": "2024-03-03T21:28:17.330Z"
   },
   {
    "duration": 10,
    "start_time": "2024-03-03T21:28:17.336Z"
   },
   {
    "duration": 5,
    "start_time": "2024-03-03T21:28:17.349Z"
   },
   {
    "duration": 61,
    "start_time": "2024-03-03T21:28:17.355Z"
   },
   {
    "duration": 11,
    "start_time": "2024-03-03T21:28:17.417Z"
   },
   {
    "duration": 20,
    "start_time": "2024-03-03T21:28:17.430Z"
   },
   {
    "duration": 20,
    "start_time": "2024-03-03T21:28:17.452Z"
   },
   {
    "duration": 28,
    "start_time": "2024-03-03T21:28:17.473Z"
   },
   {
    "duration": 17,
    "start_time": "2024-03-03T21:28:17.503Z"
   },
   {
    "duration": 4,
    "start_time": "2024-03-03T21:28:17.522Z"
   },
   {
    "duration": 33,
    "start_time": "2024-03-03T21:28:17.527Z"
   },
   {
    "duration": 28,
    "start_time": "2024-03-03T21:28:17.562Z"
   },
   {
    "duration": 8,
    "start_time": "2024-03-03T21:28:17.591Z"
   },
   {
    "duration": 33,
    "start_time": "2024-03-03T21:28:17.601Z"
   },
   {
    "duration": 4,
    "start_time": "2024-03-03T21:28:17.636Z"
   },
   {
    "duration": 19,
    "start_time": "2024-03-03T21:28:17.642Z"
   },
   {
    "duration": 431,
    "start_time": "2024-03-03T21:28:17.663Z"
   },
   {
    "duration": 18,
    "start_time": "2024-03-03T21:28:18.096Z"
   },
   {
    "duration": 138,
    "start_time": "2024-03-03T21:28:18.116Z"
   },
   {
    "duration": 12,
    "start_time": "2024-03-03T21:28:18.256Z"
   },
   {
    "duration": 172,
    "start_time": "2024-03-03T21:28:18.282Z"
   },
   {
    "duration": 25,
    "start_time": "2024-03-03T21:28:18.456Z"
   },
   {
    "duration": 149,
    "start_time": "2024-03-03T21:28:18.482Z"
   },
   {
    "duration": 10,
    "start_time": "2024-03-03T21:28:18.632Z"
   },
   {
    "duration": 38,
    "start_time": "2024-03-03T21:28:18.643Z"
   },
   {
    "duration": 11,
    "start_time": "2024-03-03T21:28:18.683Z"
   },
   {
    "duration": 157,
    "start_time": "2024-03-03T21:28:18.696Z"
   },
   {
    "duration": 27,
    "start_time": "2024-03-03T21:28:18.854Z"
   },
   {
    "duration": 208,
    "start_time": "2024-03-03T21:28:18.882Z"
   },
   {
    "duration": 13,
    "start_time": "2024-03-03T21:28:19.091Z"
   },
   {
    "duration": 159,
    "start_time": "2024-03-03T21:28:19.106Z"
   },
   {
    "duration": 23,
    "start_time": "2024-03-03T21:31:44.953Z"
   },
   {
    "duration": 13,
    "start_time": "2024-03-03T21:33:45.998Z"
   },
   {
    "duration": 153,
    "start_time": "2024-03-03T21:33:52.365Z"
   },
   {
    "duration": 12,
    "start_time": "2024-03-03T21:34:05.390Z"
   },
   {
    "duration": 12,
    "start_time": "2024-03-03T21:34:09.285Z"
   },
   {
    "duration": 146,
    "start_time": "2024-03-03T21:34:12.734Z"
   },
   {
    "duration": 12,
    "start_time": "2024-03-03T21:34:20.159Z"
   },
   {
    "duration": 11,
    "start_time": "2024-03-03T21:34:38.912Z"
   },
   {
    "duration": 136,
    "start_time": "2024-03-03T21:34:42.598Z"
   },
   {
    "duration": 10,
    "start_time": "2024-03-03T21:34:53.354Z"
   },
   {
    "duration": 135,
    "start_time": "2024-03-03T21:34:55.625Z"
   },
   {
    "duration": 19,
    "start_time": "2024-03-03T21:35:06.429Z"
   },
   {
    "duration": 126,
    "start_time": "2024-03-03T21:35:08.526Z"
   },
   {
    "duration": 16,
    "start_time": "2024-03-03T21:35:18.071Z"
   },
   {
    "duration": 150,
    "start_time": "2024-03-03T21:35:20.025Z"
   },
   {
    "duration": 20,
    "start_time": "2024-03-03T21:35:34.027Z"
   },
   {
    "duration": 119,
    "start_time": "2024-03-03T21:35:35.621Z"
   },
   {
    "duration": 23,
    "start_time": "2024-03-03T21:36:09.457Z"
   },
   {
    "duration": 141,
    "start_time": "2024-03-03T21:36:12.696Z"
   },
   {
    "duration": 150,
    "start_time": "2024-03-03T21:36:35.780Z"
   },
   {
    "duration": 209,
    "start_time": "2024-03-03T21:39:56.791Z"
   },
   {
    "duration": 10,
    "start_time": "2024-03-03T21:50:36.658Z"
   },
   {
    "duration": 9,
    "start_time": "2024-03-03T21:51:08.488Z"
   },
   {
    "duration": 8,
    "start_time": "2024-03-03T21:51:13.045Z"
   },
   {
    "duration": 47,
    "start_time": "2024-03-04T16:10:12.889Z"
   },
   {
    "duration": 667,
    "start_time": "2024-03-04T16:10:17.549Z"
   },
   {
    "duration": 38,
    "start_time": "2024-03-04T16:10:18.218Z"
   },
   {
    "duration": 31,
    "start_time": "2024-03-04T16:10:18.258Z"
   },
   {
    "duration": 32,
    "start_time": "2024-03-04T16:10:18.292Z"
   },
   {
    "duration": 36,
    "start_time": "2024-03-04T16:10:18.328Z"
   },
   {
    "duration": 4,
    "start_time": "2024-03-04T16:10:18.365Z"
   },
   {
    "duration": 9,
    "start_time": "2024-03-04T16:10:18.370Z"
   },
   {
    "duration": 4,
    "start_time": "2024-03-04T16:10:18.381Z"
   },
   {
    "duration": 8,
    "start_time": "2024-03-04T16:10:18.418Z"
   },
   {
    "duration": 7,
    "start_time": "2024-03-04T16:10:18.428Z"
   },
   {
    "duration": 55,
    "start_time": "2024-03-04T16:10:18.436Z"
   },
   {
    "duration": 9,
    "start_time": "2024-03-04T16:10:18.493Z"
   },
   {
    "duration": 17,
    "start_time": "2024-03-04T16:10:18.504Z"
   },
   {
    "duration": 31,
    "start_time": "2024-03-04T16:10:18.524Z"
   },
   {
    "duration": 55,
    "start_time": "2024-03-04T16:10:18.557Z"
   },
   {
    "duration": 17,
    "start_time": "2024-03-04T16:10:18.614Z"
   },
   {
    "duration": 4,
    "start_time": "2024-03-04T16:10:18.632Z"
   },
   {
    "duration": 21,
    "start_time": "2024-03-04T16:10:18.637Z"
   },
   {
    "duration": 27,
    "start_time": "2024-03-04T16:10:18.659Z"
   },
   {
    "duration": 8,
    "start_time": "2024-03-04T16:10:18.688Z"
   },
   {
    "duration": 22,
    "start_time": "2024-03-04T16:10:18.697Z"
   },
   {
    "duration": 6,
    "start_time": "2024-03-04T16:10:18.720Z"
   },
   {
    "duration": 19,
    "start_time": "2024-03-04T16:10:18.728Z"
   },
   {
    "duration": 544,
    "start_time": "2024-03-04T16:10:18.748Z"
   },
   {
    "duration": 25,
    "start_time": "2024-03-04T16:10:19.293Z"
   },
   {
    "duration": 125,
    "start_time": "2024-03-04T16:10:19.320Z"
   },
   {
    "duration": 12,
    "start_time": "2024-03-04T16:10:19.447Z"
   },
   {
    "duration": 178,
    "start_time": "2024-03-04T16:10:19.461Z"
   },
   {
    "duration": 22,
    "start_time": "2024-03-04T16:10:19.641Z"
   },
   {
    "duration": 171,
    "start_time": "2024-03-04T16:10:19.665Z"
   },
   {
    "duration": 10,
    "start_time": "2024-03-04T16:10:19.838Z"
   },
   {
    "duration": 32,
    "start_time": "2024-03-04T16:10:19.849Z"
   },
   {
    "duration": 11,
    "start_time": "2024-03-04T16:10:19.883Z"
   },
   {
    "duration": 197,
    "start_time": "2024-03-04T16:10:19.895Z"
   },
   {
    "duration": 26,
    "start_time": "2024-03-04T16:10:20.094Z"
   },
   {
    "duration": 137,
    "start_time": "2024-03-04T16:10:20.122Z"
   },
   {
    "duration": 11,
    "start_time": "2024-03-04T16:10:20.260Z"
   },
   {
    "duration": 146,
    "start_time": "2024-03-04T16:10:20.273Z"
   },
   {
    "duration": 21,
    "start_time": "2024-03-04T16:10:20.421Z"
   },
   {
    "duration": 17,
    "start_time": "2024-03-04T16:13:16.708Z"
   },
   {
    "duration": 904,
    "start_time": "2024-03-04T16:13:30.876Z"
   },
   {
    "duration": 117,
    "start_time": "2024-03-04T16:13:43.036Z"
   },
   {
    "duration": 15,
    "start_time": "2024-03-04T16:16:20.366Z"
   },
   {
    "duration": 24,
    "start_time": "2024-03-04T16:16:26.959Z"
   },
   {
    "duration": 116,
    "start_time": "2024-03-04T16:16:30.558Z"
   },
   {
    "duration": 145,
    "start_time": "2024-03-04T16:17:56.447Z"
   },
   {
    "duration": 145,
    "start_time": "2024-03-04T16:18:28.391Z"
   },
   {
    "duration": 822,
    "start_time": "2024-03-04T16:19:07.544Z"
   },
   {
    "duration": 127,
    "start_time": "2024-03-04T16:19:14.664Z"
   },
   {
    "duration": 3,
    "start_time": "2024-03-04T16:24:22.068Z"
   },
   {
    "duration": 131,
    "start_time": "2024-03-04T16:24:44.148Z"
   },
   {
    "duration": 127,
    "start_time": "2024-03-04T16:26:13.845Z"
   },
   {
    "duration": 151,
    "start_time": "2024-03-04T16:26:41.892Z"
   },
   {
    "duration": 9,
    "start_time": "2024-03-04T16:27:36.470Z"
   },
   {
    "duration": 192,
    "start_time": "2024-03-04T16:27:47.941Z"
   },
   {
    "duration": 142,
    "start_time": "2024-03-04T16:28:04.627Z"
   },
   {
    "duration": 76,
    "start_time": "2024-03-04T16:28:24.951Z"
   },
   {
    "duration": 155,
    "start_time": "2024-03-04T16:28:31.887Z"
   },
   {
    "duration": 129,
    "start_time": "2024-03-04T16:28:39.831Z"
   },
   {
    "duration": 127,
    "start_time": "2024-03-04T16:31:30.897Z"
   },
   {
    "duration": 17,
    "start_time": "2024-03-04T16:32:24.937Z"
   },
   {
    "duration": 125,
    "start_time": "2024-03-04T16:32:28.138Z"
   },
   {
    "duration": 125,
    "start_time": "2024-03-04T16:32:51.138Z"
   },
   {
    "duration": 144,
    "start_time": "2024-03-04T16:37:07.349Z"
   },
   {
    "duration": 459,
    "start_time": "2024-03-04T16:38:41.280Z"
   },
   {
    "duration": 22,
    "start_time": "2024-03-04T16:38:41.740Z"
   },
   {
    "duration": 15,
    "start_time": "2024-03-04T16:38:41.763Z"
   },
   {
    "duration": 21,
    "start_time": "2024-03-04T16:38:41.780Z"
   },
   {
    "duration": 52,
    "start_time": "2024-03-04T16:38:41.803Z"
   },
   {
    "duration": 3,
    "start_time": "2024-03-04T16:38:41.856Z"
   },
   {
    "duration": 31,
    "start_time": "2024-03-04T16:38:41.861Z"
   },
   {
    "duration": 17,
    "start_time": "2024-03-04T16:38:41.894Z"
   },
   {
    "duration": 22,
    "start_time": "2024-03-04T16:38:41.913Z"
   },
   {
    "duration": 27,
    "start_time": "2024-03-04T16:38:41.936Z"
   },
   {
    "duration": 64,
    "start_time": "2024-03-04T16:38:41.965Z"
   },
   {
    "duration": 20,
    "start_time": "2024-03-04T16:38:42.031Z"
   },
   {
    "duration": 25,
    "start_time": "2024-03-04T16:38:42.052Z"
   },
   {
    "duration": 31,
    "start_time": "2024-03-04T16:38:42.079Z"
   },
   {
    "duration": 39,
    "start_time": "2024-03-04T16:38:42.111Z"
   },
   {
    "duration": 15,
    "start_time": "2024-03-04T16:38:42.151Z"
   },
   {
    "duration": 3,
    "start_time": "2024-03-04T16:38:42.168Z"
   },
   {
    "duration": 12,
    "start_time": "2024-03-04T16:38:42.172Z"
   },
   {
    "duration": 6,
    "start_time": "2024-03-04T16:38:42.186Z"
   },
   {
    "duration": 4,
    "start_time": "2024-03-04T16:38:42.194Z"
   },
   {
    "duration": 22,
    "start_time": "2024-03-04T16:38:42.199Z"
   },
   {
    "duration": 11,
    "start_time": "2024-03-04T16:38:42.222Z"
   },
   {
    "duration": 11,
    "start_time": "2024-03-04T16:38:42.235Z"
   },
   {
    "duration": 403,
    "start_time": "2024-03-04T16:38:42.247Z"
   },
   {
    "duration": 17,
    "start_time": "2024-03-04T16:38:42.652Z"
   },
   {
    "duration": 118,
    "start_time": "2024-03-04T16:38:42.670Z"
   },
   {
    "duration": 13,
    "start_time": "2024-03-04T16:38:42.789Z"
   },
   {
    "duration": 144,
    "start_time": "2024-03-04T16:38:42.818Z"
   },
   {
    "duration": 18,
    "start_time": "2024-03-04T16:38:42.964Z"
   },
   {
    "duration": 129,
    "start_time": "2024-03-04T16:38:42.984Z"
   },
   {
    "duration": 11,
    "start_time": "2024-03-04T16:38:43.118Z"
   },
   {
    "duration": 145,
    "start_time": "2024-03-04T16:38:43.130Z"
   },
   {
    "duration": 19,
    "start_time": "2024-03-04T16:38:43.276Z"
   },
   {
    "duration": 203,
    "start_time": "2024-03-04T16:38:43.296Z"
   },
   {
    "duration": 21,
    "start_time": "2024-03-04T16:38:43.501Z"
   },
   {
    "duration": 156,
    "start_time": "2024-03-04T16:38:43.524Z"
   },
   {
    "duration": 39,
    "start_time": "2024-03-04T16:38:43.681Z"
   },
   {
    "duration": 150,
    "start_time": "2024-03-04T16:38:43.721Z"
   },
   {
    "duration": 489,
    "start_time": "2024-03-04T16:38:59.592Z"
   },
   {
    "duration": 24,
    "start_time": "2024-03-04T16:39:00.083Z"
   },
   {
    "duration": 30,
    "start_time": "2024-03-04T16:39:00.109Z"
   },
   {
    "duration": 33,
    "start_time": "2024-03-04T16:39:00.141Z"
   },
   {
    "duration": 47,
    "start_time": "2024-03-04T16:39:00.176Z"
   },
   {
    "duration": 3,
    "start_time": "2024-03-04T16:39:00.225Z"
   },
   {
    "duration": 33,
    "start_time": "2024-03-04T16:39:00.229Z"
   },
   {
    "duration": 32,
    "start_time": "2024-03-04T16:39:00.263Z"
   },
   {
    "duration": 46,
    "start_time": "2024-03-04T16:39:00.296Z"
   },
   {
    "duration": 43,
    "start_time": "2024-03-04T16:39:00.344Z"
   },
   {
    "duration": 50,
    "start_time": "2024-03-04T16:39:00.388Z"
   },
   {
    "duration": 10,
    "start_time": "2024-03-04T16:39:00.439Z"
   },
   {
    "duration": 21,
    "start_time": "2024-03-04T16:39:00.451Z"
   },
   {
    "duration": 92,
    "start_time": "2024-03-04T16:39:00.475Z"
   },
   {
    "duration": 86,
    "start_time": "2024-03-04T16:39:00.569Z"
   },
   {
    "duration": 55,
    "start_time": "2024-03-04T16:39:00.657Z"
   },
   {
    "duration": 14,
    "start_time": "2024-03-04T16:39:00.714Z"
   },
   {
    "duration": 38,
    "start_time": "2024-03-04T16:39:00.730Z"
   },
   {
    "duration": 88,
    "start_time": "2024-03-04T16:39:00.770Z"
   },
   {
    "duration": 53,
    "start_time": "2024-03-04T16:39:00.860Z"
   },
   {
    "duration": 54,
    "start_time": "2024-03-04T16:39:00.915Z"
   },
   {
    "duration": 32,
    "start_time": "2024-03-04T16:39:00.970Z"
   },
   {
    "duration": 31,
    "start_time": "2024-03-04T16:39:01.004Z"
   },
   {
    "duration": 434,
    "start_time": "2024-03-04T16:39:01.036Z"
   },
   {
    "duration": 18,
    "start_time": "2024-03-04T16:39:01.471Z"
   },
   {
    "duration": 160,
    "start_time": "2024-03-04T16:39:01.490Z"
   },
   {
    "duration": 18,
    "start_time": "2024-03-04T16:39:01.652Z"
   },
   {
    "duration": 202,
    "start_time": "2024-03-04T16:39:01.672Z"
   },
   {
    "duration": 19,
    "start_time": "2024-03-04T16:39:01.876Z"
   },
   {
    "duration": 182,
    "start_time": "2024-03-04T16:39:01.896Z"
   },
   {
    "duration": 10,
    "start_time": "2024-03-04T16:39:02.080Z"
   },
   {
    "duration": 162,
    "start_time": "2024-03-04T16:39:02.091Z"
   },
   {
    "duration": 17,
    "start_time": "2024-03-04T16:39:02.255Z"
   },
   {
    "duration": 195,
    "start_time": "2024-03-04T16:39:02.273Z"
   },
   {
    "duration": 27,
    "start_time": "2024-03-04T16:39:02.469Z"
   },
   {
    "duration": 157,
    "start_time": "2024-03-04T16:39:02.498Z"
   },
   {
    "duration": 23,
    "start_time": "2024-03-04T16:39:02.656Z"
   },
   {
    "duration": 160,
    "start_time": "2024-03-04T16:39:02.680Z"
   },
   {
    "duration": 474,
    "start_time": "2024-03-04T16:52:23.886Z"
   },
   {
    "duration": 29,
    "start_time": "2024-03-04T16:52:24.363Z"
   },
   {
    "duration": 28,
    "start_time": "2024-03-04T16:52:24.394Z"
   },
   {
    "duration": 10,
    "start_time": "2024-03-04T16:52:24.424Z"
   },
   {
    "duration": 37,
    "start_time": "2024-03-04T16:52:24.436Z"
   },
   {
    "duration": 3,
    "start_time": "2024-03-04T16:52:24.475Z"
   },
   {
    "duration": 13,
    "start_time": "2024-03-04T16:52:24.480Z"
   },
   {
    "duration": 25,
    "start_time": "2024-03-04T16:52:24.495Z"
   },
   {
    "duration": 7,
    "start_time": "2024-03-04T16:52:24.522Z"
   },
   {
    "duration": 5,
    "start_time": "2024-03-04T16:52:24.530Z"
   },
   {
    "duration": 34,
    "start_time": "2024-03-04T16:52:24.537Z"
   },
   {
    "duration": 10,
    "start_time": "2024-03-04T16:52:24.572Z"
   },
   {
    "duration": 4,
    "start_time": "2024-03-04T16:52:24.618Z"
   },
   {
    "duration": 20,
    "start_time": "2024-03-04T16:52:24.625Z"
   },
   {
    "duration": 43,
    "start_time": "2024-03-04T16:52:24.646Z"
   },
   {
    "duration": 16,
    "start_time": "2024-03-04T16:52:24.690Z"
   },
   {
    "duration": 4,
    "start_time": "2024-03-04T16:52:24.707Z"
   },
   {
    "duration": 13,
    "start_time": "2024-03-04T16:52:24.712Z"
   },
   {
    "duration": 20,
    "start_time": "2024-03-04T16:52:24.727Z"
   },
   {
    "duration": 6,
    "start_time": "2024-03-04T16:52:24.748Z"
   },
   {
    "duration": 43,
    "start_time": "2024-03-04T16:52:24.755Z"
   },
   {
    "duration": 14,
    "start_time": "2024-03-04T16:52:24.800Z"
   },
   {
    "duration": 29,
    "start_time": "2024-03-04T16:52:24.815Z"
   },
   {
    "duration": 392,
    "start_time": "2024-03-04T16:52:24.845Z"
   },
   {
    "duration": 18,
    "start_time": "2024-03-04T16:52:25.239Z"
   },
   {
    "duration": 147,
    "start_time": "2024-03-04T16:52:25.259Z"
   },
   {
    "duration": 20,
    "start_time": "2024-03-04T16:52:25.408Z"
   },
   {
    "duration": 169,
    "start_time": "2024-03-04T16:52:25.430Z"
   },
   {
    "duration": 44,
    "start_time": "2024-03-04T16:52:25.601Z"
   },
   {
    "duration": 149,
    "start_time": "2024-03-04T16:52:25.648Z"
   },
   {
    "duration": 10,
    "start_time": "2024-03-04T16:52:25.799Z"
   },
   {
    "duration": 128,
    "start_time": "2024-03-04T16:52:25.818Z"
   },
   {
    "duration": 16,
    "start_time": "2024-03-04T16:52:25.948Z"
   },
   {
    "duration": 199,
    "start_time": "2024-03-04T16:52:25.966Z"
   },
   {
    "duration": 11,
    "start_time": "2024-03-04T16:52:26.167Z"
   },
   {
    "duration": 145,
    "start_time": "2024-03-04T16:52:26.180Z"
   },
   {
    "duration": 30,
    "start_time": "2024-03-04T16:52:26.327Z"
   },
   {
    "duration": 136,
    "start_time": "2024-03-04T16:52:26.358Z"
   },
   {
    "duration": 33,
    "start_time": "2024-03-04T16:53:34.217Z"
   },
   {
    "duration": 20,
    "start_time": "2024-03-04T16:54:48.489Z"
   },
   {
    "duration": 484,
    "start_time": "2024-03-04T16:55:21.211Z"
   },
   {
    "duration": 21,
    "start_time": "2024-03-04T16:55:21.697Z"
   },
   {
    "duration": 14,
    "start_time": "2024-03-04T16:55:21.720Z"
   },
   {
    "duration": 10,
    "start_time": "2024-03-04T16:55:21.736Z"
   },
   {
    "duration": 34,
    "start_time": "2024-03-04T16:55:21.748Z"
   },
   {
    "duration": 3,
    "start_time": "2024-03-04T16:55:21.784Z"
   },
   {
    "duration": 33,
    "start_time": "2024-03-04T16:55:21.788Z"
   },
   {
    "duration": 5,
    "start_time": "2024-03-04T16:55:21.823Z"
   },
   {
    "duration": 8,
    "start_time": "2024-03-04T16:55:21.830Z"
   },
   {
    "duration": 5,
    "start_time": "2024-03-04T16:55:21.840Z"
   },
   {
    "duration": 42,
    "start_time": "2024-03-04T16:55:21.847Z"
   },
   {
    "duration": 11,
    "start_time": "2024-03-04T16:55:21.917Z"
   },
   {
    "duration": 4,
    "start_time": "2024-03-04T16:55:21.929Z"
   },
   {
    "duration": 12,
    "start_time": "2024-03-04T16:55:21.935Z"
   },
   {
    "duration": 22,
    "start_time": "2024-03-04T16:55:21.949Z"
   },
   {
    "duration": 18,
    "start_time": "2024-03-04T16:55:21.973Z"
   },
   {
    "duration": 27,
    "start_time": "2024-03-04T16:55:21.992Z"
   },
   {
    "duration": 13,
    "start_time": "2024-03-04T16:55:22.020Z"
   },
   {
    "duration": 7,
    "start_time": "2024-03-04T16:55:22.035Z"
   },
   {
    "duration": 28,
    "start_time": "2024-03-04T16:55:22.044Z"
   },
   {
    "duration": 17,
    "start_time": "2024-03-04T16:55:22.073Z"
   },
   {
    "duration": 5,
    "start_time": "2024-03-04T16:55:22.091Z"
   },
   {
    "duration": 20,
    "start_time": "2024-03-04T16:55:22.098Z"
   },
   {
    "duration": 364,
    "start_time": "2024-03-04T16:55:22.120Z"
   },
   {
    "duration": 17,
    "start_time": "2024-03-04T16:55:22.486Z"
   },
   {
    "duration": 121,
    "start_time": "2024-03-04T16:55:22.505Z"
   },
   {
    "duration": 10,
    "start_time": "2024-03-04T16:55:22.628Z"
   },
   {
    "duration": 146,
    "start_time": "2024-03-04T16:55:22.640Z"
   },
   {
    "duration": 30,
    "start_time": "2024-03-04T16:55:22.788Z"
   },
   {
    "duration": 117,
    "start_time": "2024-03-04T16:55:22.820Z"
   },
   {
    "duration": 11,
    "start_time": "2024-03-04T16:55:22.939Z"
   },
   {
    "duration": 139,
    "start_time": "2024-03-04T16:55:22.951Z"
   },
   {
    "duration": 27,
    "start_time": "2024-03-04T16:55:23.092Z"
   },
   {
    "duration": 186,
    "start_time": "2024-03-04T16:55:23.120Z"
   },
   {
    "duration": 19,
    "start_time": "2024-03-04T16:55:23.308Z"
   },
   {
    "duration": 159,
    "start_time": "2024-03-04T16:55:23.328Z"
   },
   {
    "duration": 31,
    "start_time": "2024-03-04T16:55:23.488Z"
   },
   {
    "duration": 139,
    "start_time": "2024-03-04T16:55:23.520Z"
   },
   {
    "duration": 91,
    "start_time": "2024-03-04T17:02:55.351Z"
   },
   {
    "duration": 32,
    "start_time": "2024-03-04T17:03:42.824Z"
   },
   {
    "duration": 443,
    "start_time": "2024-03-05T11:22:01.270Z"
   },
   {
    "duration": 19,
    "start_time": "2024-03-05T11:22:01.715Z"
   },
   {
    "duration": 94,
    "start_time": "2024-03-05T11:22:01.735Z"
   },
   {
    "duration": 72,
    "start_time": "2024-03-05T11:22:01.831Z"
   },
   {
    "duration": 156,
    "start_time": "2024-03-05T11:22:01.904Z"
   },
   {
    "duration": 113,
    "start_time": "2024-03-05T11:22:02.061Z"
   },
   {
    "duration": 177,
    "start_time": "2024-03-05T11:22:02.176Z"
   },
   {
    "duration": 136,
    "start_time": "2024-03-05T11:22:02.354Z"
   },
   {
    "duration": 141,
    "start_time": "2024-03-05T11:22:02.491Z"
   },
   {
    "duration": 24,
    "start_time": "2024-03-05T11:22:02.635Z"
   },
   {
    "duration": 45,
    "start_time": "2024-03-05T11:22:02.660Z"
   },
   {
    "duration": 8,
    "start_time": "2024-03-05T11:22:02.706Z"
   },
   {
    "duration": 39,
    "start_time": "2024-03-05T11:22:02.715Z"
   },
   {
    "duration": 29,
    "start_time": "2024-03-05T11:22:02.755Z"
   },
   {
    "duration": 17,
    "start_time": "2024-03-05T11:22:02.785Z"
   },
   {
    "duration": 33,
    "start_time": "2024-03-05T11:22:02.803Z"
   },
   {
    "duration": 3,
    "start_time": "2024-03-05T11:22:02.838Z"
   },
   {
    "duration": 20,
    "start_time": "2024-03-05T11:22:02.842Z"
   },
   {
    "duration": 5,
    "start_time": "2024-03-05T11:22:02.864Z"
   },
   {
    "duration": 3,
    "start_time": "2024-03-05T11:22:02.870Z"
   },
   {
    "duration": 17,
    "start_time": "2024-03-05T11:22:02.875Z"
   },
   {
    "duration": 12,
    "start_time": "2024-03-05T11:22:02.893Z"
   },
   {
    "duration": 10,
    "start_time": "2024-03-05T11:22:02.906Z"
   },
   {
    "duration": 493,
    "start_time": "2024-03-05T11:22:02.917Z"
   },
   {
    "duration": 16,
    "start_time": "2024-03-05T11:22:03.411Z"
   },
   {
    "duration": 117,
    "start_time": "2024-03-05T11:22:03.428Z"
   },
   {
    "duration": 16,
    "start_time": "2024-03-05T11:22:03.546Z"
   },
   {
    "duration": 130,
    "start_time": "2024-03-05T11:22:03.565Z"
   },
   {
    "duration": 17,
    "start_time": "2024-03-05T11:22:03.696Z"
   },
   {
    "duration": 114,
    "start_time": "2024-03-05T11:22:03.714Z"
   },
   {
    "duration": 9,
    "start_time": "2024-03-05T11:22:03.829Z"
   },
   {
    "duration": 151,
    "start_time": "2024-03-05T11:22:03.840Z"
   },
   {
    "duration": 15,
    "start_time": "2024-03-05T11:22:03.993Z"
   },
   {
    "duration": 124,
    "start_time": "2024-03-05T11:22:04.009Z"
   },
   {
    "duration": 10,
    "start_time": "2024-03-05T11:22:04.134Z"
   },
   {
    "duration": 129,
    "start_time": "2024-03-05T11:22:04.145Z"
   },
   {
    "duration": 21,
    "start_time": "2024-03-05T11:22:04.276Z"
   },
   {
    "duration": 127,
    "start_time": "2024-03-05T11:22:04.299Z"
   },
   {
    "duration": 66,
    "start_time": "2024-03-05T13:07:33.380Z"
   },
   {
    "duration": 8,
    "start_time": "2024-03-05T13:09:08.461Z"
   },
   {
    "duration": 17,
    "start_time": "2024-03-05T13:09:16.853Z"
   },
   {
    "duration": 98,
    "start_time": "2024-03-05T15:32:04.300Z"
   },
   {
    "duration": 628,
    "start_time": "2024-03-05T15:34:30.760Z"
   },
   {
    "duration": 25,
    "start_time": "2024-03-05T15:34:31.390Z"
   },
   {
    "duration": 62,
    "start_time": "2024-03-05T15:34:31.416Z"
   },
   {
    "duration": 92,
    "start_time": "2024-03-05T15:34:31.480Z"
   },
   {
    "duration": 62,
    "start_time": "2024-03-05T15:34:31.575Z"
   },
   {
    "duration": 12,
    "start_time": "2024-03-05T15:34:31.638Z"
   },
   {
    "duration": 32,
    "start_time": "2024-03-05T15:34:31.652Z"
   },
   {
    "duration": 41,
    "start_time": "2024-03-05T15:34:31.685Z"
   },
   {
    "duration": 50,
    "start_time": "2024-03-05T15:34:31.727Z"
   },
   {
    "duration": 31,
    "start_time": "2024-03-05T15:34:31.778Z"
   },
   {
    "duration": 87,
    "start_time": "2024-03-05T15:34:31.811Z"
   },
   {
    "duration": 17,
    "start_time": "2024-03-05T15:34:31.900Z"
   },
   {
    "duration": 41,
    "start_time": "2024-03-05T15:34:31.919Z"
   },
   {
    "duration": 67,
    "start_time": "2024-03-05T15:34:31.963Z"
   },
   {
    "duration": 60,
    "start_time": "2024-03-05T15:34:32.032Z"
   },
   {
    "duration": 31,
    "start_time": "2024-03-05T15:34:32.094Z"
   },
   {
    "duration": 24,
    "start_time": "2024-03-05T15:34:32.126Z"
   },
   {
    "duration": 38,
    "start_time": "2024-03-05T15:34:32.151Z"
   },
   {
    "duration": 26,
    "start_time": "2024-03-05T15:34:32.191Z"
   },
   {
    "duration": 29,
    "start_time": "2024-03-05T15:34:32.219Z"
   },
   {
    "duration": 60,
    "start_time": "2024-03-05T15:34:32.250Z"
   },
   {
    "duration": 28,
    "start_time": "2024-03-05T15:34:32.312Z"
   },
   {
    "duration": 27,
    "start_time": "2024-03-05T15:34:32.342Z"
   },
   {
    "duration": 642,
    "start_time": "2024-03-05T15:34:32.371Z"
   },
   {
    "duration": 20,
    "start_time": "2024-03-05T15:34:33.014Z"
   },
   {
    "duration": 135,
    "start_time": "2024-03-05T15:34:33.035Z"
   },
   {
    "duration": 16,
    "start_time": "2024-03-05T15:34:33.172Z"
   },
   {
    "duration": 160,
    "start_time": "2024-03-05T15:34:33.189Z"
   },
   {
    "duration": 30,
    "start_time": "2024-03-05T15:34:33.350Z"
   },
   {
    "duration": 131,
    "start_time": "2024-03-05T15:34:33.382Z"
   },
   {
    "duration": 12,
    "start_time": "2024-03-05T15:34:33.514Z"
   },
   {
    "duration": 205,
    "start_time": "2024-03-05T15:34:33.527Z"
   },
   {
    "duration": 20,
    "start_time": "2024-03-05T15:34:33.734Z"
   },
   {
    "duration": 171,
    "start_time": "2024-03-05T15:34:33.756Z"
   },
   {
    "duration": 21,
    "start_time": "2024-03-05T15:34:33.929Z"
   },
   {
    "duration": 162,
    "start_time": "2024-03-05T15:34:33.952Z"
   },
   {
    "duration": 27,
    "start_time": "2024-03-05T15:34:34.115Z"
   },
   {
    "duration": 159,
    "start_time": "2024-03-05T15:34:34.143Z"
   },
   {
    "duration": 38,
    "start_time": "2024-03-05T15:39:33.391Z"
   },
   {
    "duration": 76,
    "start_time": "2024-03-05T15:48:13.750Z"
   },
   {
    "duration": 518,
    "start_time": "2024-03-05T15:48:22.976Z"
   },
   {
    "duration": 24,
    "start_time": "2024-03-05T15:48:23.496Z"
   },
   {
    "duration": 32,
    "start_time": "2024-03-05T15:48:23.522Z"
   },
   {
    "duration": 21,
    "start_time": "2024-03-05T15:48:23.556Z"
   },
   {
    "duration": 44,
    "start_time": "2024-03-05T15:48:23.579Z"
   },
   {
    "duration": 3,
    "start_time": "2024-03-05T15:48:23.625Z"
   },
   {
    "duration": 26,
    "start_time": "2024-03-05T15:48:23.629Z"
   },
   {
    "duration": 43,
    "start_time": "2024-03-05T15:48:23.657Z"
   },
   {
    "duration": 29,
    "start_time": "2024-03-05T15:48:23.702Z"
   },
   {
    "duration": 8,
    "start_time": "2024-03-05T15:48:23.735Z"
   },
   {
    "duration": 51,
    "start_time": "2024-03-05T15:48:23.744Z"
   },
   {
    "duration": 11,
    "start_time": "2024-03-05T15:48:23.796Z"
   },
   {
    "duration": 31,
    "start_time": "2024-03-05T15:48:23.808Z"
   },
   {
    "duration": 27,
    "start_time": "2024-03-05T15:48:23.841Z"
   },
   {
    "duration": 40,
    "start_time": "2024-03-05T15:48:23.869Z"
   },
   {
    "duration": 18,
    "start_time": "2024-03-05T15:48:23.911Z"
   },
   {
    "duration": 23,
    "start_time": "2024-03-05T15:48:23.930Z"
   },
   {
    "duration": 18,
    "start_time": "2024-03-05T15:48:23.954Z"
   },
   {
    "duration": 16,
    "start_time": "2024-03-05T15:48:23.973Z"
   },
   {
    "duration": 5,
    "start_time": "2024-03-05T15:48:23.990Z"
   },
   {
    "duration": 12,
    "start_time": "2024-03-05T15:48:23.996Z"
   },
   {
    "duration": 5,
    "start_time": "2024-03-05T15:48:24.009Z"
   },
   {
    "duration": 75,
    "start_time": "2024-03-05T15:48:24.015Z"
   },
   {
    "duration": 0,
    "start_time": "2024-03-05T15:48:24.092Z"
   },
   {
    "duration": 0,
    "start_time": "2024-03-05T15:48:24.093Z"
   },
   {
    "duration": 0,
    "start_time": "2024-03-05T15:48:24.094Z"
   },
   {
    "duration": 0,
    "start_time": "2024-03-05T15:48:24.095Z"
   },
   {
    "duration": 0,
    "start_time": "2024-03-05T15:48:24.097Z"
   },
   {
    "duration": 0,
    "start_time": "2024-03-05T15:48:24.097Z"
   },
   {
    "duration": 0,
    "start_time": "2024-03-05T15:48:24.098Z"
   },
   {
    "duration": 0,
    "start_time": "2024-03-05T15:48:24.099Z"
   },
   {
    "duration": 0,
    "start_time": "2024-03-05T15:48:24.101Z"
   },
   {
    "duration": 0,
    "start_time": "2024-03-05T15:48:24.101Z"
   },
   {
    "duration": 0,
    "start_time": "2024-03-05T15:48:24.102Z"
   },
   {
    "duration": 0,
    "start_time": "2024-03-05T15:48:24.103Z"
   },
   {
    "duration": 0,
    "start_time": "2024-03-05T15:48:24.105Z"
   },
   {
    "duration": 0,
    "start_time": "2024-03-05T15:48:24.106Z"
   },
   {
    "duration": 0,
    "start_time": "2024-03-05T15:48:24.107Z"
   },
   {
    "duration": 0,
    "start_time": "2024-03-05T15:48:24.108Z"
   },
   {
    "duration": 3,
    "start_time": "2024-03-05T15:48:47.230Z"
   },
   {
    "duration": 4,
    "start_time": "2024-03-05T15:48:51.350Z"
   },
   {
    "duration": 11,
    "start_time": "2024-03-05T15:48:59.822Z"
   },
   {
    "duration": 10,
    "start_time": "2024-03-05T15:49:07.239Z"
   },
   {
    "duration": 3,
    "start_time": "2024-03-05T15:49:30.215Z"
   },
   {
    "duration": 9,
    "start_time": "2024-03-05T15:49:31.120Z"
   },
   {
    "duration": 415,
    "start_time": "2024-03-05T15:49:35.559Z"
   },
   {
    "duration": 95,
    "start_time": "2024-03-05T15:59:11.871Z"
   },
   {
    "duration": 4,
    "start_time": "2024-03-05T15:59:17.607Z"
   },
   {
    "duration": 11,
    "start_time": "2024-03-05T15:59:20.518Z"
   },
   {
    "duration": 4,
    "start_time": "2024-03-05T15:59:24.638Z"
   },
   {
    "duration": 10,
    "start_time": "2024-03-05T15:59:26.199Z"
   },
   {
    "duration": 141,
    "start_time": "2024-03-05T15:59:31.670Z"
   },
   {
    "duration": 16,
    "start_time": "2024-03-05T15:59:43.310Z"
   },
   {
    "duration": 16,
    "start_time": "2024-03-05T15:59:50.455Z"
   },
   {
    "duration": 18,
    "start_time": "2024-03-05T15:59:55.960Z"
   },
   {
    "duration": 133,
    "start_time": "2024-03-05T16:00:03.847Z"
   },
   {
    "duration": 18,
    "start_time": "2024-03-05T16:00:24.519Z"
   },
   {
    "duration": 126,
    "start_time": "2024-03-05T16:00:46.389Z"
   },
   {
    "duration": 130,
    "start_time": "2024-03-05T16:01:09.920Z"
   },
   {
    "duration": 4,
    "start_time": "2024-03-05T16:18:04.309Z"
   },
   {
    "duration": 15,
    "start_time": "2024-03-05T16:18:05.619Z"
   },
   {
    "duration": 4,
    "start_time": "2024-03-05T16:18:47.340Z"
   },
   {
    "duration": 11,
    "start_time": "2024-03-05T16:18:48.420Z"
   },
   {
    "duration": 4,
    "start_time": "2024-03-05T16:19:11.052Z"
   },
   {
    "duration": 2299,
    "start_time": "2024-03-05T16:19:15.268Z"
   },
   {
    "duration": 11,
    "start_time": "2024-03-05T16:19:21.588Z"
   },
   {
    "duration": 201,
    "start_time": "2024-03-05T16:19:41.157Z"
   },
   {
    "duration": 121,
    "start_time": "2024-03-05T16:20:39.941Z"
   },
   {
    "duration": 125,
    "start_time": "2024-03-05T16:21:15.198Z"
   },
   {
    "duration": 19,
    "start_time": "2024-03-05T16:21:25.806Z"
   },
   {
    "duration": 108,
    "start_time": "2024-03-05T16:21:45.558Z"
   },
   {
    "duration": 4,
    "start_time": "2024-03-05T16:23:21.055Z"
   },
   {
    "duration": 9,
    "start_time": "2024-03-05T16:23:22.591Z"
   },
   {
    "duration": 12,
    "start_time": "2024-03-05T16:23:27.151Z"
   },
   {
    "duration": 134,
    "start_time": "2024-03-05T16:24:01.384Z"
   },
   {
    "duration": 20,
    "start_time": "2024-03-05T16:24:35.745Z"
   },
   {
    "duration": 141,
    "start_time": "2024-03-05T16:24:50.129Z"
   },
   {
    "duration": 105,
    "start_time": "2024-03-05T16:25:02.217Z"
   },
   {
    "duration": 137,
    "start_time": "2024-03-05T16:25:35.505Z"
   },
   {
    "duration": 27,
    "start_time": "2024-03-05T16:25:39.473Z"
   },
   {
    "duration": 21,
    "start_time": "2024-03-05T16:25:45.409Z"
   },
   {
    "duration": 151,
    "start_time": "2024-03-05T16:25:47.897Z"
   },
   {
    "duration": 15,
    "start_time": "2024-03-05T16:26:04.698Z"
   },
   {
    "duration": 16,
    "start_time": "2024-03-05T16:26:22.730Z"
   },
   {
    "duration": 121,
    "start_time": "2024-03-05T16:26:39.569Z"
   },
   {
    "duration": 19,
    "start_time": "2024-03-05T16:27:08.138Z"
   },
   {
    "duration": 1585,
    "start_time": "2024-03-05T16:27:15.434Z"
   },
   {
    "duration": 133,
    "start_time": "2024-03-05T16:27:32.618Z"
   },
   {
    "duration": 10,
    "start_time": "2024-03-05T16:29:16.812Z"
   },
   {
    "duration": 14,
    "start_time": "2024-03-05T16:29:51.035Z"
   },
   {
    "duration": 10,
    "start_time": "2024-03-05T16:30:34.709Z"
   },
   {
    "duration": 286,
    "start_time": "2024-03-05T16:31:20.485Z"
   },
   {
    "duration": 186,
    "start_time": "2024-03-05T16:31:36.791Z"
   },
   {
    "duration": 12,
    "start_time": "2024-03-05T16:31:36.981Z"
   },
   {
    "duration": 144,
    "start_time": "2024-03-05T16:31:36.995Z"
   },
   {
    "duration": 19,
    "start_time": "2024-03-05T16:31:37.141Z"
   },
   {
    "duration": 165,
    "start_time": "2024-03-05T16:31:37.162Z"
   },
   {
    "duration": 13,
    "start_time": "2024-03-05T16:31:37.329Z"
   },
   {
    "duration": 160,
    "start_time": "2024-03-05T16:31:37.343Z"
   },
   {
    "duration": 26,
    "start_time": "2024-03-05T16:31:37.505Z"
   },
   {
    "duration": 166,
    "start_time": "2024-03-05T16:31:37.532Z"
   },
   {
    "duration": 11,
    "start_time": "2024-03-05T16:34:04.079Z"
   },
   {
    "duration": 10,
    "start_time": "2024-03-05T16:34:12.247Z"
   },
   {
    "duration": 11,
    "start_time": "2024-03-05T16:34:20.095Z"
   },
   {
    "duration": 16,
    "start_time": "2024-03-05T16:36:17.921Z"
   },
   {
    "duration": 128,
    "start_time": "2024-03-05T16:36:40.226Z"
   },
   {
    "duration": 6,
    "start_time": "2024-03-05T16:42:01.579Z"
   },
   {
    "duration": 487,
    "start_time": "2024-03-05T16:42:08.542Z"
   },
   {
    "duration": 21,
    "start_time": "2024-03-05T16:42:09.031Z"
   },
   {
    "duration": 20,
    "start_time": "2024-03-05T16:42:09.053Z"
   },
   {
    "duration": 10,
    "start_time": "2024-03-05T16:42:09.079Z"
   },
   {
    "duration": 5,
    "start_time": "2024-03-05T16:42:09.090Z"
   },
   {
    "duration": 36,
    "start_time": "2024-03-05T16:42:09.097Z"
   },
   {
    "duration": 10,
    "start_time": "2024-03-05T16:42:09.135Z"
   },
   {
    "duration": 12,
    "start_time": "2024-03-05T16:42:09.146Z"
   },
   {
    "duration": 24,
    "start_time": "2024-03-05T16:42:09.159Z"
   },
   {
    "duration": 8,
    "start_time": "2024-03-05T16:42:09.185Z"
   },
   {
    "duration": 4,
    "start_time": "2024-03-05T16:42:09.194Z"
   },
   {
    "duration": 34,
    "start_time": "2024-03-05T16:42:09.199Z"
   },
   {
    "duration": 9,
    "start_time": "2024-03-05T16:42:09.235Z"
   },
   {
    "duration": 10,
    "start_time": "2024-03-05T16:42:09.246Z"
   },
   {
    "duration": 30,
    "start_time": "2024-03-05T16:42:09.257Z"
   },
   {
    "duration": 19,
    "start_time": "2024-03-05T16:42:09.289Z"
   },
   {
    "duration": 16,
    "start_time": "2024-03-05T16:42:09.309Z"
   },
   {
    "duration": 3,
    "start_time": "2024-03-05T16:42:09.326Z"
   },
   {
    "duration": 13,
    "start_time": "2024-03-05T16:42:09.331Z"
   },
   {
    "duration": 6,
    "start_time": "2024-03-05T16:42:09.345Z"
   },
   {
    "duration": 4,
    "start_time": "2024-03-05T16:42:09.352Z"
   },
   {
    "duration": 9,
    "start_time": "2024-03-05T16:42:09.379Z"
   },
   {
    "duration": 6,
    "start_time": "2024-03-05T16:42:09.389Z"
   },
   {
    "duration": 5,
    "start_time": "2024-03-05T16:42:09.396Z"
   },
   {
    "duration": 17,
    "start_time": "2024-03-05T16:42:09.402Z"
   },
   {
    "duration": 369,
    "start_time": "2024-03-05T16:42:09.421Z"
   },
   {
    "duration": 17,
    "start_time": "2024-03-05T16:42:09.791Z"
   },
   {
    "duration": 114,
    "start_time": "2024-03-05T16:42:09.811Z"
   },
   {
    "duration": 11,
    "start_time": "2024-03-05T16:42:09.927Z"
   },
   {
    "duration": 159,
    "start_time": "2024-03-05T16:42:09.939Z"
   },
   {
    "duration": 30,
    "start_time": "2024-03-05T16:42:10.100Z"
   },
   {
    "duration": 125,
    "start_time": "2024-03-05T16:42:10.132Z"
   },
   {
    "duration": 27,
    "start_time": "2024-03-05T16:42:10.258Z"
   },
   {
    "duration": 15,
    "start_time": "2024-03-05T16:42:10.287Z"
   },
   {
    "duration": 179,
    "start_time": "2024-03-05T16:42:10.304Z"
   },
   {
    "duration": 27,
    "start_time": "2024-03-05T16:42:10.485Z"
   },
   {
    "duration": 225,
    "start_time": "2024-03-05T16:42:10.514Z"
   },
   {
    "duration": 12,
    "start_time": "2024-03-05T16:42:10.740Z"
   },
   {
    "duration": 142,
    "start_time": "2024-03-05T16:42:10.753Z"
   },
   {
    "duration": 88,
    "start_time": "2024-03-05T16:42:10.897Z"
   },
   {
    "duration": 0,
    "start_time": "2024-03-05T16:42:10.987Z"
   },
   {
    "duration": 8,
    "start_time": "2024-03-05T16:47:39.542Z"
   },
   {
    "duration": 5,
    "start_time": "2024-03-05T16:47:45.854Z"
   },
   {
    "duration": 6,
    "start_time": "2024-03-05T16:47:53.150Z"
   },
   {
    "duration": 6,
    "start_time": "2024-03-05T16:48:03.885Z"
   },
   {
    "duration": 6,
    "start_time": "2024-03-05T16:48:06.534Z"
   },
   {
    "duration": 5,
    "start_time": "2024-03-05T16:48:08.646Z"
   },
   {
    "duration": 95,
    "start_time": "2024-03-05T16:48:21.478Z"
   },
   {
    "duration": 5,
    "start_time": "2024-03-05T16:48:25.542Z"
   },
   {
    "duration": 20,
    "start_time": "2024-03-05T16:53:25.617Z"
   },
   {
    "duration": 162,
    "start_time": "2024-03-05T16:53:48.593Z"
   },
   {
    "duration": 21,
    "start_time": "2024-03-05T16:54:20.193Z"
   },
   {
    "duration": 19,
    "start_time": "2024-03-05T16:54:38.233Z"
   },
   {
    "duration": 17,
    "start_time": "2024-03-05T16:57:58.075Z"
   },
   {
    "duration": 444,
    "start_time": "2024-03-05T17:27:01.418Z"
   },
   {
    "duration": 22,
    "start_time": "2024-03-05T17:27:01.864Z"
   },
   {
    "duration": 86,
    "start_time": "2024-03-05T17:27:01.887Z"
   },
   {
    "duration": 36,
    "start_time": "2024-03-05T17:27:01.975Z"
   },
   {
    "duration": 108,
    "start_time": "2024-03-05T17:27:02.014Z"
   },
   {
    "duration": 67,
    "start_time": "2024-03-05T17:27:02.123Z"
   },
   {
    "duration": 4,
    "start_time": "2024-03-05T17:27:02.191Z"
   },
   {
    "duration": 40,
    "start_time": "2024-03-05T17:27:02.197Z"
   },
   {
    "duration": 24,
    "start_time": "2024-03-05T17:27:02.238Z"
   },
   {
    "duration": 37,
    "start_time": "2024-03-05T17:27:02.263Z"
   },
   {
    "duration": 43,
    "start_time": "2024-03-05T17:27:02.302Z"
   },
   {
    "duration": 72,
    "start_time": "2024-03-05T17:27:02.347Z"
   },
   {
    "duration": 30,
    "start_time": "2024-03-05T17:27:02.420Z"
   },
   {
    "duration": 67,
    "start_time": "2024-03-05T17:27:02.454Z"
   },
   {
    "duration": 39,
    "start_time": "2024-03-05T17:27:02.523Z"
   },
   {
    "duration": 30,
    "start_time": "2024-03-05T17:27:02.564Z"
   },
   {
    "duration": 51,
    "start_time": "2024-03-05T17:27:02.596Z"
   },
   {
    "duration": 3,
    "start_time": "2024-03-05T17:27:02.649Z"
   },
   {
    "duration": 32,
    "start_time": "2024-03-05T17:27:02.654Z"
   },
   {
    "duration": 19,
    "start_time": "2024-03-05T17:27:02.688Z"
   },
   {
    "duration": 27,
    "start_time": "2024-03-05T17:27:02.709Z"
   },
   {
    "duration": 27,
    "start_time": "2024-03-05T17:27:02.738Z"
   },
   {
    "duration": 30,
    "start_time": "2024-03-05T17:27:02.767Z"
   },
   {
    "duration": 124,
    "start_time": "2024-03-05T17:27:02.798Z"
   },
   {
    "duration": 231,
    "start_time": "2024-03-05T17:27:02.924Z"
   },
   {
    "duration": 460,
    "start_time": "2024-03-05T17:27:03.157Z"
   },
   {
    "duration": 16,
    "start_time": "2024-03-05T17:27:03.619Z"
   },
   {
    "duration": 113,
    "start_time": "2024-03-05T17:27:03.637Z"
   },
   {
    "duration": 11,
    "start_time": "2024-03-05T17:27:03.752Z"
   },
   {
    "duration": 131,
    "start_time": "2024-03-05T17:27:03.779Z"
   },
   {
    "duration": 19,
    "start_time": "2024-03-05T17:27:03.911Z"
   },
   {
    "duration": 143,
    "start_time": "2024-03-05T17:27:03.932Z"
   },
   {
    "duration": 10,
    "start_time": "2024-03-05T17:27:04.079Z"
   },
   {
    "duration": 40,
    "start_time": "2024-03-05T17:27:04.091Z"
   },
   {
    "duration": 151,
    "start_time": "2024-03-05T17:27:04.132Z"
   },
   {
    "duration": 16,
    "start_time": "2024-03-05T17:27:04.285Z"
   },
   {
    "duration": 18,
    "start_time": "2024-03-05T17:27:04.302Z"
   },
   {
    "duration": 176,
    "start_time": "2024-03-05T17:27:04.322Z"
   },
   {
    "duration": 18,
    "start_time": "2024-03-05T17:27:04.500Z"
   },
   {
    "duration": 134,
    "start_time": "2024-03-05T17:27:04.520Z"
   },
   {
    "duration": 12,
    "start_time": "2024-03-05T17:27:04.657Z"
   },
   {
    "duration": 128,
    "start_time": "2024-03-05T17:27:04.680Z"
   },
   {
    "duration": 5,
    "start_time": "2024-03-05T17:27:04.810Z"
   },
   {
    "duration": 17,
    "start_time": "2024-03-05T17:27:04.816Z"
   },
   {
    "duration": 4,
    "start_time": "2024-03-05T17:29:21.126Z"
   },
   {
    "duration": 10,
    "start_time": "2024-03-05T17:29:23.293Z"
   },
   {
    "duration": 3,
    "start_time": "2024-03-05T17:29:49.014Z"
   },
   {
    "duration": 19,
    "start_time": "2024-03-05T17:36:09.626Z"
   },
   {
    "duration": 11,
    "start_time": "2024-03-05T17:36:23.098Z"
   },
   {
    "duration": 6,
    "start_time": "2024-03-05T17:36:36.026Z"
   },
   {
    "duration": 8,
    "start_time": "2024-03-05T17:36:54.842Z"
   },
   {
    "duration": 8,
    "start_time": "2024-03-05T17:37:15.441Z"
   },
   {
    "duration": 50,
    "start_time": "2024-03-06T14:09:18.259Z"
   },
   {
    "duration": 6,
    "start_time": "2024-03-06T14:09:18.942Z"
   },
   {
    "duration": 683,
    "start_time": "2024-03-06T14:09:22.555Z"
   },
   {
    "duration": 25,
    "start_time": "2024-03-06T14:09:23.240Z"
   },
   {
    "duration": 17,
    "start_time": "2024-03-06T14:09:23.266Z"
   },
   {
    "duration": 11,
    "start_time": "2024-03-06T14:09:23.285Z"
   },
   {
    "duration": 10,
    "start_time": "2024-03-06T14:09:23.298Z"
   },
   {
    "duration": 43,
    "start_time": "2024-03-06T14:09:23.323Z"
   },
   {
    "duration": 4,
    "start_time": "2024-03-06T14:09:23.368Z"
   },
   {
    "duration": 28,
    "start_time": "2024-03-06T14:09:23.374Z"
   },
   {
    "duration": 22,
    "start_time": "2024-03-06T14:09:23.404Z"
   },
   {
    "duration": 7,
    "start_time": "2024-03-06T14:09:23.430Z"
   },
   {
    "duration": 11,
    "start_time": "2024-03-06T14:09:23.438Z"
   },
   {
    "duration": 43,
    "start_time": "2024-03-06T14:09:23.451Z"
   },
   {
    "duration": 12,
    "start_time": "2024-03-06T14:09:23.495Z"
   },
   {
    "duration": 16,
    "start_time": "2024-03-06T14:09:23.509Z"
   },
   {
    "duration": 18,
    "start_time": "2024-03-06T14:09:23.527Z"
   },
   {
    "duration": 30,
    "start_time": "2024-03-06T14:09:23.547Z"
   },
   {
    "duration": 19,
    "start_time": "2024-03-06T14:09:23.579Z"
   },
   {
    "duration": 23,
    "start_time": "2024-03-06T14:09:23.600Z"
   },
   {
    "duration": 31,
    "start_time": "2024-03-06T14:09:23.625Z"
   },
   {
    "duration": 8,
    "start_time": "2024-03-06T14:09:23.658Z"
   },
   {
    "duration": 4,
    "start_time": "2024-03-06T14:09:23.668Z"
   },
   {
    "duration": 15,
    "start_time": "2024-03-06T14:09:23.674Z"
   },
   {
    "duration": 22,
    "start_time": "2024-03-06T14:09:23.690Z"
   },
   {
    "duration": 5,
    "start_time": "2024-03-06T14:09:23.713Z"
   },
   {
    "duration": 15,
    "start_time": "2024-03-06T14:09:23.720Z"
   },
   {
    "duration": 569,
    "start_time": "2024-03-06T14:09:23.737Z"
   },
   {
    "duration": 31,
    "start_time": "2024-03-06T14:09:24.309Z"
   },
   {
    "duration": 124,
    "start_time": "2024-03-06T14:09:24.345Z"
   },
   {
    "duration": 14,
    "start_time": "2024-03-06T14:09:24.471Z"
   },
   {
    "duration": 165,
    "start_time": "2024-03-06T14:09:24.487Z"
   },
   {
    "duration": 22,
    "start_time": "2024-03-06T14:09:24.654Z"
   },
   {
    "duration": 147,
    "start_time": "2024-03-06T14:09:24.678Z"
   },
   {
    "duration": 14,
    "start_time": "2024-03-06T14:09:24.827Z"
   },
   {
    "duration": 33,
    "start_time": "2024-03-06T14:09:24.843Z"
   },
   {
    "duration": 295,
    "start_time": "2024-03-06T14:09:24.877Z"
   },
   {
    "duration": 17,
    "start_time": "2024-03-06T14:09:25.174Z"
   },
   {
    "duration": 26,
    "start_time": "2024-03-06T14:09:25.193Z"
   },
   {
    "duration": 123,
    "start_time": "2024-03-06T14:09:25.222Z"
   },
   {
    "duration": 20,
    "start_time": "2024-03-06T14:09:25.347Z"
   },
   {
    "duration": 159,
    "start_time": "2024-03-06T14:09:25.368Z"
   },
   {
    "duration": 14,
    "start_time": "2024-03-06T14:09:25.529Z"
   },
   {
    "duration": 160,
    "start_time": "2024-03-06T14:09:25.545Z"
   },
   {
    "duration": 16,
    "start_time": "2024-03-06T14:09:25.707Z"
   },
   {
    "duration": 5,
    "start_time": "2024-03-06T14:09:25.725Z"
   },
   {
    "duration": 23,
    "start_time": "2024-03-06T14:09:25.732Z"
   },
   {
    "duration": 19,
    "start_time": "2024-03-06T14:10:00.159Z"
   },
   {
    "duration": 169,
    "start_time": "2024-03-06T14:10:00.662Z"
   },
   {
    "duration": 17,
    "start_time": "2024-03-06T14:10:07.334Z"
   },
   {
    "duration": 17,
    "start_time": "2024-03-06T14:10:42.606Z"
   },
   {
    "duration": 17,
    "start_time": "2024-03-06T14:11:10.071Z"
   },
   {
    "duration": 17,
    "start_time": "2024-03-06T14:11:19.223Z"
   },
   {
    "duration": 502,
    "start_time": "2024-03-06T14:29:28.787Z"
   },
   {
    "duration": 25,
    "start_time": "2024-03-06T14:29:29.290Z"
   },
   {
    "duration": 21,
    "start_time": "2024-03-06T14:29:29.317Z"
   },
   {
    "duration": 12,
    "start_time": "2024-03-06T14:29:29.341Z"
   },
   {
    "duration": 30,
    "start_time": "2024-03-06T14:29:29.355Z"
   },
   {
    "duration": 50,
    "start_time": "2024-03-06T14:29:29.387Z"
   },
   {
    "duration": 4,
    "start_time": "2024-03-06T14:29:29.439Z"
   },
   {
    "duration": 13,
    "start_time": "2024-03-06T14:29:29.445Z"
   },
   {
    "duration": 7,
    "start_time": "2024-03-06T14:29:29.459Z"
   },
   {
    "duration": 8,
    "start_time": "2024-03-06T14:29:29.470Z"
   },
   {
    "duration": 6,
    "start_time": "2024-03-06T14:29:29.479Z"
   },
   {
    "duration": 43,
    "start_time": "2024-03-06T14:29:29.522Z"
   },
   {
    "duration": 11,
    "start_time": "2024-03-06T14:29:29.566Z"
   },
   {
    "duration": 8,
    "start_time": "2024-03-06T14:29:29.579Z"
   },
   {
    "duration": 17,
    "start_time": "2024-03-06T14:29:29.589Z"
   },
   {
    "duration": 22,
    "start_time": "2024-03-06T14:29:29.622Z"
   },
   {
    "duration": 19,
    "start_time": "2024-03-06T14:29:29.645Z"
   },
   {
    "duration": 3,
    "start_time": "2024-03-06T14:29:29.666Z"
   },
   {
    "duration": 15,
    "start_time": "2024-03-06T14:29:29.671Z"
   },
   {
    "duration": 7,
    "start_time": "2024-03-06T14:29:29.688Z"
   },
   {
    "duration": 28,
    "start_time": "2024-03-06T14:29:29.696Z"
   },
   {
    "duration": 16,
    "start_time": "2024-03-06T14:29:29.726Z"
   },
   {
    "duration": 6,
    "start_time": "2024-03-06T14:29:29.744Z"
   },
   {
    "duration": 9,
    "start_time": "2024-03-06T14:29:29.751Z"
   },
   {
    "duration": 13,
    "start_time": "2024-03-06T14:29:29.762Z"
   },
   {
    "duration": 398,
    "start_time": "2024-03-06T14:29:29.777Z"
   },
   {
    "duration": 19,
    "start_time": "2024-03-06T14:29:30.176Z"
   },
   {
    "duration": 166,
    "start_time": "2024-03-06T14:29:30.198Z"
   },
   {
    "duration": 12,
    "start_time": "2024-03-06T14:29:30.366Z"
   },
   {
    "duration": 193,
    "start_time": "2024-03-06T14:29:30.380Z"
   },
   {
    "duration": 31,
    "start_time": "2024-03-06T14:29:30.574Z"
   },
   {
    "duration": 167,
    "start_time": "2024-03-06T14:29:30.607Z"
   },
   {
    "duration": 137,
    "start_time": "2024-03-06T14:29:30.775Z"
   },
   {
    "duration": 153,
    "start_time": "2024-03-06T14:29:30.914Z"
   },
   {
    "duration": 188,
    "start_time": "2024-03-06T14:29:31.069Z"
   },
   {
    "duration": 18,
    "start_time": "2024-03-06T14:29:31.259Z"
   },
   {
    "duration": 62,
    "start_time": "2024-03-06T14:29:31.278Z"
   },
   {
    "duration": 282,
    "start_time": "2024-03-06T14:29:31.341Z"
   },
   {
    "duration": 19,
    "start_time": "2024-03-06T14:29:31.625Z"
   },
   {
    "duration": 180,
    "start_time": "2024-03-06T14:29:31.645Z"
   },
   {
    "duration": 20,
    "start_time": "2024-03-06T14:29:31.828Z"
   },
   {
    "duration": 210,
    "start_time": "2024-03-06T14:29:31.849Z"
   },
   {
    "duration": 6,
    "start_time": "2024-03-06T14:29:32.061Z"
   },
   {
    "duration": 132,
    "start_time": "2024-03-06T14:29:32.068Z"
   },
   {
    "duration": 524,
    "start_time": "2024-03-06T17:27:37.875Z"
   },
   {
    "duration": 27,
    "start_time": "2024-03-06T17:27:38.401Z"
   },
   {
    "duration": 18,
    "start_time": "2024-03-06T17:27:38.429Z"
   },
   {
    "duration": 14,
    "start_time": "2024-03-06T17:27:38.449Z"
   },
   {
    "duration": 7,
    "start_time": "2024-03-06T17:27:38.465Z"
   },
   {
    "duration": 61,
    "start_time": "2024-03-06T17:27:38.473Z"
   },
   {
    "duration": 4,
    "start_time": "2024-03-06T17:27:38.536Z"
   },
   {
    "duration": 9,
    "start_time": "2024-03-06T17:27:38.541Z"
   },
   {
    "duration": 16,
    "start_time": "2024-03-06T17:27:38.552Z"
   },
   {
    "duration": 27,
    "start_time": "2024-03-06T17:27:38.572Z"
   },
   {
    "duration": 5,
    "start_time": "2024-03-06T17:27:38.601Z"
   },
   {
    "duration": 33,
    "start_time": "2024-03-06T17:27:38.607Z"
   },
   {
    "duration": 9,
    "start_time": "2024-03-06T17:27:38.641Z"
   },
   {
    "duration": 3,
    "start_time": "2024-03-06T17:27:38.652Z"
   },
   {
    "duration": 14,
    "start_time": "2024-03-06T17:27:38.656Z"
   },
   {
    "duration": 41,
    "start_time": "2024-03-06T17:27:38.672Z"
   },
   {
    "duration": 18,
    "start_time": "2024-03-06T17:27:38.714Z"
   },
   {
    "duration": 4,
    "start_time": "2024-03-06T17:27:38.734Z"
   },
   {
    "duration": 10,
    "start_time": "2024-03-06T17:27:38.739Z"
   },
   {
    "duration": 7,
    "start_time": "2024-03-06T17:27:38.750Z"
   },
   {
    "duration": 3,
    "start_time": "2024-03-06T17:27:38.759Z"
   },
   {
    "duration": 42,
    "start_time": "2024-03-06T17:27:38.763Z"
   },
   {
    "duration": 4,
    "start_time": "2024-03-06T17:27:38.807Z"
   },
   {
    "duration": 4,
    "start_time": "2024-03-06T17:27:38.812Z"
   },
   {
    "duration": 11,
    "start_time": "2024-03-06T17:27:38.817Z"
   },
   {
    "duration": 551,
    "start_time": "2024-03-06T17:27:38.830Z"
   },
   {
    "duration": 23,
    "start_time": "2024-03-06T17:27:39.383Z"
   },
   {
    "duration": 117,
    "start_time": "2024-03-06T17:27:39.409Z"
   },
   {
    "duration": 11,
    "start_time": "2024-03-06T17:27:39.528Z"
   },
   {
    "duration": 137,
    "start_time": "2024-03-06T17:27:39.541Z"
   },
   {
    "duration": 28,
    "start_time": "2024-03-06T17:27:39.680Z"
   },
   {
    "duration": 111,
    "start_time": "2024-03-06T17:27:39.709Z"
   },
   {
    "duration": 10,
    "start_time": "2024-03-06T17:27:39.821Z"
   },
   {
    "duration": 26,
    "start_time": "2024-03-06T17:27:39.833Z"
   },
   {
    "duration": 225,
    "start_time": "2024-03-06T17:27:39.860Z"
   },
   {
    "duration": 21,
    "start_time": "2024-03-06T17:27:40.087Z"
   },
   {
    "duration": 10,
    "start_time": "2024-03-06T17:27:40.110Z"
   },
   {
    "duration": 124,
    "start_time": "2024-03-06T17:27:40.121Z"
   },
   {
    "duration": 17,
    "start_time": "2024-03-06T17:27:40.246Z"
   },
   {
    "duration": 135,
    "start_time": "2024-03-06T17:27:40.264Z"
   },
   {
    "duration": 11,
    "start_time": "2024-03-06T17:27:40.401Z"
   },
   {
    "duration": 147,
    "start_time": "2024-03-06T17:27:40.414Z"
   },
   {
    "duration": 5,
    "start_time": "2024-03-06T17:27:40.562Z"
   },
   {
    "duration": 5,
    "start_time": "2024-03-06T17:27:40.568Z"
   },
   {
    "duration": 474,
    "start_time": "2024-03-06T17:30:15.029Z"
   },
   {
    "duration": 21,
    "start_time": "2024-03-06T17:30:15.504Z"
   },
   {
    "duration": 15,
    "start_time": "2024-03-06T17:30:15.527Z"
   },
   {
    "duration": 11,
    "start_time": "2024-03-06T17:30:15.545Z"
   },
   {
    "duration": 5,
    "start_time": "2024-03-06T17:30:15.558Z"
   },
   {
    "duration": 63,
    "start_time": "2024-03-06T17:30:15.565Z"
   },
   {
    "duration": 3,
    "start_time": "2024-03-06T17:30:15.629Z"
   },
   {
    "duration": 9,
    "start_time": "2024-03-06T17:30:15.633Z"
   },
   {
    "duration": 4,
    "start_time": "2024-03-06T17:30:15.643Z"
   },
   {
    "duration": 5,
    "start_time": "2024-03-06T17:30:15.651Z"
   },
   {
    "duration": 4,
    "start_time": "2024-03-06T17:30:15.658Z"
   },
   {
    "duration": 63,
    "start_time": "2024-03-06T17:30:15.663Z"
   },
   {
    "duration": 10,
    "start_time": "2024-03-06T17:30:15.727Z"
   },
   {
    "duration": 3,
    "start_time": "2024-03-06T17:30:15.739Z"
   },
   {
    "duration": 15,
    "start_time": "2024-03-06T17:30:15.743Z"
   },
   {
    "duration": 22,
    "start_time": "2024-03-06T17:30:15.759Z"
   },
   {
    "duration": 32,
    "start_time": "2024-03-06T17:30:15.782Z"
   },
   {
    "duration": 3,
    "start_time": "2024-03-06T17:30:15.816Z"
   },
   {
    "duration": 17,
    "start_time": "2024-03-06T17:30:15.821Z"
   },
   {
    "duration": 6,
    "start_time": "2024-03-06T17:30:15.840Z"
   },
   {
    "duration": 3,
    "start_time": "2024-03-06T17:30:15.848Z"
   },
   {
    "duration": 10,
    "start_time": "2024-03-06T17:30:15.853Z"
   },
   {
    "duration": 18,
    "start_time": "2024-03-06T17:30:15.865Z"
   },
   {
    "duration": 5,
    "start_time": "2024-03-06T17:30:15.900Z"
   },
   {
    "duration": 13,
    "start_time": "2024-03-06T17:30:15.907Z"
   },
   {
    "duration": 438,
    "start_time": "2024-03-06T17:30:15.922Z"
   },
   {
    "duration": 17,
    "start_time": "2024-03-06T17:30:16.362Z"
   },
   {
    "duration": 119,
    "start_time": "2024-03-06T17:30:16.383Z"
   },
   {
    "duration": 16,
    "start_time": "2024-03-06T17:30:16.504Z"
   },
   {
    "duration": 141,
    "start_time": "2024-03-06T17:30:16.522Z"
   },
   {
    "duration": 20,
    "start_time": "2024-03-06T17:30:16.664Z"
   },
   {
    "duration": 117,
    "start_time": "2024-03-06T17:30:16.685Z"
   },
   {
    "duration": 9,
    "start_time": "2024-03-06T17:30:16.804Z"
   },
   {
    "duration": 25,
    "start_time": "2024-03-06T17:30:16.814Z"
   },
   {
    "duration": 185,
    "start_time": "2024-03-06T17:30:16.840Z"
   },
   {
    "duration": 15,
    "start_time": "2024-03-06T17:30:17.027Z"
   },
   {
    "duration": 10,
    "start_time": "2024-03-06T17:30:17.043Z"
   },
   {
    "duration": 179,
    "start_time": "2024-03-06T17:30:17.054Z"
   },
   {
    "duration": 18,
    "start_time": "2024-03-06T17:30:17.234Z"
   },
   {
    "duration": 132,
    "start_time": "2024-03-06T17:30:17.254Z"
   },
   {
    "duration": 21,
    "start_time": "2024-03-06T17:30:17.388Z"
   },
   {
    "duration": 138,
    "start_time": "2024-03-06T17:30:17.410Z"
   },
   {
    "duration": 5,
    "start_time": "2024-03-06T17:30:17.549Z"
   },
   {
    "duration": 4,
    "start_time": "2024-03-06T17:30:17.556Z"
   },
   {
    "duration": 466,
    "start_time": "2024-03-06T19:26:57.449Z"
   },
   {
    "duration": 23,
    "start_time": "2024-03-06T19:26:57.917Z"
   },
   {
    "duration": 15,
    "start_time": "2024-03-06T19:26:57.941Z"
   },
   {
    "duration": 10,
    "start_time": "2024-03-06T19:26:57.957Z"
   },
   {
    "duration": 8,
    "start_time": "2024-03-06T19:26:57.968Z"
   },
   {
    "duration": 53,
    "start_time": "2024-03-06T19:26:57.977Z"
   },
   {
    "duration": 4,
    "start_time": "2024-03-06T19:26:58.031Z"
   },
   {
    "duration": 9,
    "start_time": "2024-03-06T19:26:58.037Z"
   },
   {
    "duration": 4,
    "start_time": "2024-03-06T19:26:58.048Z"
   },
   {
    "duration": 9,
    "start_time": "2024-03-06T19:26:58.056Z"
   },
   {
    "duration": 33,
    "start_time": "2024-03-06T19:26:58.067Z"
   },
   {
    "duration": 35,
    "start_time": "2024-03-06T19:26:58.102Z"
   },
   {
    "duration": 11,
    "start_time": "2024-03-06T19:26:58.139Z"
   },
   {
    "duration": 4,
    "start_time": "2024-03-06T19:26:58.151Z"
   },
   {
    "duration": 14,
    "start_time": "2024-03-06T19:26:58.156Z"
   },
   {
    "duration": 45,
    "start_time": "2024-03-06T19:26:58.172Z"
   },
   {
    "duration": 17,
    "start_time": "2024-03-06T19:26:58.218Z"
   },
   {
    "duration": 3,
    "start_time": "2024-03-06T19:26:58.237Z"
   },
   {
    "duration": 11,
    "start_time": "2024-03-06T19:26:58.242Z"
   },
   {
    "duration": 8,
    "start_time": "2024-03-06T19:26:58.254Z"
   },
   {
    "duration": 3,
    "start_time": "2024-03-06T19:26:58.264Z"
   },
   {
    "duration": 35,
    "start_time": "2024-03-06T19:26:58.268Z"
   },
   {
    "duration": 5,
    "start_time": "2024-03-06T19:26:58.304Z"
   },
   {
    "duration": 5,
    "start_time": "2024-03-06T19:26:58.311Z"
   },
   {
    "duration": 16,
    "start_time": "2024-03-06T19:26:58.317Z"
   },
   {
    "duration": 404,
    "start_time": "2024-03-06T19:26:58.335Z"
   },
   {
    "duration": 17,
    "start_time": "2024-03-06T19:26:58.741Z"
   },
   {
    "duration": 116,
    "start_time": "2024-03-06T19:26:58.760Z"
   },
   {
    "duration": 29,
    "start_time": "2024-03-06T19:26:58.878Z"
   },
   {
    "duration": 146,
    "start_time": "2024-03-06T19:26:58.908Z"
   },
   {
    "duration": 20,
    "start_time": "2024-03-06T19:26:59.056Z"
   },
   {
    "duration": 122,
    "start_time": "2024-03-06T19:26:59.077Z"
   },
   {
    "duration": 10,
    "start_time": "2024-03-06T19:26:59.201Z"
   },
   {
    "duration": 27,
    "start_time": "2024-03-06T19:26:59.212Z"
   },
   {
    "duration": 178,
    "start_time": "2024-03-06T19:26:59.241Z"
   },
   {
    "duration": 17,
    "start_time": "2024-03-06T19:26:59.421Z"
   },
   {
    "duration": 10,
    "start_time": "2024-03-06T19:26:59.440Z"
   },
   {
    "duration": 196,
    "start_time": "2024-03-06T19:26:59.451Z"
   },
   {
    "duration": 19,
    "start_time": "2024-03-06T19:26:59.648Z"
   },
   {
    "duration": 149,
    "start_time": "2024-03-06T19:26:59.669Z"
   },
   {
    "duration": 13,
    "start_time": "2024-03-06T19:26:59.820Z"
   },
   {
    "duration": 151,
    "start_time": "2024-03-06T19:26:59.834Z"
   },
   {
    "duration": 13,
    "start_time": "2024-03-06T19:26:59.987Z"
   },
   {
    "duration": 4,
    "start_time": "2024-03-06T19:27:00.002Z"
   }
  ],
  "colab": {
   "name": "dpp_template_part2.ipynb",
   "provenance": []
  },
  "kernelspec": {
   "display_name": "Python 3 (ipykernel)",
   "language": "python",
   "name": "python3"
  },
  "language_info": {
   "codemirror_mode": {
    "name": "ipython",
    "version": 3
   },
   "file_extension": ".py",
   "mimetype": "text/x-python",
   "name": "python",
   "nbconvert_exporter": "python",
   "pygments_lexer": "ipython3",
   "version": "3.9.5"
  },
  "toc": {
   "base_numbering": 1,
   "nav_menu": {},
   "number_sections": true,
   "sideBar": true,
   "skip_h1_title": true,
   "title_cell": "Оглавление",
   "title_sidebar": "Contents",
   "toc_cell": true,
   "toc_position": {
    "height": "calc(100% - 180px)",
    "left": "10px",
    "top": "150px",
    "width": "264.5px"
   },
   "toc_section_display": true,
   "toc_window_display": true
  }
 },
 "nbformat": 4,
 "nbformat_minor": 5
}
